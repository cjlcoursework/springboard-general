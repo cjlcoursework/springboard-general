{
 "cells": [
  {
   "cell_type": "code",
   "execution_count": 93,
   "metadata": {
    "collapsed": true
   },
   "outputs": [],
   "source": [
    "import math\n",
    "import io\n",
    "import random\n",
    "\n",
    "import matplotlib.pyplot as plt\n",
    "import numpy as np\n",
    "import pandas as pd\n",
    "import seaborn as sns\n",
    "from itertools import product, combinations\n",
    "import matplotlib\n",
    "import matplotlib.pyplot as pp\n"
   ]
  },
  {
   "cell_type": "markdown",
   "source": [
    "#### visualize permutation sampling"
   ],
   "metadata": {
    "collapsed": false
   }
  },
  {
   "cell_type": "code",
   "execution_count": 94,
   "outputs": [],
   "source": [
    "rain_june = np.array([66.2, 39.7, 76.4, 26.5, 11.2, 61.8, 6.1, 48.4, 89.2,\n",
    "                      104., 34., 60.6, 57.1, 79.1, 90.9, 32.3, 63.8, 78.2,\n",
    "                      27.5, 43.4, 30.1, 17.3, 77.5, 44.9, 92.2, 39.6, 79.4,\n",
    "                      66.1, 53.5, 98.5, 20.8, 55.5, 39.6, 56., 65.1, 14.8,\n",
    "                      13.2, 88.1, 8.4, 32.1, 19.6, 40.4, 2.2, 77.5, 105.4,\n",
    "                      77.2, 38., 27.1, 111.8, 17.2, 26.7, 23.3, 77.2, 87.2,\n",
    "                      27.7, 50.6, 60.3, 15.1, 6., 29.4, 39.3, 56.3, 80.4,\n",
    "                      85.3, 68.4, 72.5, 13.3, 28.4, 14.7, 37.4, 49.5, 57.2,\n",
    "                      85.9, 82.1, 31.8, 126.6, 30.7, 41.4, 33.9, 13.5, 99.1,\n",
    "                      70.2, 91.8, 61.3, 13.7, 54.9, 62.5, 24.2, 69.4, 83.1,\n",
    "                      44., 48.5, 11.9, 16.6, 66.4, 90., 34.9, 132.8, 33.4,\n",
    "                      225., 7.6, 40.9, 76.5, 48., 140., 55.9, 54.1, 46.4,\n",
    "                      68.6, 52.2, 108.3, 14.6, 11.3, 29.8, 130.9, 152.4, 61.,\n",
    "                      46.6, 43.9, 30.9, 111.1, 68.5, 42.2, 9.8, 285.6, 56.7,\n",
    "                      168.2, 41.2, 47.8, 166.6, 37.8, 45.4, 43.2])\n",
    "\n",
    "rain_november = np.array([83.6, 30.9, 62.2, 37., 41., 160.2, 18.2, 122.4, 71.3,\n",
    "                          44.2, 49.1, 37.6, 114.5, 28.8, 82.5, 71.9, 50.7, 67.7,\n",
    "                          112., 63.6, 42.8, 57.2, 99.1, 86.4, 84.4, 38.1, 17.7,\n",
    "                          102.2, 101.3, 58., 82., 101.4, 81.4, 100.1, 54.6, 39.6,\n",
    "                          57.5, 29.2, 48.8, 37.3, 115.4, 55.6, 62., 95., 84.2,\n",
    "                          118.1, 153.2, 83.4, 104.7, 59., 46.4, 50., 147.6, 76.8,\n",
    "                          59.9, 101.8, 136.6, 173., 92.5, 37., 59.8, 142.1, 9.9,\n",
    "                          158.2, 72.6, 28., 112.9, 119.3, 199.2, 50.7, 44., 170.7,\n",
    "                          67.2, 21.4, 61.3, 15.6, 106., 116.2, 42.3, 38.5, 132.5,\n",
    "                          40.8, 147.5, 93.9, 71.4, 87.3, 163.7, 141.4, 62.6, 84.9,\n",
    "                          28.8, 121.1, 28.6, 32.4, 112., 50., 96.9, 81.8, 70.4,\n",
    "                          117.5, 41.2, 124.9, 78.2, 93., 53.5, 50.5, 42.6, 47.9,\n",
    "                          73.1, 129.1, 56.9, 103.3, 60.5, 134.3, 93.1, 49.5, 48.2,\n",
    "                          167.9, 27., 111.1, 55.4, 36.2, 57.4, 66.8, 58.3, 60.,\n",
    "                          161.6, 112.7, 37.4, 110.6, 56.6, 95.8, 126.8])\n"
   ],
   "metadata": {
    "collapsed": false
   }
  },
  {
   "cell_type": "markdown",
   "source": [
    "##### functions for permutation of two arrays and then randomly splitting into two mixed arrays"
   ],
   "metadata": {
    "collapsed": false
   }
  },
  {
   "cell_type": "code",
   "execution_count": 95,
   "outputs": [],
   "source": [
    "def ecdf(data):\n",
    "    \"\"\"Compute ECDF for a one-dimensional array of measurements.\"\"\"\n",
    "    # Number of data points: n\n",
    "    n = len(data)\n",
    "\n",
    "    # x-data for the ECDF: x\n",
    "    x = np.sort(data)\n",
    "\n",
    "    # y-data for the ECDF: y\n",
    "    y = np.arange(1, n + 1) / n\n",
    "\n",
    "    return x, y\n",
    "\n",
    "\n",
    "# create a permutation of two datasets\n",
    "def permutation_sample(data1, data2):\n",
    "    \"\"\"Generate a permutation sample from two data sets.\"\"\"\n",
    "\n",
    "    # Concatenate the data sets: data\n",
    "    data = np.concatenate((data1, data2))\n",
    "\n",
    "    # Permute the concatenated array: permuted_data\n",
    "    permuted_data = np.random.permutation(data)\n",
    "\n",
    "    # Split the permuted array into two: perm_sample_1, perm_sample_2\n",
    "    perm_sample_1 = permuted_data[:len(data1)]\n",
    "    perm_sample_2 = permuted_data[len(data1):]\n",
    "\n",
    "    return perm_sample_1, perm_sample_2\n",
    "\n",
    "\n",
    "\n",
    "def draw_perm_reps(data_1, data_2, func, size=1):\n",
    "    \"\"\"Generate multiple permutation replicates.\"\"\"\n",
    "\n",
    "    # Initialize array of replicates: perm_replicates\n",
    "    perm_replicates = np.empty(size)\n",
    "\n",
    "    for i in range(size):\n",
    "        # Generate permutation sample - mix these two together and split again\n",
    "        perm_sample_1, perm_sample_2 = permutation_sample(data1=data_1, data2=data_2)\n",
    "\n",
    "        # Compute the test statistic\n",
    "        perm_replicates[i] = func(perm_sample_1, perm_sample_2)\n",
    "\n",
    "    return perm_replicates"
   ],
   "metadata": {
    "collapsed": false
   }
  },
  {
   "cell_type": "markdown",
   "source": [
    "##### plot 50 permutations of the"
   ],
   "metadata": {
    "collapsed": false
   }
  },
  {
   "cell_type": "code",
   "execution_count": 96,
   "outputs": [
    {
     "data": {
      "text/plain": "<Figure size 432x288 with 1 Axes>",
      "image/png": "[encoded data removed]"
     },
     "metadata": {
      "needs_background": "light"
     },
     "output_type": "display_data"
    }
   ],
   "source": [
    "\n",
    "for _ in range(50):\n",
    "    # Generate permutation samples\n",
    "    perm_sample_1, perm_sample_2 = permutation_sample(rain_june, rain_november)\n",
    "\n",
    "    # Compute ECDFs\n",
    "    x_1, y_1 = ecdf(perm_sample_1)\n",
    "    x_2, y_2 = ecdf(perm_sample_2)\n",
    "\n",
    "    # Plot ECDFs of permutation sample\n",
    "    _ = plt.plot(x_1, y_1, marker='.', linestyle='none',\n",
    "                 color='green', alpha=0.02)\n",
    "    _ = plt.plot(x_2, y_2, marker='.', linestyle='none',\n",
    "                 color='purple', alpha=0.02)\n",
    "\n",
    "# Create and plot ECDFs from original data\n",
    "x_1, y_1 = ecdf(rain_june)\n",
    "x_2, y_2 = ecdf(rain_november)\n",
    "_ = plt.plot(x_1, y_1, marker='.', linestyle='none', color='red')\n",
    "_ = plt.plot(x_2, y_2, marker='.', linestyle='none', color='blue')\n",
    "\n",
    "# Label axes, set margin, and show plot\n",
    "plt.margins(0.02)\n",
    "_ = plt.xlabel('monthly rainfall (mm)')\n",
    "_ = plt.ylabel('ECDF')\n",
    "plt.show()"
   ],
   "metadata": {
    "collapsed": false
   }
  },
  {
   "cell_type": "markdown",
   "source": [
    "The p-value is generally a measure of the probability of observing a test statistic equally or more extreme than the one you observed, given that the null hypothesis is true."
   ],
   "metadata": {
    "collapsed": false
   }
  },
  {
   "cell_type": "markdown",
   "source": [
    "As discussed in the video, a permutation replicate is a single value of a statistic computed from a permutation sample. As the draw_bs_reps() function you wrote in chapter 2 is useful for you to generate bootstrap replicates, it is useful to have a similar function, draw_perm_reps(), to generate permutation replicates. You will write this useful function in this exercise.\n",
    "\n",
    "The function has call signature draw_perm_reps(data_1, data_2, func, size=1). Importantly, func must be a function that takes two arrays as arguments. In most circumstances, func will be a function you write yourself."
   ],
   "metadata": {
    "collapsed": false
   }
  },
  {
   "cell_type": "code",
   "execution_count": 97,
   "outputs": [],
   "source": [
    "df = pd.DataFrame({'ID': {20: 'A',\n",
    "        21: 'A',\n",
    "        22: 'A',\n",
    "        23: 'A',\n",
    "        24: 'A',\n",
    "        25: 'A',\n",
    "        26: 'A',\n",
    "        27: 'A',\n",
    "        28: 'A',\n",
    "        29: 'A',\n",
    "        30: 'A',\n",
    "        31: 'A',\n",
    "        32: 'A',\n",
    "        33: 'A',\n",
    "        34: 'A',\n",
    "        35: 'A',\n",
    "        36: 'A',\n",
    "        37: 'A',\n",
    "        38: 'A',\n",
    "        39: 'A',\n",
    "        60: 'B',\n",
    "        61: 'B',\n",
    "        62: 'B',\n",
    "        63: 'B',\n",
    "        64: 'B',\n",
    "        65: 'B',\n",
    "        66: 'B',\n",
    "        67: 'B',\n",
    "        68: 'B',\n",
    "        69: 'B',\n",
    "        70: 'B',\n",
    "        71: 'B',\n",
    "        72: 'B',\n",
    "        73: 'B',\n",
    "        74: 'B',\n",
    "        75: 'B',\n",
    "        76: 'B',\n",
    "        77: 'B',\n",
    "        78: 'B',\n",
    "        79: 'B'},\n",
    " 'impact_force': {20: 1.612,\n",
    "                  21: 0.605,\n",
    "                  22: 0.327,\n",
    "                  23: 0.946,\n",
    "                  24: 0.541,\n",
    "                  25: 1.539,\n",
    "                  26: 0.529,\n",
    "                  27: 0.628,\n",
    "                  28: 1.453,\n",
    "                  29: 0.297,\n",
    "                  30: 0.703,\n",
    "                  31: 0.269,\n",
    "                  32: 0.751,\n",
    "                  33: 0.245,\n",
    "                  34: 1.182,\n",
    "                  35: 0.515,\n",
    "                  36: 0.435,\n",
    "                  37: 0.383,\n",
    "                  38: 0.457,\n",
    "                  39: 0.73,\n",
    "                  60: 0.172,\n",
    "                  61: 0.142,\n",
    "                  62: 0.037,\n",
    "                  63: 0.453,\n",
    "                  64: 0.355,\n",
    "                  65: 0.022,\n",
    "                  66: 0.502,\n",
    "                  67: 0.273,\n",
    "                  68: 0.72,\n",
    "                  69: 0.582,\n",
    "                  70: 0.198,\n",
    "                  71: 0.198,\n",
    "                  72: 0.597,\n",
    "                  73: 0.516,\n",
    "                  74: 0.815,\n",
    "                  75: 0.402,\n",
    "                  76: 0.605,\n",
    "                  77: 0.711,\n",
    "                  78: 0.614,\n",
    "                  79: 0.468}})\n"
   ],
   "metadata": {
    "collapsed": false
   }
  },
  {
   "cell_type": "code",
   "execution_count": 97,
   "outputs": [],
   "source": [],
   "metadata": {
    "collapsed": false
   }
  },
  {
   "cell_type": "code",
   "execution_count": 98,
   "outputs": [],
   "source": [
    "# The function has call signature draw_perm_reps(data_1, data_2, func, size=1). Importantly, func must be a function that takes two arrays as arguments. In most circumstances, func will be a function you write yourself.\n",
    "\n",
    "def draw_perm_reps(data_1, data_2, func, size=1):\n",
    "    \"\"\"Generate multiple permutation replicates.\"\"\"\n",
    "\n",
    "    # Initialize array of replicates: perm_replicates\n",
    "    perm_replicates = np.empty(size)\n",
    "\n",
    "    for i in range(size):\n",
    "        # Generate permutation sample - mix these two together and split again\n",
    "        perm_sample_1, perm_sample_2 = permutation_sample(data1=data_1, data2=data_2)\n",
    "\n",
    "        # Compute the test statistic\n",
    "        perm_replicates[i] = func(perm_sample_1, perm_sample_2)\n",
    "\n",
    "    return perm_replicates"
   ],
   "metadata": {
    "collapsed": false
   }
  },
  {
   "cell_type": "markdown",
   "source": [],
   "metadata": {
    "collapsed": false
   }
  },
  {
   "cell_type": "markdown",
   "source": [
    "Frog A is an adult and Frog B is a juvenile. The researchers measured the impact force of 20 strikes for each frog. In the next exercise, we will test the hypothesis that the two frogs have the same distribution of impact forces. But, remember, it is important to do EDA first! Let's make a bee swarm plot for the data. They are stored in a pandas DataFrame, df, where column ID is the identity of the frog and column impact_force is the impact force in Newtons (N)."
   ],
   "metadata": {
    "collapsed": false
   }
  },
  {
   "cell_type": "code",
   "execution_count": 99,
   "outputs": [
    {
     "data": {
      "text/plain": "<Figure size 432x288 with 1 Axes>",
      "image/png": "[encoded data removed]"
     },
     "metadata": {
      "needs_background": "light"
     },
     "output_type": "display_data"
    }
   ],
   "source": [
    "# Make bee swarm plot\n",
    "_ = sns.swarmplot(x='ID', y='impact_force', data=df)\n",
    "\n",
    "# Label axes\n",
    "_ = plt.xlabel('frog')\n",
    "_ = plt.ylabel('impact force (N)')\n",
    "\n",
    "# Show the plot\n",
    "plt.show()"
   ],
   "metadata": {
    "collapsed": false
   }
  },
  {
   "cell_type": "markdown",
   "source": [
    "Permutation test on frog data\n",
    "The average strike force of Frog A was 0.71 Newtons (N), and that of Frog B was 0.42 N for a difference of 0.29 N. It is possible the frogs strike with the same force and this observed difference was by chance. You will compute the probability of getting at least a 0.29 N difference in mean strike force under the hypothesis that the distributions of strike forces for the two frogs are identical. We use a permutation test with a test statistic of the difference of means to test this hypothesis.\n",
    "\n",
    "For your convenience, the data has been stored in the arrays force_a and force_b."
   ],
   "metadata": {
    "collapsed": false
   }
  },
  {
   "cell_type": "code",
   "execution_count": 100,
   "outputs": [],
   "source": [
    "force_a = np.array([1.612, 0.605, 0.327, 0.946, 0.541, 1.539, 0.529, 0.628, 1.453,\n",
    "       0.297, 0.703, 0.269, 0.751, 0.245, 1.182, 0.515, 0.435, 0.383,\n",
    "       0.457, 0.73 ])\n",
    "\n",
    "force_b = np.array([0.172, 0.142, 0.037, 0.453, 0.355, 0.022, 0.502, 0.273, 0.72 ,\n",
    "                    0.582, 0.198, 0.198, 0.597, 0.516, 0.815, 0.402, 0.605, 0.711,\n",
    "                    0.614, 0.468])"
   ],
   "metadata": {
    "collapsed": false
   }
  },
  {
   "cell_type": "code",
   "execution_count": 101,
   "outputs": [
    {
     "name": "stdout",
     "output_type": "stream",
     "text": [
      "p-value = 0.0067\n",
      "inverse p-value = 0.9933\n"
     ]
    }
   ],
   "source": [
    "def diff_of_means(data_1, data_2):\n",
    "    \"\"\"Difference in means of two arrays.\"\"\"\n",
    "\n",
    "    # The difference of means of data_1, data_2: diff\n",
    "    diff = data_1.mean() - data_2.mean()\n",
    "    return diff\n",
    "\n",
    "\n",
    "# Compute difference of mean impact force from experiment: empirical_diff_means\n",
    "empirical_diff_means = diff_of_means(force_a, force_b)\n",
    "\n",
    "# Draw 10,000 permutation replicates: perm_replicates\n",
    "perm_replicates = draw_perm_reps(force_a, force_b, func=diff_of_means, size=10000)\n",
    "\n",
    "# Compute p-value: p\n",
    "p = np.sum(perm_replicates >= empirical_diff_means) / len(perm_replicates)\n",
    "\n",
    "# Print the result\n",
    "print('p-value =', p)\n",
    "print('inverse p-value =', 1-p)"
   ],
   "metadata": {
    "collapsed": false
   }
  },
  {
   "cell_type": "markdown",
   "source": [
    "The p-value tells you that there is about a 0.6% chance that you would get the difference of means observed in the experiment if frogs were exactly the same.\n",
    "\n",
    "A p-value below 0.01 is typically said to be \"statistically significant,\"\n",
    "\n",
    "but: warning! warning! warning! You have computed a p-value; it is a number.\n",
    "\n",
    "I encourage you not to distill it to a yes-or-no phrase. p = 0.006 and p = 0.000000006 are both said to be \"statistically significant,\" but they are definitely not the same!"
   ],
   "metadata": {
    "collapsed": false
   }
  }
 ],
 "metadata": {
  "kernelspec": {
   "display_name": "Python 3",
   "language": "python",
   "name": "python3"
  },
  "language_info": {
   "codemirror_mode": {
    "name": "ipython",
    "version": 2
   },
   "file_extension": ".py",
   "mimetype": "text/x-python",
   "name": "python",
   "nbconvert_exporter": "python",
   "pygments_lexer": "ipython2",
   "version": "2.7.6"
  }
 },
 "nbformat": 4,
 "nbformat_minor": 0
}
