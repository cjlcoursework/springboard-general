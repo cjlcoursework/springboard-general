{
 "cells": [
  {
   "cell_type": "code",
   "execution_count": 1,
   "id": "initial_id",
   "metadata": {
    "collapsed": true,
    "ExecuteTime": {
     "end_time": "2023-09-12T20:03:13.681485Z",
     "start_time": "2023-09-12T20:03:13.607765Z"
    }
   },
   "outputs": [
    {
     "name": "stdout",
     "output_type": "stream",
     "text": [
      "1.5.3\n"
     ]
    }
   ],
   "source": [
    "import pandas as pd\n",
    "import numpy as np\n",
    "\n",
    "pd.options.display.float_format = '{:.2f}'.format\n",
    "print(pd.__version__)\n"
   ]
  },
  {
   "cell_type": "markdown",
   "source": [
    "<br/>\n",
    "\n",
    "<br/>"
   ],
   "metadata": {
    "collapsed": false
   },
   "id": "70db290b590f03c9"
  },
  {
   "cell_type": "markdown",
   "source": [
    "<div style=\"background-color: teal; padding: 10px;\">\n",
    "    <h3 style=\"color: white;\">Relax Data Science Challenge</h3>\n",
    "</div>\n",
    "\n",
    "Springboard Take Home Assignment"
   ],
   "metadata": {
    "collapsed": false
   },
   "id": "8090f6bbfc8ea2c6"
  },
  {
   "cell_type": "markdown",
   "source": [
    "## <font color=teal>Problem Statement</font>\n",
    "\n",
    "Overall, we want to gain more understanding of how and why users adopt a given service.  \n",
    "\n",
    "For this challenge, I'll focus on just the **adoption** approach outlined in the project instructions:  [Instrucions]('./relax_data_science_challenge.pdf')\n",
    "\n",
    "- Our goal is to determine which users have 'adopted' our service\n",
    "- In this project we define an adopted user (a user who has adopted our service) as : ```any user who logged in more than twice over any 7-day period``` \n",
    "- This could be refined to more specific periods, but for now we are just performing the 7-day adoption definition\n",
    "\n"
   ],
   "metadata": {
    "collapsed": false
   },
   "id": "aafb96b7030322b5"
  },
  {
   "cell_type": "markdown",
   "source": [
    "## <font color=teal>Scope and Constraints</font>\n",
    "\n",
    "##### Input data\n",
    "We are limited to two sets of data:\n",
    "1. A list of users, including name, email, organization, when they signed up, and how they signed up\n",
    "2. A list of each time each user logged into our system, incuding the timestamp of the session\n",
    "3. A set of instructions for the project:   [Instrucions]('./relax_data_science_challenge.pdf')\n",
    "\n",
    "\n",
    "##### Deliverables\n",
    "With this project we are creating:\n",
    "\n",
    "1. <font color=purple>user_activity_df</font> —this dataset joins user activity (takehome_user_engagement) extended with the 7-day rolling sum, to the user activity dataset (takehome_user)\n",
    "2. <font color=purple>adopting_users_df</font>  --this is just the users who had at least 3 logins in any 7-day period\n",
    "\n",
    "\n",
    "##### Constraints\n",
    "\n",
    "This project should be completed in 1-2 hours.   I'm giving it a half a day, but even with that, there's quite a bit more than one might do with this dataset, but I am limiting this exercise to less than 4-5 hours per instructions.\n",
    " \n",
    "- There are some interesting column factors that might correlate or even cause adoption, but for this 2-4 hour exercise I am only addressing the specific factor of login times in a 7 day window\n",
    "- In the real world, it would be interesting to map how the logins varied over the whole timeline.  Do users login a lot at first then peter out?  Are more recent login more important that old ogins?   \n",
    "- We are not factoring in the length of time a user has been a member, only whether they logged in 3 times or more during any 7-day period\n",
    "\n",
    "\n",
    "\n",
    "##### Questions and clarifications\n",
    "\n",
    "- The data has only one login for any user on any given day.  This is odd because for most applications, there should be cases where a user logged in more than once on a give day\n",
    "- There is some garbage in some of the text fields in takehome_users.csv that keeps it fraon loading using read_csv().  Rather than trying to find it and fixing, I just created a new textfile called takehome_users_clear.csv\n",
    "- There is some problem encoding special characters like 'ae' in takehome_users.csv name column.  I tried several different encodings, but it still shows up wrong at least in the Pandas display.  It should be fixed before making this a re-useable dataset\n"
   ],
   "metadata": {
    "collapsed": false
   },
   "id": "c240a02b949b4c5f"
  },
  {
   "cell_type": "markdown",
   "source": [
    "<br/>\n",
    "\n",
    "---\n",
    "\n",
    "<br/>"
   ],
   "metadata": {
    "collapsed": false
   },
   "id": "2bcf1b1ea32bb17c"
  },
  {
   "cell_type": "markdown",
   "source": [
    "\n",
    "<div style=\"background-color: teal; padding: 10px;\">\n",
    "    <h3 style=\"color: white;\">Read and characterize the activiy data</h3>\n",
    "</div>\n"
   ],
   "metadata": {
    "collapsed": false
   },
   "id": "d751257e8cfaccb8"
  },
  {
   "cell_type": "code",
   "execution_count": 41,
   "outputs": [
    {
     "data": {
      "text/plain": "           time_stamp  user_id  visited  login_date\n0 2014-04-22 03:53:30        1        1  2014-04-22\n1 2013-11-15 03:45:04        2        1  2013-11-15\n2 2013-11-29 03:45:04        2        1  2013-11-29\n3 2013-12-09 03:45:04        2        1  2013-12-09\n4 2013-12-25 03:45:04        2        1  2013-12-25",
      "text/html": "<div>\n<style scoped>\n    .dataframe tbody tr th:only-of-type {\n        vertical-align: middle;\n    }\n\n    .dataframe tbody tr th {\n        vertical-align: top;\n    }\n\n    .dataframe thead th {\n        text-align: right;\n    }\n</style>\n<table border=\"1\" class=\"dataframe\">\n  <thead>\n    <tr style=\"text-align: right;\">\n      <th></th>\n      <th>time_stamp</th>\n      <th>user_id</th>\n      <th>visited</th>\n      <th>login_date</th>\n    </tr>\n  </thead>\n  <tbody>\n    <tr>\n      <th>0</th>\n      <td>2014-04-22 03:53:30</td>\n      <td>1</td>\n      <td>1</td>\n      <td>2014-04-22</td>\n    </tr>\n    <tr>\n      <th>1</th>\n      <td>2013-11-15 03:45:04</td>\n      <td>2</td>\n      <td>1</td>\n      <td>2013-11-15</td>\n    </tr>\n    <tr>\n      <th>2</th>\n      <td>2013-11-29 03:45:04</td>\n      <td>2</td>\n      <td>1</td>\n      <td>2013-11-29</td>\n    </tr>\n    <tr>\n      <th>3</th>\n      <td>2013-12-09 03:45:04</td>\n      <td>2</td>\n      <td>1</td>\n      <td>2013-12-09</td>\n    </tr>\n    <tr>\n      <th>4</th>\n      <td>2013-12-25 03:45:04</td>\n      <td>2</td>\n      <td>1</td>\n      <td>2013-12-25</td>\n    </tr>\n  </tbody>\n</table>\n</div>"
     },
     "execution_count": 41,
     "metadata": {},
     "output_type": "execute_result"
    }
   ],
   "source": [
    "df = pd.read_csv(\"takehome_user_engagement.csv\", parse_dates=['time_stamp'])\n",
    "df['login_date'] = pd.to_datetime(df['time_stamp'], unit='ns').dt.date\n",
    "df.head()"
   ],
   "metadata": {
    "collapsed": false,
    "ExecuteTime": {
     "end_time": "2023-09-12T20:13:54.849132Z",
     "start_time": "2023-09-12T20:13:54.700345Z"
    }
   },
   "id": "75f748547dca8e2b"
  },
  {
   "cell_type": "markdown",
   "source": [
    "<font color=teal>Let's start by characterizing user activity at a high level</font>\n",
    "Get all users and their overall session history— their first login (session) and their last as well as overall duration of their membership"
   ],
   "metadata": {
    "collapsed": false
   },
   "id": "2d9a78640d5540ac"
  },
  {
   "cell_type": "markdown",
   "source": [
    "The activity data contains \n",
    "\n",
    "<font color=purple>two years of sessions data -- user sessions or 'logins' from 5/2012 to 06/2014... about two years</font>\n",
    "\n",
    "<font color=purple>approximately 208,000 users"
   ],
   "metadata": {
    "collapsed": false
   },
   "id": "ca1e2c8592ebfa58"
  },
  {
   "cell_type": "code",
   "execution_count": 38,
   "outputs": [
    {
     "data": {
      "text/plain": "            index          time_stamp   user_id\n0  min_time_stamp 2012-05-31 08:20:06       NaN\n1  max_time_stamp 2014-06-06 14:58:50       NaN\n2           users                 NaT 207917.00",
      "text/html": "<div>\n<style scoped>\n    .dataframe tbody tr th:only-of-type {\n        vertical-align: middle;\n    }\n\n    .dataframe tbody tr th {\n        vertical-align: top;\n    }\n\n    .dataframe thead th {\n        text-align: right;\n    }\n</style>\n<table border=\"1\" class=\"dataframe\">\n  <thead>\n    <tr style=\"text-align: right;\">\n      <th></th>\n      <th>index</th>\n      <th>time_stamp</th>\n      <th>user_id</th>\n    </tr>\n  </thead>\n  <tbody>\n    <tr>\n      <th>0</th>\n      <td>min_time_stamp</td>\n      <td>2012-05-31 08:20:06</td>\n      <td>NaN</td>\n    </tr>\n    <tr>\n      <th>1</th>\n      <td>max_time_stamp</td>\n      <td>2014-06-06 14:58:50</td>\n      <td>NaN</td>\n    </tr>\n    <tr>\n      <th>2</th>\n      <td>users</td>\n      <td>NaT</td>\n      <td>207917.00</td>\n    </tr>\n  </tbody>\n</table>\n</div>"
     },
     "execution_count": 38,
     "metadata": {},
     "output_type": "execute_result"
    }
   ],
   "source": [
    "df.agg(\n",
    "    min_time_stamp=('time_stamp', 'min'),\n",
    "    max_time_stamp=('time_stamp', 'max'),\n",
    "    users=('user_id', 'count')\n",
    ").reset_index()"
   ],
   "metadata": {
    "collapsed": false,
    "ExecuteTime": {
     "end_time": "2023-09-12T20:13:26.086954Z",
     "start_time": "2023-09-12T20:13:26.067034Z"
    }
   },
   "id": "765d014f04dbf2d0"
  },
  {
   "cell_type": "markdown",
   "source": [
    "Let's break that down by user"
   ],
   "metadata": {
    "collapsed": false
   },
   "id": "bbc2a2a2a73b4c7"
  },
  {
   "cell_type": "code",
   "execution_count": 39,
   "outputs": [],
   "source": [
    "activity_summary_df = df.groupby(['user_id']).agg(\n",
    "    min_time_stamp=('time_stamp', 'min'),\n",
    "    max_time_stamp=('time_stamp', 'max'),\n",
    "    visits=('visited', 'sum')\n",
    ").reset_index()\n",
    "\n",
    "activity_summary_df['duration_days'] = (activity_summary_df['max_time_stamp'] - activity_summary_df['min_time_stamp']).dt.days\n",
    "\n"
   ],
   "metadata": {
    "collapsed": false,
    "ExecuteTime": {
     "end_time": "2023-09-12T20:13:28.168846Z",
     "start_time": "2023-09-12T20:13:28.150442Z"
    }
   },
   "id": "996faaae37c6c44"
  },
  {
   "cell_type": "markdown",
   "source": [
    "<font color=purple>A good proportion of users login right away then don't return (their duration as an active member is less than a few days)</font>"
   ],
   "metadata": {
    "collapsed": false
   },
   "id": "f7101a57fbf08212"
  },
  {
   "cell_type": "code",
   "execution_count": 40,
   "outputs": [
    {
     "data": {
      "text/plain": "<Figure size 640x480 with 1 Axes>",
      "image/png": "[encoded data removed]"
     },
     "metadata": {},
     "output_type": "display_data"
    }
   ],
   "source": [
    "import seaborn as sns\n",
    "import matplotlib.pyplot as plt\n",
    "\n",
    "# Assuming activity_summary_df already contains the 'duration_hours' column\n",
    "sns.histplot(data=activity_summary_df, x='duration_days', bins=20, kde=True)\n",
    "plt.xlabel('Duration (days)')\n",
    "plt.ylabel('Frequency')\n",
    "plt.title('Distribution of Duration')\n",
    "plt.show()\n"
   ],
   "metadata": {
    "collapsed": false,
    "ExecuteTime": {
     "end_time": "2023-09-12T20:13:30.672108Z",
     "start_time": "2023-09-12T20:13:30.522557Z"
    }
   },
   "id": "9ae7088b688632ca"
  },
  {
   "cell_type": "markdown",
   "source": [
    "<font color=purple>Activity increases over the 2012 - 2014 time span</font>\n",
    "\n",
    "The activity data shows a gradual positive increase in user activity between 2012 and 2014\n",
    "This does not necessarily mean there are more users, only that there was more user activity "
   ],
   "metadata": {
    "collapsed": false
   },
   "id": "7d67e52ee8faa5b6"
  },
  {
   "cell_type": "code",
   "execution_count": 6,
   "outputs": [
    {
     "data": {
      "text/plain": "<Figure size 640x480 with 1 Axes>",
      "image/png": "[encoded data removed]"
     },
     "metadata": {},
     "output_type": "display_data"
    }
   ],
   "source": [
    "# Assuming activity_summary_df already contains the 'duration_hours' column\n",
    "sns.histplot(data=activity_summary_df, x='min_time_stamp', bins=20, kde=True)\n",
    "plt.xlabel('Login times (dates)')\n",
    "plt.ylabel('User counts')\n",
    "plt.title('Distribution over Time')\n",
    "plt.xticks(rotation=45)\n",
    "plt.show()\n"
   ],
   "metadata": {
    "collapsed": false,
    "ExecuteTime": {
     "end_time": "2023-09-12T20:03:14.116664Z",
     "start_time": "2023-09-12T20:03:13.935289Z"
    }
   },
   "id": "1f47ab7bbd466ccd"
  },
  {
   "cell_type": "markdown",
   "source": [
    "<font color=purple>Each row represents a single visit</font>\n",
    "\n",
    "Validate that there are no rows with more tha one visited count"
   ],
   "metadata": {
    "collapsed": false
   },
   "id": "4d15a9658b2024df"
  },
  {
   "cell_type": "code",
   "execution_count": 7,
   "outputs": [],
   "source": [
    "# only one visit per row\n",
    "n = df.visited.value_counts()\n",
    "assert n[1] == df.shape[0]"
   ],
   "metadata": {
    "collapsed": false,
    "ExecuteTime": {
     "end_time": "2023-09-12T20:03:14.116925Z",
     "start_time": "2023-09-12T20:03:14.112638Z"
    }
   },
   "id": "a377391903e5d11a"
  },
  {
   "cell_type": "markdown",
   "source": [
    "\n",
    "<br/>\n",
    "\n",
    "<font color=purple>There's only one visit per user per day</font>\n",
    "\n",
    "Below, we validate that there are no rows with more than one visited count\n",
    " \n",
    "this is odd because for most applications, there should be cases where a user logged in twice on a give day"
   ],
   "metadata": {
    "collapsed": false
   },
   "id": "91e90730bbede435"
  },
  {
   "cell_type": "code",
   "execution_count": 8,
   "outputs": [],
   "source": [
    "counts = df.groupby(['user_id', 'login_date']).size().reset_index(name='count')\n",
    "duplicate_rows = counts[counts['count'] > 1]\n",
    "\n",
    "assert duplicate_rows.shape[0] == 0"
   ],
   "metadata": {
    "collapsed": false,
    "ExecuteTime": {
     "end_time": "2023-09-12T20:03:14.181286Z",
     "start_time": "2023-09-12T20:03:14.117546Z"
    }
   },
   "id": "1ec4938a38a227fe"
  },
  {
   "cell_type": "markdown",
   "source": [
    "<br/>\n",
    "\n",
    "---\n",
    "\n",
    "<br/>\n"
   ],
   "metadata": {
    "collapsed": false
   },
   "id": "efc2dc97988fa58f"
  },
  {
   "cell_type": "markdown",
   "source": [
    "<div style=\"background-color: teal; padding: 10px;\">\n",
    "    <h3 style=\"color: white;\">What is a rolling window?</h3>\n",
    "</div>\n",
    "\n",
    "As an example, we are going to demonstrate a 4-day window to keep it simple.   during a 7-day period our user logged in once per day for days one through 4, then did not login in again\n",
    "\n",
    "The chart below shows \n",
    "- the seven days across the top header\n",
    "- a logins column that has a 1 for every actual login and a 0 if the user did not log in\n",
    "- a rolling sum columns that shows our rolling sum\n",
    "\n",
    "<br/>\n",
    "\n",
    "\n",
    "##### In the chart below, on day 4 the user had logged in once a day for the past four days so the sum in this column is 4\n",
    "##### But on day 5, the user did not log in, so the rolling sum is the sum of days 2 through 5 (four days) which is 3\n",
    "##### And on day 6, the user also did not log in, so the rolling sum is the sum of days 3 through 6 (four days) which is 2\n",
    "\n",
    "<br/>\n",
    "\n",
    "\n",
    "| Days        | 1 | 2 | 3 | 4  | 5 | 6 | 7   |\n",
    "|-------------|---|---|---|----|---|---|-----|\n",
    "| logins      | 1 | 1 | 1 | 1  | 0 | 0 | 0   |\n",
    "| rolling sum | 1 | 2 | 3 | 4 | 3 | 2 | 1   |\n",
    "\n",
    "\n",
    "\n"
   ],
   "metadata": {
    "collapsed": false
   },
   "id": "4eacdc284f75efc3"
  },
  {
   "cell_type": "markdown",
   "source": [
    "<font color=teal>Let's take a sample of a single user </font>\n",
    "\n",
    "We can see that user_id 2 logged in only once in any given period before 12/25/2013 so the rolling sums of 11/15/2013 through 12/09/2013 will be 1\n",
    "Then the user logged in on 12/25/2013, then again 7 days later, so the rolling sum for that 7-day window should be 2\n",
    "We will be able to see this when we create the rolling window"
   ],
   "metadata": {
    "collapsed": false
   },
   "id": "d9f189a690be3732"
  },
  {
   "cell_type": "code",
   "execution_count": 42,
   "outputs": [
    {
     "data": {
      "text/plain": "            time_stamp  user_id  visited  login_date\n1  2013-11-15 03:45:04        2        1  2013-11-15\n2  2013-11-29 03:45:04        2        1  2013-11-29\n3  2013-12-09 03:45:04        2        1  2013-12-09\n4  2013-12-25 03:45:04        2        1  2013-12-25\n5  2013-12-31 03:45:04        2        1  2013-12-31\n6  2014-01-08 03:45:04        2        1  2014-01-08\n7  2014-02-03 03:45:04        2        1  2014-02-03\n8  2014-02-08 03:45:04        2        1  2014-02-08\n9  2014-02-09 03:45:04        2        1  2014-02-09\n10 2014-02-13 03:45:04        2        1  2014-02-13\n11 2014-02-16 03:45:04        2        1  2014-02-16\n12 2014-03-09 03:45:04        2        1  2014-03-09\n13 2014-03-13 03:45:04        2        1  2014-03-13\n14 2014-03-31 03:45:04        2        1  2014-03-31",
      "text/html": "<div>\n<style scoped>\n    .dataframe tbody tr th:only-of-type {\n        vertical-align: middle;\n    }\n\n    .dataframe tbody tr th {\n        vertical-align: top;\n    }\n\n    .dataframe thead th {\n        text-align: right;\n    }\n</style>\n<table border=\"1\" class=\"dataframe\">\n  <thead>\n    <tr style=\"text-align: right;\">\n      <th></th>\n      <th>time_stamp</th>\n      <th>user_id</th>\n      <th>visited</th>\n      <th>login_date</th>\n    </tr>\n  </thead>\n  <tbody>\n    <tr>\n      <th>1</th>\n      <td>2013-11-15 03:45:04</td>\n      <td>2</td>\n      <td>1</td>\n      <td>2013-11-15</td>\n    </tr>\n    <tr>\n      <th>2</th>\n      <td>2013-11-29 03:45:04</td>\n      <td>2</td>\n      <td>1</td>\n      <td>2013-11-29</td>\n    </tr>\n    <tr>\n      <th>3</th>\n      <td>2013-12-09 03:45:04</td>\n      <td>2</td>\n      <td>1</td>\n      <td>2013-12-09</td>\n    </tr>\n    <tr>\n      <th>4</th>\n      <td>2013-12-25 03:45:04</td>\n      <td>2</td>\n      <td>1</td>\n      <td>2013-12-25</td>\n    </tr>\n    <tr>\n      <th>5</th>\n      <td>2013-12-31 03:45:04</td>\n      <td>2</td>\n      <td>1</td>\n      <td>2013-12-31</td>\n    </tr>\n    <tr>\n      <th>6</th>\n      <td>2014-01-08 03:45:04</td>\n      <td>2</td>\n      <td>1</td>\n      <td>2014-01-08</td>\n    </tr>\n    <tr>\n      <th>7</th>\n      <td>2014-02-03 03:45:04</td>\n      <td>2</td>\n      <td>1</td>\n      <td>2014-02-03</td>\n    </tr>\n    <tr>\n      <th>8</th>\n      <td>2014-02-08 03:45:04</td>\n      <td>2</td>\n      <td>1</td>\n      <td>2014-02-08</td>\n    </tr>\n    <tr>\n      <th>9</th>\n      <td>2014-02-09 03:45:04</td>\n      <td>2</td>\n      <td>1</td>\n      <td>2014-02-09</td>\n    </tr>\n    <tr>\n      <th>10</th>\n      <td>2014-02-13 03:45:04</td>\n      <td>2</td>\n      <td>1</td>\n      <td>2014-02-13</td>\n    </tr>\n    <tr>\n      <th>11</th>\n      <td>2014-02-16 03:45:04</td>\n      <td>2</td>\n      <td>1</td>\n      <td>2014-02-16</td>\n    </tr>\n    <tr>\n      <th>12</th>\n      <td>2014-03-09 03:45:04</td>\n      <td>2</td>\n      <td>1</td>\n      <td>2014-03-09</td>\n    </tr>\n    <tr>\n      <th>13</th>\n      <td>2014-03-13 03:45:04</td>\n      <td>2</td>\n      <td>1</td>\n      <td>2014-03-13</td>\n    </tr>\n    <tr>\n      <th>14</th>\n      <td>2014-03-31 03:45:04</td>\n      <td>2</td>\n      <td>1</td>\n      <td>2014-03-31</td>\n    </tr>\n  </tbody>\n</table>\n</div>"
     },
     "execution_count": 42,
     "metadata": {},
     "output_type": "execute_result"
    }
   ],
   "source": [
    "\n",
    "df.loc[df['user_id']==2].sort_values(by=['time_stamp'])"
   ],
   "metadata": {
    "collapsed": false,
    "ExecuteTime": {
     "end_time": "2023-09-12T20:14:56.482625Z",
     "start_time": "2023-09-12T20:14:56.471284Z"
    }
   },
   "id": "b524af321e3e48d6"
  },
  {
   "cell_type": "markdown",
   "source": [
    "<br/>\n",
    "\n",
    "---\n",
    "\n",
    "\n",
    "<br/>\n",
    "\n",
    "\n",
    "<div style=\"background-color: teal; padding: 10px;\">\n",
    "    <h3 style=\"color: white;\">Create the rolling window</h3>\n",
    "</div>\n",
    "\n"
   ],
   "metadata": {
    "collapsed": false
   },
   "id": "b78d1c9b824a5831"
  },
  {
   "cell_type": "markdown",
   "source": [
    "<font color=teal>Use pandas built-in rolling() function</font>\n",
    "\n",
    "Next, we'll create a new column called \"rolling_visits\" that contains the rolling sum "
   ],
   "metadata": {
    "collapsed": false
   },
   "id": "791d59962732398d"
  },
  {
   "cell_type": "code",
   "execution_count": 43,
   "outputs": [],
   "source": [
    "df.index = pd.DatetimeIndex(df['login_date'])\n",
    "\n",
    "window_size = '7D'\n",
    "df['rolling_visits'] = (df.groupby('user_id')['visited']\n",
    "                             .rolling(window=window_size)\n",
    "                             .sum()\n",
    "                             .reset_index(level=0, drop=True))"
   ],
   "metadata": {
    "collapsed": false,
    "ExecuteTime": {
     "end_time": "2023-09-12T20:15:18.187744Z",
     "start_time": "2023-09-12T20:15:18.041853Z"
    }
   },
   "id": "531d2f9710bcc93d"
  },
  {
   "cell_type": "code",
   "execution_count": 44,
   "outputs": [
    {
     "data": {
      "text/plain": "                    time_stamp  user_id  visited  login_date  rolling_visits\nlogin_date                                                                  \n2014-04-22 2014-04-22 03:53:30        1        1  2014-04-22            1.00\n2013-11-15 2013-11-15 03:45:04        2        1  2013-11-15            1.00\n2013-11-29 2013-11-29 03:45:04        2        1  2013-11-29            1.00\n2013-12-09 2013-12-09 03:45:04        2        1  2013-12-09            1.00\n2013-12-25 2013-12-25 03:45:04        2        1  2013-12-25            1.00",
      "text/html": "<div>\n<style scoped>\n    .dataframe tbody tr th:only-of-type {\n        vertical-align: middle;\n    }\n\n    .dataframe tbody tr th {\n        vertical-align: top;\n    }\n\n    .dataframe thead th {\n        text-align: right;\n    }\n</style>\n<table border=\"1\" class=\"dataframe\">\n  <thead>\n    <tr style=\"text-align: right;\">\n      <th></th>\n      <th>time_stamp</th>\n      <th>user_id</th>\n      <th>visited</th>\n      <th>login_date</th>\n      <th>rolling_visits</th>\n    </tr>\n    <tr>\n      <th>login_date</th>\n      <th></th>\n      <th></th>\n      <th></th>\n      <th></th>\n      <th></th>\n    </tr>\n  </thead>\n  <tbody>\n    <tr>\n      <th>2014-04-22</th>\n      <td>2014-04-22 03:53:30</td>\n      <td>1</td>\n      <td>1</td>\n      <td>2014-04-22</td>\n      <td>1.00</td>\n    </tr>\n    <tr>\n      <th>2013-11-15</th>\n      <td>2013-11-15 03:45:04</td>\n      <td>2</td>\n      <td>1</td>\n      <td>2013-11-15</td>\n      <td>1.00</td>\n    </tr>\n    <tr>\n      <th>2013-11-29</th>\n      <td>2013-11-29 03:45:04</td>\n      <td>2</td>\n      <td>1</td>\n      <td>2013-11-29</td>\n      <td>1.00</td>\n    </tr>\n    <tr>\n      <th>2013-12-09</th>\n      <td>2013-12-09 03:45:04</td>\n      <td>2</td>\n      <td>1</td>\n      <td>2013-12-09</td>\n      <td>1.00</td>\n    </tr>\n    <tr>\n      <th>2013-12-25</th>\n      <td>2013-12-25 03:45:04</td>\n      <td>2</td>\n      <td>1</td>\n      <td>2013-12-25</td>\n      <td>1.00</td>\n    </tr>\n  </tbody>\n</table>\n</div>"
     },
     "execution_count": 44,
     "metadata": {},
     "output_type": "execute_result"
    }
   ],
   "source": [
    "df.head()"
   ],
   "metadata": {
    "collapsed": false,
    "ExecuteTime": {
     "end_time": "2023-09-12T20:15:19.522591Z",
     "start_time": "2023-09-12T20:15:19.516571Z"
    }
   },
   "id": "6e29aa48c763fcd3"
  },
  {
   "cell_type": "markdown",
   "source": [
    "<font color=teal>Let's take a look at user_id 2 again</font>\n",
    "\n",
    "We should still have 14 rows, but take a look at the data for user 2\n",
    "As expected, the rolling_visits sum is 1 for every day until 12/31/2013, when it is 2.\n",
    "The user logged in twice during the window between 12/25/2013 and 12/31/2013"
   ],
   "metadata": {
    "collapsed": false
   },
   "id": "55b5752fd007a037"
  },
  {
   "cell_type": "code",
   "execution_count": 45,
   "outputs": [
    {
     "data": {
      "text/plain": "                    time_stamp  user_id  visited  login_date  rolling_visits\nlogin_date                                                                  \n2013-11-15 2013-11-15 03:45:04        2        1  2013-11-15            1.00\n2013-11-29 2013-11-29 03:45:04        2        1  2013-11-29            1.00\n2013-12-09 2013-12-09 03:45:04        2        1  2013-12-09            1.00\n2013-12-25 2013-12-25 03:45:04        2        1  2013-12-25            1.00\n2013-12-31 2013-12-31 03:45:04        2        1  2013-12-31            2.00\n2014-01-08 2014-01-08 03:45:04        2        1  2014-01-08            1.00\n2014-02-03 2014-02-03 03:45:04        2        1  2014-02-03            1.00\n2014-02-08 2014-02-08 03:45:04        2        1  2014-02-08            2.00\n2014-02-09 2014-02-09 03:45:04        2        1  2014-02-09            3.00\n2014-02-13 2014-02-13 03:45:04        2        1  2014-02-13            3.00\n2014-02-16 2014-02-16 03:45:04        2        1  2014-02-16            2.00\n2014-03-09 2014-03-09 03:45:04        2        1  2014-03-09            1.00\n2014-03-13 2014-03-13 03:45:04        2        1  2014-03-13            2.00\n2014-03-31 2014-03-31 03:45:04        2        1  2014-03-31            1.00",
      "text/html": "<div>\n<style scoped>\n    .dataframe tbody tr th:only-of-type {\n        vertical-align: middle;\n    }\n\n    .dataframe tbody tr th {\n        vertical-align: top;\n    }\n\n    .dataframe thead th {\n        text-align: right;\n    }\n</style>\n<table border=\"1\" class=\"dataframe\">\n  <thead>\n    <tr style=\"text-align: right;\">\n      <th></th>\n      <th>time_stamp</th>\n      <th>user_id</th>\n      <th>visited</th>\n      <th>login_date</th>\n      <th>rolling_visits</th>\n    </tr>\n    <tr>\n      <th>login_date</th>\n      <th></th>\n      <th></th>\n      <th></th>\n      <th></th>\n      <th></th>\n    </tr>\n  </thead>\n  <tbody>\n    <tr>\n      <th>2013-11-15</th>\n      <td>2013-11-15 03:45:04</td>\n      <td>2</td>\n      <td>1</td>\n      <td>2013-11-15</td>\n      <td>1.00</td>\n    </tr>\n    <tr>\n      <th>2013-11-29</th>\n      <td>2013-11-29 03:45:04</td>\n      <td>2</td>\n      <td>1</td>\n      <td>2013-11-29</td>\n      <td>1.00</td>\n    </tr>\n    <tr>\n      <th>2013-12-09</th>\n      <td>2013-12-09 03:45:04</td>\n      <td>2</td>\n      <td>1</td>\n      <td>2013-12-09</td>\n      <td>1.00</td>\n    </tr>\n    <tr>\n      <th>2013-12-25</th>\n      <td>2013-12-25 03:45:04</td>\n      <td>2</td>\n      <td>1</td>\n      <td>2013-12-25</td>\n      <td>1.00</td>\n    </tr>\n    <tr>\n      <th>2013-12-31</th>\n      <td>2013-12-31 03:45:04</td>\n      <td>2</td>\n      <td>1</td>\n      <td>2013-12-31</td>\n      <td>2.00</td>\n    </tr>\n    <tr>\n      <th>2014-01-08</th>\n      <td>2014-01-08 03:45:04</td>\n      <td>2</td>\n      <td>1</td>\n      <td>2014-01-08</td>\n      <td>1.00</td>\n    </tr>\n    <tr>\n      <th>2014-02-03</th>\n      <td>2014-02-03 03:45:04</td>\n      <td>2</td>\n      <td>1</td>\n      <td>2014-02-03</td>\n      <td>1.00</td>\n    </tr>\n    <tr>\n      <th>2014-02-08</th>\n      <td>2014-02-08 03:45:04</td>\n      <td>2</td>\n      <td>1</td>\n      <td>2014-02-08</td>\n      <td>2.00</td>\n    </tr>\n    <tr>\n      <th>2014-02-09</th>\n      <td>2014-02-09 03:45:04</td>\n      <td>2</td>\n      <td>1</td>\n      <td>2014-02-09</td>\n      <td>3.00</td>\n    </tr>\n    <tr>\n      <th>2014-02-13</th>\n      <td>2014-02-13 03:45:04</td>\n      <td>2</td>\n      <td>1</td>\n      <td>2014-02-13</td>\n      <td>3.00</td>\n    </tr>\n    <tr>\n      <th>2014-02-16</th>\n      <td>2014-02-16 03:45:04</td>\n      <td>2</td>\n      <td>1</td>\n      <td>2014-02-16</td>\n      <td>2.00</td>\n    </tr>\n    <tr>\n      <th>2014-03-09</th>\n      <td>2014-03-09 03:45:04</td>\n      <td>2</td>\n      <td>1</td>\n      <td>2014-03-09</td>\n      <td>1.00</td>\n    </tr>\n    <tr>\n      <th>2014-03-13</th>\n      <td>2014-03-13 03:45:04</td>\n      <td>2</td>\n      <td>1</td>\n      <td>2014-03-13</td>\n      <td>2.00</td>\n    </tr>\n    <tr>\n      <th>2014-03-31</th>\n      <td>2014-03-31 03:45:04</td>\n      <td>2</td>\n      <td>1</td>\n      <td>2014-03-31</td>\n      <td>1.00</td>\n    </tr>\n  </tbody>\n</table>\n</div>"
     },
     "execution_count": 45,
     "metadata": {},
     "output_type": "execute_result"
    }
   ],
   "source": [
    "df.loc[df['user_id']==2].sort_values(by=['time_stamp'])"
   ],
   "metadata": {
    "collapsed": false,
    "ExecuteTime": {
     "end_time": "2023-09-12T20:15:21.172430Z",
     "start_time": "2023-09-12T20:15:21.161711Z"
    }
   },
   "id": "43279d4938f237a1"
  },
  {
   "cell_type": "markdown",
   "source": [
    "<font color=teal>Now let's pull out just the users who had more than 3 session in any 7-day window</font>\n",
    "\n",
    "We'll put them in a new dataset called ```adopting_users_df```"
   ],
   "metadata": {
    "collapsed": false
   },
   "id": "aebf741a92ed771f"
  },
  {
   "cell_type": "code",
   "execution_count": 46,
   "outputs": [],
   "source": [
    "adopting_users_df = df.loc[ df['rolling_visits']>=3].groupby('user_id').agg(\n",
    "    {'login_date': 'max', 'rolling_visits': 'max'}\n",
    ").sort_values(by=['rolling_visits'], ascending=False)\n",
    "\n"
   ],
   "metadata": {
    "collapsed": false,
    "ExecuteTime": {
     "end_time": "2023-09-12T20:15:23.154784Z",
     "start_time": "2023-09-12T20:15:23.078559Z"
    }
   },
   "id": "366b10ecdbc9b3a0"
  },
  {
   "cell_type": "markdown",
   "source": [
    "<font color=teal>The rolling sums range between 4 and 7 with half the users having 7 visits</font>\n",
    "\n",
    "We know that the constraint in the date keeps users from having any more than 7 daya in any given rolling sum, and that's still a concern\n",
    "We can see that 621 users had a 7-day streak, 237 users had 6 logins, 223 users had a 5, and 216 users had four, and 305 users had 3 visits in a 7-day period"
   ],
   "metadata": {
    "collapsed": false
   },
   "id": "8b53f0a18d58c4b8"
  },
  {
   "cell_type": "code",
   "execution_count": 47,
   "outputs": [
    {
     "name": "stdout",
     "output_type": "stream",
     "text": [
      "How many users do we have for each rolling sum (how_many_visits)\n"
     ]
    },
    {
     "data": {
      "text/plain": "   how_many_visits  how_many_users\n0             7.00             621\n2             6.00             237\n3             5.00             223\n4             4.00             216\n1             3.00             305",
      "text/html": "<div>\n<style scoped>\n    .dataframe tbody tr th:only-of-type {\n        vertical-align: middle;\n    }\n\n    .dataframe tbody tr th {\n        vertical-align: top;\n    }\n\n    .dataframe thead th {\n        text-align: right;\n    }\n</style>\n<table border=\"1\" class=\"dataframe\">\n  <thead>\n    <tr style=\"text-align: right;\">\n      <th></th>\n      <th>how_many_visits</th>\n      <th>how_many_users</th>\n    </tr>\n  </thead>\n  <tbody>\n    <tr>\n      <th>0</th>\n      <td>7.00</td>\n      <td>621</td>\n    </tr>\n    <tr>\n      <th>2</th>\n      <td>6.00</td>\n      <td>237</td>\n    </tr>\n    <tr>\n      <th>3</th>\n      <td>5.00</td>\n      <td>223</td>\n    </tr>\n    <tr>\n      <th>4</th>\n      <td>4.00</td>\n      <td>216</td>\n    </tr>\n    <tr>\n      <th>1</th>\n      <td>3.00</td>\n      <td>305</td>\n    </tr>\n  </tbody>\n</table>\n</div>"
     },
     "execution_count": 47,
     "metadata": {},
     "output_type": "execute_result"
    }
   ],
   "source": [
    "print(\"How many users do we have for each rolling sum (how_many_visits)\")\n",
    "n = adopting_users_df['rolling_visits'].value_counts().reset_index()\n",
    "n = n.rename(columns={'rolling_visits': 'how_many_users', 'index': 'how_many_visits'})\n",
    "n.sort_values('how_many_visits', ascending=False)"
   ],
   "metadata": {
    "collapsed": false,
    "ExecuteTime": {
     "end_time": "2023-09-12T20:15:24.758034Z",
     "start_time": "2023-09-12T20:15:24.751113Z"
    }
   },
   "id": "8a34f8a98aec94ea"
  },
  {
   "cell_type": "markdown",
   "source": [
    "<font color=teal>Merge user information into our rolling sums data</font>\n",
    "\n",
    "Let's assume we want to store this wonderful information in a new dataset.   We'll want to be able to see who these users are, and maybe even slice across some other user characteristics\n",
    "We'll do that now using the takehome_users.csv dataset"
   ],
   "metadata": {
    "collapsed": false
   },
   "id": "c9fb334cf583c1be"
  },
  {
   "cell_type": "markdown",
   "source": [
    "First, load the user data as 'signups_df'"
   ],
   "metadata": {
    "collapsed": false
   },
   "id": "56848884a4373ad3"
  },
  {
   "cell_type": "code",
   "execution_count": 48,
   "outputs": [
    {
     "data": {
      "text/plain": "   user_id       creation_time               name                       email  \\\n0        1 2014-04-22 03:53:30     Clausen August    AugustCClausen@yahoo.com   \n1        2 2013-11-15 03:45:04      Poole Matthew      MatthewPoole@gustr.com   \n2        3 2013-03-19 23:14:52  Bottrill Mitchell  MitchellBottrill@gustr.com   \n3        4 2013-05-21 08:09:28    Clausen Nicklas   NicklasSClausen@yahoo.com   \n4        5 2013-01-17 10:14:20          Raw Grace          GraceRaw@yahoo.com   \n\n  creation_source    last_session_creation_time  opted_in_to_mailing_list  \\\n0    GUEST_INVITE 1970-01-01 00:00:01.398138810                         1   \n1      ORG_INVITE 1970-01-01 00:00:01.396237504                         0   \n2      ORG_INVITE 1970-01-01 00:00:01.363734892                         0   \n3    GUEST_INVITE 1970-01-01 00:00:01.369210168                         0   \n4    GUEST_INVITE 1970-01-01 00:00:01.358849660                         0   \n\n   enabled_for_marketing_drip  org_id  invited_by_user_id  \n0                           0      11            10803.00  \n1                           0       1              316.00  \n2                           0      94             1525.00  \n3                           0       1             5151.00  \n4                           0     193             5240.00  ",
      "text/html": "<div>\n<style scoped>\n    .dataframe tbody tr th:only-of-type {\n        vertical-align: middle;\n    }\n\n    .dataframe tbody tr th {\n        vertical-align: top;\n    }\n\n    .dataframe thead th {\n        text-align: right;\n    }\n</style>\n<table border=\"1\" class=\"dataframe\">\n  <thead>\n    <tr style=\"text-align: right;\">\n      <th></th>\n      <th>user_id</th>\n      <th>creation_time</th>\n      <th>name</th>\n      <th>email</th>\n      <th>creation_source</th>\n      <th>last_session_creation_time</th>\n      <th>opted_in_to_mailing_list</th>\n      <th>enabled_for_marketing_drip</th>\n      <th>org_id</th>\n      <th>invited_by_user_id</th>\n    </tr>\n  </thead>\n  <tbody>\n    <tr>\n      <th>0</th>\n      <td>1</td>\n      <td>2014-04-22 03:53:30</td>\n      <td>Clausen August</td>\n      <td>AugustCClausen@yahoo.com</td>\n      <td>GUEST_INVITE</td>\n      <td>1970-01-01 00:00:01.398138810</td>\n      <td>1</td>\n      <td>0</td>\n      <td>11</td>\n      <td>10803.00</td>\n    </tr>\n    <tr>\n      <th>1</th>\n      <td>2</td>\n      <td>2013-11-15 03:45:04</td>\n      <td>Poole Matthew</td>\n      <td>MatthewPoole@gustr.com</td>\n      <td>ORG_INVITE</td>\n      <td>1970-01-01 00:00:01.396237504</td>\n      <td>0</td>\n      <td>0</td>\n      <td>1</td>\n      <td>316.00</td>\n    </tr>\n    <tr>\n      <th>2</th>\n      <td>3</td>\n      <td>2013-03-19 23:14:52</td>\n      <td>Bottrill Mitchell</td>\n      <td>MitchellBottrill@gustr.com</td>\n      <td>ORG_INVITE</td>\n      <td>1970-01-01 00:00:01.363734892</td>\n      <td>0</td>\n      <td>0</td>\n      <td>94</td>\n      <td>1525.00</td>\n    </tr>\n    <tr>\n      <th>3</th>\n      <td>4</td>\n      <td>2013-05-21 08:09:28</td>\n      <td>Clausen Nicklas</td>\n      <td>NicklasSClausen@yahoo.com</td>\n      <td>GUEST_INVITE</td>\n      <td>1970-01-01 00:00:01.369210168</td>\n      <td>0</td>\n      <td>0</td>\n      <td>1</td>\n      <td>5151.00</td>\n    </tr>\n    <tr>\n      <th>4</th>\n      <td>5</td>\n      <td>2013-01-17 10:14:20</td>\n      <td>Raw Grace</td>\n      <td>GraceRaw@yahoo.com</td>\n      <td>GUEST_INVITE</td>\n      <td>1970-01-01 00:00:01.358849660</td>\n      <td>0</td>\n      <td>0</td>\n      <td>193</td>\n      <td>5240.00</td>\n    </tr>\n  </tbody>\n</table>\n</div>"
     },
     "execution_count": 48,
     "metadata": {},
     "output_type": "execute_result"
    }
   ],
   "source": [
    "signups_df = (pd.read_csv(\"takehome_users_clear.csv\",  encoding='utf-8', parse_dates=['creation_time'])\n",
    "              .rename(columns={\"object_id\": \"user_id\"}))\n",
    "signups_df['last_session_creation_time'] = pd.to_datetime(signups_df['last_session_creation_time'], unit='ns')\n",
    "signups_df.head()\n",
    "\n"
   ],
   "metadata": {
    "collapsed": false,
    "ExecuteTime": {
     "end_time": "2023-09-12T20:15:27.076967Z",
     "start_time": "2023-09-12T20:15:27.042218Z"
    }
   },
   "id": "612724b96baeaab6"
  },
  {
   "cell_type": "markdown",
   "source": [
    "Now merge the user data with the data that we added the rolling sums to.\n",
    "\n",
    "<br/>\n",
    "\n",
    "Recall that we first added a rolling sum to the whole activity dataset, THEN we filtered out just the adopting users.\n",
    "\n",
    "<br/>\n",
    "\n",
    "But here we do not want to use the 'adopted users' data set \n",
    "\n",
    "<br/>\n",
    "\n",
    "\n",
    "Instead, we want to merge user information with **all** the data, but with the new rolling_vists column"
   ],
   "metadata": {
    "collapsed": false
   },
   "id": "21c247c553a14f99"
  },
  {
   "cell_type": "code",
   "execution_count": 50,
   "outputs": [
    {
     "data": {
      "text/plain": "both          207917\nleft_only       3177\nright_only         0\nName: _merge, dtype: int64"
     },
     "execution_count": 50,
     "metadata": {},
     "output_type": "execute_result"
    }
   ],
   "source": [
    "merge_df = pd.merge(signups_df, df, on=[\"user_id\"], how='outer', indicator=True)\n",
    "merge_df['_merge'].value_counts()"
   ],
   "metadata": {
    "collapsed": false,
    "ExecuteTime": {
     "end_time": "2023-09-12T20:15:39.902433Z",
     "start_time": "2023-09-12T20:15:39.836431Z"
    }
   },
   "id": "5c9a9a227ef8c660"
  },
  {
   "cell_type": "markdown",
   "source": [
    "<br/>\n",
    "\n",
    "\n",
    "The value_counts query above shows us that there are 3,177 users who signed up, but never had any logins during the 2012 - 2014 period.\n",
    "\n",
    "We could leave them as they are, but we'd then have null values that might trip someone up later, so let's instead perform the following logic:\n",
    "\n",
    "For all intents and purposes, a user who never logged in after signing up still had at least one session when they registered for the service, so we can safely set their timestamp and login date to the date they signed up.\n",
    "We can change the visited column to 'vists_after_signup' and set it to zero for users who never logged in again.\n",
    "And we can change the 'rolling_visits' to 'seven_day_sum' so it's clear what window we are summing over\n",
    "\n"
   ],
   "metadata": {
    "collapsed": false
   },
   "id": "a432e9bd07476983"
  },
  {
   "cell_type": "code",
   "execution_count": 51,
   "outputs": [],
   "source": [
    "# Create columns 'visited', 'time_stamp', and 'login_date' based on the condition\n",
    "merge_df['visited'] = np.where(merge_df['_merge'] == 'left_only', 0, merge_df['visited'])\n",
    "merge_df['time_stamp'] = np.where(merge_df['_merge'] == 'left_only', merge_df['creation_time'], merge_df['time_stamp'])\n",
    "merge_df['login_date'] = np.where(merge_df['_merge'] == 'left_only', pd.to_datetime(merge_df['creation_time'], unit='ns').dt.date, merge_df['login_date'])\n",
    "merge_df.rename(columns={'visited':'vists_after_signup', 'rolling_visits': 'seven_day_sum'}, inplace=True)\n",
    "\n"
   ],
   "metadata": {
    "collapsed": false,
    "ExecuteTime": {
     "end_time": "2023-09-12T20:15:51.033266Z",
     "start_time": "2023-09-12T20:15:50.980964Z"
    }
   },
   "id": "edc3185ef4b2b321"
  },
  {
   "cell_type": "markdown",
   "source": [
    "<br/>\n",
    "\n",
    "Let's take a quick look at the merge dataset now."
   ],
   "metadata": {
    "collapsed": false
   },
   "id": "87e7dda3513f7200"
  },
  {
   "cell_type": "code",
   "execution_count": 52,
   "outputs": [
    {
     "data": {
      "text/plain": "     user_id       creation_time               name  \\\n20         8 2013-07-31 05:34:02  Hamilton Danielle   \n21         9 2013-11-05 04:04:24         Amsel Paul   \n307       12 2014-04-17 23:48:38    Mathiesen L�rke   \n310       15 2013-07-16 21:33:54        Theiss Ralf   \n311       16 2013-02-11 10:09:50         Engel Ren�   \n\n                          email    creation_source last_session_creation_time  \\\n20   DanielleHamilton@yahoo.com  PERSONAL_PROJECTS                        NaT   \n21        PaulAmsel@hotmail.com  PERSONAL_PROJECTS                        NaT   \n307   LaerkeLMathiesen@cuvox.de         ORG_INVITE                        NaT   \n310      RalfTheiss@hotmail.com  PERSONAL_PROJECTS                        NaT   \n311       ReneEngel@hotmail.com  PERSONAL_PROJECTS                        NaT   \n\n     opted_in_to_mailing_list  enabled_for_marketing_drip  org_id  \\\n20                          1                           1      74   \n21                          0                           0     302   \n307                         0                           0     130   \n310                         0                           0     175   \n311                         0                           0     211   \n\n     invited_by_user_id          time_stamp  vists_after_signup  login_date  \\\n20                  NaN 2013-07-31 05:34:02                0.00  2013-07-31   \n21                  NaN 2013-11-05 04:04:24                0.00  2013-11-05   \n307             9270.00 2014-04-17 23:48:38                0.00  2014-04-17   \n310                 NaN 2013-07-16 21:33:54                0.00  2013-07-16   \n311                 NaN 2013-02-11 10:09:50                0.00  2013-02-11   \n\n     seven_day_sum     _merge  \n20             NaN  left_only  \n21             NaN  left_only  \n307            NaN  left_only  \n310            NaN  left_only  \n311            NaN  left_only  ",
      "text/html": "<div>\n<style scoped>\n    .dataframe tbody tr th:only-of-type {\n        vertical-align: middle;\n    }\n\n    .dataframe tbody tr th {\n        vertical-align: top;\n    }\n\n    .dataframe thead th {\n        text-align: right;\n    }\n</style>\n<table border=\"1\" class=\"dataframe\">\n  <thead>\n    <tr style=\"text-align: right;\">\n      <th></th>\n      <th>user_id</th>\n      <th>creation_time</th>\n      <th>name</th>\n      <th>email</th>\n      <th>creation_source</th>\n      <th>last_session_creation_time</th>\n      <th>opted_in_to_mailing_list</th>\n      <th>enabled_for_marketing_drip</th>\n      <th>org_id</th>\n      <th>invited_by_user_id</th>\n      <th>time_stamp</th>\n      <th>vists_after_signup</th>\n      <th>login_date</th>\n      <th>seven_day_sum</th>\n      <th>_merge</th>\n    </tr>\n  </thead>\n  <tbody>\n    <tr>\n      <th>20</th>\n      <td>8</td>\n      <td>2013-07-31 05:34:02</td>\n      <td>Hamilton Danielle</td>\n      <td>DanielleHamilton@yahoo.com</td>\n      <td>PERSONAL_PROJECTS</td>\n      <td>NaT</td>\n      <td>1</td>\n      <td>1</td>\n      <td>74</td>\n      <td>NaN</td>\n      <td>2013-07-31 05:34:02</td>\n      <td>0.00</td>\n      <td>2013-07-31</td>\n      <td>NaN</td>\n      <td>left_only</td>\n    </tr>\n    <tr>\n      <th>21</th>\n      <td>9</td>\n      <td>2013-11-05 04:04:24</td>\n      <td>Amsel Paul</td>\n      <td>PaulAmsel@hotmail.com</td>\n      <td>PERSONAL_PROJECTS</td>\n      <td>NaT</td>\n      <td>0</td>\n      <td>0</td>\n      <td>302</td>\n      <td>NaN</td>\n      <td>2013-11-05 04:04:24</td>\n      <td>0.00</td>\n      <td>2013-11-05</td>\n      <td>NaN</td>\n      <td>left_only</td>\n    </tr>\n    <tr>\n      <th>307</th>\n      <td>12</td>\n      <td>2014-04-17 23:48:38</td>\n      <td>Mathiesen L�rke</td>\n      <td>LaerkeLMathiesen@cuvox.de</td>\n      <td>ORG_INVITE</td>\n      <td>NaT</td>\n      <td>0</td>\n      <td>0</td>\n      <td>130</td>\n      <td>9270.00</td>\n      <td>2014-04-17 23:48:38</td>\n      <td>0.00</td>\n      <td>2014-04-17</td>\n      <td>NaN</td>\n      <td>left_only</td>\n    </tr>\n    <tr>\n      <th>310</th>\n      <td>15</td>\n      <td>2013-07-16 21:33:54</td>\n      <td>Theiss Ralf</td>\n      <td>RalfTheiss@hotmail.com</td>\n      <td>PERSONAL_PROJECTS</td>\n      <td>NaT</td>\n      <td>0</td>\n      <td>0</td>\n      <td>175</td>\n      <td>NaN</td>\n      <td>2013-07-16 21:33:54</td>\n      <td>0.00</td>\n      <td>2013-07-16</td>\n      <td>NaN</td>\n      <td>left_only</td>\n    </tr>\n    <tr>\n      <th>311</th>\n      <td>16</td>\n      <td>2013-02-11 10:09:50</td>\n      <td>Engel Ren�</td>\n      <td>ReneEngel@hotmail.com</td>\n      <td>PERSONAL_PROJECTS</td>\n      <td>NaT</td>\n      <td>0</td>\n      <td>0</td>\n      <td>211</td>\n      <td>NaN</td>\n      <td>2013-02-11 10:09:50</td>\n      <td>0.00</td>\n      <td>2013-02-11</td>\n      <td>NaN</td>\n      <td>left_only</td>\n    </tr>\n  </tbody>\n</table>\n</div>"
     },
     "execution_count": 52,
     "metadata": {},
     "output_type": "execute_result"
    }
   ],
   "source": [
    "merge_df.loc[merge_df['_merge'] =='left_only'].head()\n"
   ],
   "metadata": {
    "collapsed": false,
    "ExecuteTime": {
     "end_time": "2023-09-12T20:15:58.978063Z",
     "start_time": "2023-09-12T20:15:58.945507Z"
    }
   },
   "id": "8b3e1a1bf12d6e14"
  },
  {
   "cell_type": "markdown",
   "source": [
    "<br/>\n",
    "\n",
    "And we no longer need our _merge column, so we drop it, and we re going to keep this dataframe so let's rename it to \"user_activity_df\"\n",
    "\n",
    "<br/>"
   ],
   "metadata": {
    "collapsed": false
   },
   "id": "3e13dfd3d9803f19"
  },
  {
   "cell_type": "code",
   "execution_count": 53,
   "outputs": [],
   "source": [
    "merge_df.drop('_merge', axis=1, inplace=True)\n",
    "user_activity_df = merge_df"
   ],
   "metadata": {
    "collapsed": false,
    "ExecuteTime": {
     "end_time": "2023-09-12T20:16:22.554781Z",
     "start_time": "2023-09-12T20:16:22.529496Z"
    }
   },
   "id": "74c34be407b34fc0"
  },
  {
   "cell_type": "code",
   "execution_count": null,
   "outputs": [],
   "source": [],
   "metadata": {
    "collapsed": false
   },
   "id": "d0bce4510feaa23e"
  }
 ],
 "metadata": {
  "kernelspec": {
   "display_name": "Python 3",
   "language": "python",
   "name": "python3"
  },
  "language_info": {
   "codemirror_mode": {
    "name": "ipython",
    "version": 2
   },
   "file_extension": ".py",
   "mimetype": "text/x-python",
   "name": "python",
   "nbconvert_exporter": "python",
   "pygments_lexer": "ipython2",
   "version": "2.7.6"
  }
 },
 "nbformat": 4,
 "nbformat_minor": 5
}
