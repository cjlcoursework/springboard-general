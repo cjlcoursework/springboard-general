{
 "cells": [
  {
   "cell_type": "code",
   "execution_count": 1,
   "id": "5cf4fd07",
   "metadata": {},
   "outputs": [],
   "source": [
    "close all;"
   ]
  },
  {
   "cell_type": "code",
   "execution_count": 3,
   "id": "52dab8c2",
   "metadata": {},
   "outputs": [
    {
     "name": "stdout",
     "output_type": "stream",
     "text": [
      "N = 10004\r\n"
     ]
    }
   ],
   "source": [
    "N = 10004"
   ]
  },
  {
   "cell_type": "code",
   "execution_count": null,
   "id": "ed004511",
   "metadata": {},
   "outputs": [],
   "source": []
  }
 ],
 "metadata": {
  "kernelspec": {
   "display_name": "Octave",
   "language": "octave",
   "name": "octave"
  },
  "language_info": {
   "file_extension": ".m",
   "help_links": [
    {
     "text": "GNU Octave",
     "url": "https://www.gnu.org/software/octave/support.html"
    },
    {
     "text": "Octave Kernel",
     "url": "https://github.com/Calysto/octave_kernel"
    },
    {
     "text": "MetaKernel Magics",
     "url": "https://metakernel.readthedocs.io/en/latest/source/README.html"
    }
   ],
   "mimetype": "text/x-octave",
   "name": "octave",
   "version": "8.2.0"
  }
 },
 "nbformat": 4,
 "nbformat_minor": 5
}
