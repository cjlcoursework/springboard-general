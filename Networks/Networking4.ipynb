{
 "cells": [
  {
   "cell_type": "code",
   "execution_count": 2,
   "metadata": {
    "collapsed": true,
    "ExecuteTime": {
     "end_time": "2023-05-01T20:30:24.878892Z",
     "start_time": "2023-05-01T20:30:23.429243Z"
    }
   },
   "outputs": [
    {
     "name": "stdout",
     "output_type": "stream",
     "text": [
      "maplotlib version 3.6.2\n",
      "pandas version    1.5.3\n",
      "numpy version     1.22.3\n"
     ]
    }
   ],
   "source": [
    "import pandas as pd\n",
    "import numpy as np\n",
    "import networkx as nx\n",
    "import matplotlib.pyplot as plt\n",
    "import matplotlib\n",
    "print(\"maplotlib version\", matplotlib.__version__)\n",
    "print(\"pandas version   \", pd.__version__)\n",
    "print(\"numpy version    \", np.__version__)\n",
    "\n",
    "import datetime\n",
    "import pickle\n"
   ]
  },
  {
   "cell_type": "code",
   "execution_count": 3,
   "outputs": [
    {
     "name": "stdout",
     "output_type": "stream",
     "text": [
      "NODES 56519\n",
      "EDGES 72900\n"
     ]
    }
   ],
   "source": [
    "file_path = 'data/github_users.p'\n",
    "G = nx.read_gpickle(file_path)\n",
    "print(\"NODES\", len(G.nodes()))\n",
    "print(\"EDGES\", len(G.edges()))"
   ],
   "metadata": {
    "collapsed": false,
    "ExecuteTime": {
     "end_time": "2023-05-01T20:30:24.983584Z",
     "start_time": "2023-05-01T20:30:24.924315Z"
    }
   }
  },
  {
   "cell_type": "code",
   "execution_count": null,
   "outputs": [],
   "source": [],
   "metadata": {
    "collapsed": false
   }
  }
 ],
 "metadata": {
  "kernelspec": {
   "display_name": "Python 3",
   "language": "python",
   "name": "python3"
  },
  "language_info": {
   "codemirror_mode": {
    "name": "ipython",
    "version": 2
   },
   "file_extension": ".py",
   "mimetype": "text/x-python",
   "name": "python",
   "nbconvert_exporter": "python",
   "pygments_lexer": "ipython2",
   "version": "2.7.6"
  }
 },
 "nbformat": 4,
 "nbformat_minor": 0
}
