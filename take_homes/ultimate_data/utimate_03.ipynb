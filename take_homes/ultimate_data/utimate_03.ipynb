{
 "cells": [
  {
   "cell_type": "code",
   "execution_count": 1,
   "id": "initial_id",
   "metadata": {
    "collapsed": true,
    "ExecuteTime": {
     "end_time": "2023-09-14T17:30:24.775267Z",
     "start_time": "2023-09-14T17:30:24.612550Z"
    }
   },
   "outputs": [],
   "source": [
    "import pandas as pd\n",
    "import numpy as np\n",
    "import matplotlib.pyplot as plt\n",
    "import seaborn as sns\n",
    "from sklearn.preprocessing import MinMaxScaler\n",
    "\n",
    "import warnings\n",
    "\n",
    "# Suppress all warnings\n",
    "warnings.filterwarnings(\"ignore\")"
   ]
  },
  {
   "cell_type": "markdown",
   "source": [
    "\n",
    "\n",
    "Previous 30 days, but no current data given.   There is no other date that I think we can use to get the preceding 30 days.   I hthink that the best we can do is look at the last trip date in the dataset and assume that there were not any significant dates after that."
   ],
   "metadata": {
    "collapsed": false
   },
   "id": "24834f328d779281"
  },
  {
   "cell_type": "code",
   "execution_count": 1,
   "outputs": [],
   "source": [],
   "metadata": {
    "collapsed": false,
    "ExecuteTime": {
     "end_time": "2023-09-14T17:30:24.788343Z",
     "start_time": "2023-09-14T17:30:24.694107Z"
    }
   },
   "id": "22b35c700d987e78"
  },
  {
   "cell_type": "code",
   "execution_count": 2,
   "outputs": [
    {
     "data": {
      "text/plain": "             city  trips_in_first_30_days signup_date  avg_rating_of_driver  \\\n0  King's Landing                       4  2014-01-25                   4.7   \n1         Astapor                       0  2014-01-29                   5.0   \n2         Astapor                       3  2014-01-06                   4.3   \n3  King's Landing                       9  2014-01-10                   4.6   \n4      Winterfell                      14  2014-01-27                   4.4   \n\n   avg_surge last_trip_date    phone  surge_pct  ultimate_black_user  \\\n0       1.10     2014-06-17   iPhone       15.4                 True   \n1       1.00     2014-05-05  Android        0.0                False   \n2       1.00     2014-01-07   iPhone        0.0                False   \n3       1.14     2014-06-29   iPhone       20.0                 True   \n4       1.19     2014-03-15  Android       11.8                False   \n\n   weekday_pct  avg_dist  avg_rating_by_driver  \n0         46.2      3.67                   5.0  \n1         50.0      8.26                   5.0  \n2        100.0      0.77                   5.0  \n3         80.0      2.36                   4.9  \n4         82.4      3.13                   4.9  ",
      "text/html": "<div>\n<style scoped>\n    .dataframe tbody tr th:only-of-type {\n        vertical-align: middle;\n    }\n\n    .dataframe tbody tr th {\n        vertical-align: top;\n    }\n\n    .dataframe thead th {\n        text-align: right;\n    }\n</style>\n<table border=\"1\" class=\"dataframe\">\n  <thead>\n    <tr style=\"text-align: right;\">\n      <th></th>\n      <th>city</th>\n      <th>trips_in_first_30_days</th>\n      <th>signup_date</th>\n      <th>avg_rating_of_driver</th>\n      <th>avg_surge</th>\n      <th>last_trip_date</th>\n      <th>phone</th>\n      <th>surge_pct</th>\n      <th>ultimate_black_user</th>\n      <th>weekday_pct</th>\n      <th>avg_dist</th>\n      <th>avg_rating_by_driver</th>\n    </tr>\n  </thead>\n  <tbody>\n    <tr>\n      <th>0</th>\n      <td>King's Landing</td>\n      <td>4</td>\n      <td>2014-01-25</td>\n      <td>4.7</td>\n      <td>1.10</td>\n      <td>2014-06-17</td>\n      <td>iPhone</td>\n      <td>15.4</td>\n      <td>True</td>\n      <td>46.2</td>\n      <td>3.67</td>\n      <td>5.0</td>\n    </tr>\n    <tr>\n      <th>1</th>\n      <td>Astapor</td>\n      <td>0</td>\n      <td>2014-01-29</td>\n      <td>5.0</td>\n      <td>1.00</td>\n      <td>2014-05-05</td>\n      <td>Android</td>\n      <td>0.0</td>\n      <td>False</td>\n      <td>50.0</td>\n      <td>8.26</td>\n      <td>5.0</td>\n    </tr>\n    <tr>\n      <th>2</th>\n      <td>Astapor</td>\n      <td>3</td>\n      <td>2014-01-06</td>\n      <td>4.3</td>\n      <td>1.00</td>\n      <td>2014-01-07</td>\n      <td>iPhone</td>\n      <td>0.0</td>\n      <td>False</td>\n      <td>100.0</td>\n      <td>0.77</td>\n      <td>5.0</td>\n    </tr>\n    <tr>\n      <th>3</th>\n      <td>King's Landing</td>\n      <td>9</td>\n      <td>2014-01-10</td>\n      <td>4.6</td>\n      <td>1.14</td>\n      <td>2014-06-29</td>\n      <td>iPhone</td>\n      <td>20.0</td>\n      <td>True</td>\n      <td>80.0</td>\n      <td>2.36</td>\n      <td>4.9</td>\n    </tr>\n    <tr>\n      <th>4</th>\n      <td>Winterfell</td>\n      <td>14</td>\n      <td>2014-01-27</td>\n      <td>4.4</td>\n      <td>1.19</td>\n      <td>2014-03-15</td>\n      <td>Android</td>\n      <td>11.8</td>\n      <td>False</td>\n      <td>82.4</td>\n      <td>3.13</td>\n      <td>4.9</td>\n    </tr>\n  </tbody>\n</table>\n</div>"
     },
     "execution_count": 2,
     "metadata": {},
     "output_type": "execute_result"
    }
   ],
   "source": [
    "df = pd.read_json('ultimate_data_challenge.json', convert_dates=['last_trip_date', 'signup_date'])\n",
    "df.head()"
   ],
   "metadata": {
    "collapsed": false,
    "ExecuteTime": {
     "end_time": "2023-09-14T17:30:25.002956Z",
     "start_time": "2023-09-14T17:30:24.790845Z"
    }
   },
   "id": "11044b60a674dc5e"
  },
  {
   "cell_type": "code",
   "execution_count": 3,
   "outputs": [
    {
     "data": {
      "text/plain": "city                              object\ntrips_in_first_30_days             int64\nsignup_date               datetime64[ns]\navg_rating_of_driver             float64\navg_surge                        float64\nlast_trip_date            datetime64[ns]\nphone                             object\nsurge_pct                        float64\nultimate_black_user                 bool\nweekday_pct                      float64\navg_dist                         float64\navg_rating_by_driver             float64\ndtype: object"
     },
     "execution_count": 3,
     "metadata": {},
     "output_type": "execute_result"
    }
   ],
   "source": [
    "df.dtypes"
   ],
   "metadata": {
    "collapsed": false,
    "ExecuteTime": {
     "end_time": "2023-09-14T17:30:25.004918Z",
     "start_time": "2023-09-14T17:30:25.001479Z"
    }
   },
   "id": "6a0f3c6ca2e6572c"
  },
  {
   "cell_type": "code",
   "execution_count": 3,
   "outputs": [],
   "source": [],
   "metadata": {
    "collapsed": false,
    "ExecuteTime": {
     "end_time": "2023-09-14T17:30:25.006690Z",
     "start_time": "2023-09-14T17:30:25.004717Z"
    }
   },
   "id": "572a0bcd59fc9f6c"
  },
  {
   "cell_type": "code",
   "execution_count": 3,
   "outputs": [],
   "source": [],
   "metadata": {
    "collapsed": false,
    "ExecuteTime": {
     "end_time": "2023-09-14T17:30:25.016103Z",
     "start_time": "2023-09-14T17:30:25.006880Z"
    }
   },
   "id": "334e6e9cb2b31f4d"
  },
  {
   "cell_type": "markdown",
   "source": [
    "50,000 rows and 11 columns"
   ],
   "metadata": {
    "collapsed": false
   },
   "id": "b6356c27a87e9c3d"
  },
  {
   "cell_type": "code",
   "execution_count": 4,
   "outputs": [
    {
     "data": {
      "text/plain": "(50000, 12)"
     },
     "execution_count": 4,
     "metadata": {},
     "output_type": "execute_result"
    }
   ],
   "source": [
    "df.shape"
   ],
   "metadata": {
    "collapsed": false,
    "ExecuteTime": {
     "end_time": "2023-09-14T17:30:25.053846Z",
     "start_time": "2023-09-14T17:30:25.009224Z"
    }
   },
   "id": "c1d601e7ca21cf1e"
  },
  {
   "cell_type": "markdown",
   "source": [
    "Contain one month of data from 2014-01-01 to 2014-01-31"
   ],
   "metadata": {
    "collapsed": false
   },
   "id": "bbc12a7c838572cd"
  },
  {
   "cell_type": "code",
   "execution_count": 5,
   "outputs": [
    {
     "data": {
      "text/plain": "  index signup_date last_trip_date\n0   min  2014-01-01     2014-01-01\n1   max  2014-01-31     2014-07-01",
      "text/html": "<div>\n<style scoped>\n    .dataframe tbody tr th:only-of-type {\n        vertical-align: middle;\n    }\n\n    .dataframe tbody tr th {\n        vertical-align: top;\n    }\n\n    .dataframe thead th {\n        text-align: right;\n    }\n</style>\n<table border=\"1\" class=\"dataframe\">\n  <thead>\n    <tr style=\"text-align: right;\">\n      <th></th>\n      <th>index</th>\n      <th>signup_date</th>\n      <th>last_trip_date</th>\n    </tr>\n  </thead>\n  <tbody>\n    <tr>\n      <th>0</th>\n      <td>min</td>\n      <td>2014-01-01</td>\n      <td>2014-01-01</td>\n    </tr>\n    <tr>\n      <th>1</th>\n      <td>max</td>\n      <td>2014-01-31</td>\n      <td>2014-07-01</td>\n    </tr>\n  </tbody>\n</table>\n</div>"
     },
     "execution_count": 5,
     "metadata": {},
     "output_type": "execute_result"
    }
   ],
   "source": [
    "df.agg(\n",
    "    {'signup_date': ['min', 'max'], 'last_trip_date': ['min', 'max']}\n",
    ").reset_index()"
   ],
   "metadata": {
    "collapsed": false,
    "ExecuteTime": {
     "end_time": "2023-09-14T17:30:25.055372Z",
     "start_time": "2023-09-14T17:30:25.012521Z"
    }
   },
   "id": "127583b536c24788"
  },
  {
   "cell_type": "markdown",
   "source": [
    "16% of avg_rating_of_drive (8122 records) are null\n",
    "0.4 % of avg_rating_by_drive (201 records) are null\n"
   ],
   "metadata": {
    "collapsed": false
   },
   "id": "9068c7d7eeb5f66f"
  },
  {
   "cell_type": "code",
   "execution_count": 6,
   "outputs": [
    {
     "data": {
      "text/plain": "avg_rating_of_driver      8122\nphone                      396\navg_rating_by_driver       201\ncity                         0\ntrips_in_first_30_days       0\nsignup_date                  0\navg_surge                    0\nlast_trip_date               0\nsurge_pct                    0\nultimate_black_user          0\nweekday_pct                  0\navg_dist                     0\ndtype: int64"
     },
     "execution_count": 6,
     "metadata": {},
     "output_type": "execute_result"
    }
   ],
   "source": [
    "df.isna().sum().sort_values(ascending=False)"
   ],
   "metadata": {
    "collapsed": false,
    "ExecuteTime": {
     "end_time": "2023-09-14T17:30:25.071179Z",
     "start_time": "2023-09-14T17:30:25.018842Z"
    }
   },
   "id": "c955743bbc330a98"
  },
  {
   "cell_type": "code",
   "execution_count": 7,
   "outputs": [
    {
     "data": {
      "text/plain": "Winterfell        23336\nAstapor           16534\nKing's Landing    10130\nName: city, dtype: int64"
     },
     "execution_count": 7,
     "metadata": {},
     "output_type": "execute_result"
    }
   ],
   "source": [
    "\n",
    "\n",
    "# look for nulls\n",
    "df.city.value_counts(dropna=False)"
   ],
   "metadata": {
    "collapsed": false,
    "ExecuteTime": {
     "end_time": "2023-09-14T17:30:25.122384Z",
     "start_time": "2023-09-14T17:30:25.045947Z"
    }
   },
   "id": "99eafa9743d6d680"
  },
  {
   "cell_type": "code",
   "execution_count": 8,
   "outputs": [
    {
     "data": {
      "text/plain": "avg_rating_of_driver      8122\nphone                      396\navg_rating_by_driver       201\ncity                         0\ntrips_in_first_30_days       0\nsignup_date                  0\navg_surge                    0\nlast_trip_date               0\nsurge_pct                    0\nultimate_black_user          0\nweekday_pct                  0\navg_dist                     0\ndtype: int64"
     },
     "execution_count": 8,
     "metadata": {},
     "output_type": "execute_result"
    }
   ],
   "source": [
    "# look for nulls\n",
    "df.isna().sum().sort_values(ascending=False)"
   ],
   "metadata": {
    "collapsed": false,
    "ExecuteTime": {
     "end_time": "2023-09-14T17:30:25.125272Z",
     "start_time": "2023-09-14T17:30:25.048385Z"
    }
   },
   "id": "3fdcc6ad8e38d00b"
  },
  {
   "cell_type": "code",
   "execution_count": 9,
   "outputs": [
    {
     "data": {
      "text/plain": "Timestamp('2014-07-01 00:00:00')"
     },
     "execution_count": 9,
     "metadata": {},
     "output_type": "execute_result"
    }
   ],
   "source": [
    "today = df['last_trip_date'].max()\n",
    "today"
   ],
   "metadata": {
    "collapsed": false,
    "ExecuteTime": {
     "end_time": "2023-09-14T17:30:25.125430Z",
     "start_time": "2023-09-14T17:30:25.066280Z"
    }
   },
   "id": "534ecd41106678a1"
  },
  {
   "cell_type": "code",
   "execution_count": 9,
   "outputs": [],
   "source": [],
   "metadata": {
    "collapsed": false,
    "ExecuteTime": {
     "end_time": "2023-09-14T17:30:25.125685Z",
     "start_time": "2023-09-14T17:30:25.069776Z"
    }
   },
   "id": "1c83a5d2a477aafd"
  },
  {
   "cell_type": "code",
   "execution_count": 9,
   "outputs": [],
   "source": [],
   "metadata": {
    "collapsed": false,
    "ExecuteTime": {
     "end_time": "2023-09-14T17:30:25.126930Z",
     "start_time": "2023-09-14T17:30:25.071573Z"
    }
   },
   "id": "81fd4584d0a0207"
  },
  {
   "cell_type": "markdown",
   "source": [
    "Create the retained label"
   ],
   "metadata": {
    "collapsed": false
   },
   "id": "fc743e831c5405cc"
  },
  {
   "cell_type": "code",
   "execution_count": 10,
   "outputs": [],
   "source": [
    "from datetime import timedelta\n",
    "\n",
    "# Calculate the maximum last_trip_date\n",
    "max_last_trip_date = df['last_trip_date'].max()\n",
    "\n",
    "# Calculate the date 30 days ago from the maximum last_trip_date\n",
    "cutoff_date = max_last_trip_date - timedelta(days=30)\n",
    "\n",
    "\n",
    "\n",
    "df['retained'] = np.where(df['last_trip_date'] > cutoff_date, 1, 0)\n"
   ],
   "metadata": {
    "collapsed": false,
    "ExecuteTime": {
     "end_time": "2023-09-14T17:30:25.127089Z",
     "start_time": "2023-09-14T17:30:25.073618Z"
    }
   },
   "id": "af393a5aff8dee1"
  },
  {
   "cell_type": "code",
   "execution_count": 11,
   "outputs": [
    {
     "data": {
      "text/plain": "             city  trips_in_first_30_days signup_date  avg_rating_of_driver  \\\n0  King's Landing                       4  2014-01-25                   4.7   \n1         Astapor                       0  2014-01-29                   5.0   \n2         Astapor                       3  2014-01-06                   4.3   \n3  King's Landing                       9  2014-01-10                   4.6   \n4      Winterfell                      14  2014-01-27                   4.4   \n\n   avg_surge last_trip_date    phone  surge_pct  ultimate_black_user  \\\n0       1.10     2014-06-17   iPhone       15.4                 True   \n1       1.00     2014-05-05  Android        0.0                False   \n2       1.00     2014-01-07   iPhone        0.0                False   \n3       1.14     2014-06-29   iPhone       20.0                 True   \n4       1.19     2014-03-15  Android       11.8                False   \n\n   weekday_pct  avg_dist  avg_rating_by_driver  retained  \n0         46.2      3.67                   5.0         1  \n1         50.0      8.26                   5.0         0  \n2        100.0      0.77                   5.0         0  \n3         80.0      2.36                   4.9         1  \n4         82.4      3.13                   4.9         0  ",
      "text/html": "<div>\n<style scoped>\n    .dataframe tbody tr th:only-of-type {\n        vertical-align: middle;\n    }\n\n    .dataframe tbody tr th {\n        vertical-align: top;\n    }\n\n    .dataframe thead th {\n        text-align: right;\n    }\n</style>\n<table border=\"1\" class=\"dataframe\">\n  <thead>\n    <tr style=\"text-align: right;\">\n      <th></th>\n      <th>city</th>\n      <th>trips_in_first_30_days</th>\n      <th>signup_date</th>\n      <th>avg_rating_of_driver</th>\n      <th>avg_surge</th>\n      <th>last_trip_date</th>\n      <th>phone</th>\n      <th>surge_pct</th>\n      <th>ultimate_black_user</th>\n      <th>weekday_pct</th>\n      <th>avg_dist</th>\n      <th>avg_rating_by_driver</th>\n      <th>retained</th>\n    </tr>\n  </thead>\n  <tbody>\n    <tr>\n      <th>0</th>\n      <td>King's Landing</td>\n      <td>4</td>\n      <td>2014-01-25</td>\n      <td>4.7</td>\n      <td>1.10</td>\n      <td>2014-06-17</td>\n      <td>iPhone</td>\n      <td>15.4</td>\n      <td>True</td>\n      <td>46.2</td>\n      <td>3.67</td>\n      <td>5.0</td>\n      <td>1</td>\n    </tr>\n    <tr>\n      <th>1</th>\n      <td>Astapor</td>\n      <td>0</td>\n      <td>2014-01-29</td>\n      <td>5.0</td>\n      <td>1.00</td>\n      <td>2014-05-05</td>\n      <td>Android</td>\n      <td>0.0</td>\n      <td>False</td>\n      <td>50.0</td>\n      <td>8.26</td>\n      <td>5.0</td>\n      <td>0</td>\n    </tr>\n    <tr>\n      <th>2</th>\n      <td>Astapor</td>\n      <td>3</td>\n      <td>2014-01-06</td>\n      <td>4.3</td>\n      <td>1.00</td>\n      <td>2014-01-07</td>\n      <td>iPhone</td>\n      <td>0.0</td>\n      <td>False</td>\n      <td>100.0</td>\n      <td>0.77</td>\n      <td>5.0</td>\n      <td>0</td>\n    </tr>\n    <tr>\n      <th>3</th>\n      <td>King's Landing</td>\n      <td>9</td>\n      <td>2014-01-10</td>\n      <td>4.6</td>\n      <td>1.14</td>\n      <td>2014-06-29</td>\n      <td>iPhone</td>\n      <td>20.0</td>\n      <td>True</td>\n      <td>80.0</td>\n      <td>2.36</td>\n      <td>4.9</td>\n      <td>1</td>\n    </tr>\n    <tr>\n      <th>4</th>\n      <td>Winterfell</td>\n      <td>14</td>\n      <td>2014-01-27</td>\n      <td>4.4</td>\n      <td>1.19</td>\n      <td>2014-03-15</td>\n      <td>Android</td>\n      <td>11.8</td>\n      <td>False</td>\n      <td>82.4</td>\n      <td>3.13</td>\n      <td>4.9</td>\n      <td>0</td>\n    </tr>\n  </tbody>\n</table>\n</div>"
     },
     "execution_count": 11,
     "metadata": {},
     "output_type": "execute_result"
    }
   ],
   "source": [
    "df.head()"
   ],
   "metadata": {
    "collapsed": false,
    "ExecuteTime": {
     "end_time": "2023-09-14T17:30:25.127557Z",
     "start_time": "2023-09-14T17:30:25.080636Z"
    }
   },
   "id": "a86468f793219dce"
  },
  {
   "cell_type": "markdown",
   "source": [
    "Verify columns for ML  "
   ],
   "metadata": {
    "collapsed": false
   },
   "id": "8da052a6b74044e0"
  },
  {
   "cell_type": "markdown",
   "source": [],
   "metadata": {
    "collapsed": false
   },
   "id": "5e42bd4fe64bef36"
  },
  {
   "cell_type": "markdown",
   "source": [
    "avg_dist: numeric"
   ],
   "metadata": {
    "collapsed": false
   },
   "id": "764ef6f6f3c84267"
  },
  {
   "cell_type": "code",
   "execution_count": 12,
   "outputs": [
    {
     "data": {
      "text/plain": "0.00     150\n2.29     116\n2.30     116\n2.36     114\n2.73     114\n        ... \n25.07      1\n22.34      1\n25.43      1\n25.78      1\n30.39      1\nName: avg_dist, Length: 2908, dtype: int64"
     },
     "execution_count": 12,
     "metadata": {},
     "output_type": "execute_result"
    }
   ],
   "source": [
    "df.avg_dist.value_counts(dropna=False)"
   ],
   "metadata": {
    "collapsed": false,
    "ExecuteTime": {
     "end_time": "2023-09-14T17:30:25.164121Z",
     "start_time": "2023-09-14T17:30:25.083672Z"
    }
   },
   "id": "ada6db3a7f6ffc70"
  },
  {
   "cell_type": "markdown",
   "source": [
    "weekday_pct: numeric "
   ],
   "metadata": {
    "collapsed": false
   },
   "id": "a5029f2fa20db12"
  },
  {
   "cell_type": "code",
   "execution_count": 13,
   "outputs": [
    {
     "data": {
      "text/plain": "100.0    16659\n0.0       9203\n50.0      4057\n66.7      2088\n33.3      1619\n         ...  \n29.5         1\n93.6         1\n50.5         1\n47.9         1\n10.7         1\nName: weekday_pct, Length: 666, dtype: int64"
     },
     "execution_count": 13,
     "metadata": {},
     "output_type": "execute_result"
    }
   ],
   "source": [
    "df.weekday_pct.value_counts(dropna=False)"
   ],
   "metadata": {
    "collapsed": false,
    "ExecuteTime": {
     "end_time": "2023-09-14T17:30:25.164395Z",
     "start_time": "2023-09-14T17:30:25.087859Z"
    }
   },
   "id": "40af7703ce6ef1a3"
  },
  {
   "cell_type": "markdown",
   "source": [
    "ultimate_black_user: binary - one-hot encode"
   ],
   "metadata": {
    "collapsed": false
   },
   "id": "3d5cd657477a2445"
  },
  {
   "cell_type": "code",
   "execution_count": 14,
   "outputs": [
    {
     "data": {
      "text/plain": "False    31146\nTrue     18854\nName: ultimate_black_user, dtype: int64"
     },
     "execution_count": 14,
     "metadata": {},
     "output_type": "execute_result"
    }
   ],
   "source": [
    "df.ultimate_black_user.value_counts(dropna=False)"
   ],
   "metadata": {
    "collapsed": false,
    "ExecuteTime": {
     "end_time": "2023-09-14T17:30:25.164505Z",
     "start_time": "2023-09-14T17:30:25.092440Z"
    }
   },
   "id": "50bc363c415dfd37"
  },
  {
   "cell_type": "markdown",
   "source": [
    "phone: Although there are 396 records with no phone value, this could be an interesting indicator—so we have to categorize this one I think we create a third category for the tiny amount of missing records"
   ],
   "metadata": {
    "collapsed": false
   },
   "id": "71631e8a4df19a5"
  },
  {
   "cell_type": "code",
   "execution_count": 15,
   "outputs": [
    {
     "data": {
      "text/plain": "iPhone     34582\nAndroid    15022\nNone         396\nName: phone, dtype: int64"
     },
     "execution_count": 15,
     "metadata": {},
     "output_type": "execute_result"
    }
   ],
   "source": [
    "df.phone.value_counts(dropna=False)"
   ],
   "metadata": {
    "collapsed": false,
    "ExecuteTime": {
     "end_time": "2023-09-14T17:30:25.165450Z",
     "start_time": "2023-09-14T17:30:25.100659Z"
    }
   },
   "id": "1a57f797d208802d"
  },
  {
   "cell_type": "markdown",
   "source": [
    "surge_pct:  % 367 values - leave as a numeric"
   ],
   "metadata": {
    "collapsed": false
   },
   "id": "4d14f75d2722fa20"
  },
  {
   "cell_type": "code",
   "execution_count": 16,
   "outputs": [
    {
     "data": {
      "text/plain": "0.0      34409\n100.0     1416\n50.0      1367\n33.3      1152\n25.0       906\n         ...  \n48.1         1\n14.9         1\n42.4         1\n0.4          1\n35.2         1\nName: surge_pct, Length: 367, dtype: int64"
     },
     "execution_count": 16,
     "metadata": {},
     "output_type": "execute_result"
    }
   ],
   "source": [
    "df.surge_pct.value_counts(dropna=False)"
   ],
   "metadata": {
    "collapsed": false,
    "ExecuteTime": {
     "end_time": "2023-09-14T17:30:25.165676Z",
     "start_time": "2023-09-14T17:30:25.104523Z"
    }
   },
   "id": "423426d668d0de24"
  },
  {
   "cell_type": "markdown",
   "source": [
    "avg_surge: surge 115 values - leave as a numeric"
   ],
   "metadata": {
    "collapsed": false
   },
   "id": "abd2ab7d715112c6"
  },
  {
   "cell_type": "code",
   "execution_count": 17,
   "outputs": [
    {
     "data": {
      "text/plain": "1.00    34454\n1.25     1100\n1.13      956\n1.02      809\n1.08      798\n        ...  \n1.77        1\n4.75        1\n1.90        1\n1.51        1\n3.63        1\nName: avg_surge, Length: 115, dtype: int64"
     },
     "execution_count": 17,
     "metadata": {},
     "output_type": "execute_result"
    }
   ],
   "source": [
    "df.avg_surge.value_counts(dropna=False)"
   ],
   "metadata": {
    "collapsed": false,
    "ExecuteTime": {
     "end_time": "2023-09-14T17:30:25.166103Z",
     "start_time": "2023-09-14T17:30:25.108100Z"
    }
   },
   "id": "fcc5e902eaa6996f"
  },
  {
   "cell_type": "markdown",
   "source": [
    "avg_rating_by_driver: 28 numeric values for avg_rating_by_driver - could be a category or a numeric"
   ],
   "metadata": {
    "collapsed": false
   },
   "id": "b4bb2d3ace6a7b25"
  },
  {
   "cell_type": "code",
   "execution_count": 18,
   "outputs": [
    {
     "data": {
      "text/plain": "5.0    28508\n4.8     4537\n4.7     3330\n4.9     3094\n4.5     2424\n4.6     2078\n4.0     1914\n4.3     1018\n4.4      860\n3.0      602\n4.2      342\nNaN      201\n3.5      199\n3.7      195\n1.0      181\n2.0      126\n4.1      125\n3.8      111\n3.3       47\n3.9       41\n2.5       31\n3.6       19\n3.4        5\n1.5        4\n2.8        3\n3.2        2\n2.7        2\n2.3        1\nName: avg_rating_by_driver, dtype: int64"
     },
     "execution_count": 18,
     "metadata": {},
     "output_type": "execute_result"
    }
   ],
   "source": [
    "df.avg_rating_by_driver.value_counts(dropna=False)"
   ],
   "metadata": {
    "collapsed": false,
    "ExecuteTime": {
     "end_time": "2023-09-14T17:30:25.166202Z",
     "start_time": "2023-09-14T17:30:25.113527Z"
    }
   },
   "id": "5c8607a340dca7a1"
  },
  {
   "cell_type": "markdown",
   "source": [
    "avg_rating_of_driver: Avg driver rating has 38 fields - category?"
   ],
   "metadata": {
    "collapsed": false
   },
   "id": "e6ea1e7d6ce29870"
  },
  {
   "cell_type": "code",
   "execution_count": 19,
   "outputs": [
    {
     "data": {
      "text/plain": "5.0    20771\nNaN     8122\n4.0     4193\n4.5     2498\n4.8     2430\n4.7     1945\n4.9     1771\n4.3     1487\n4.6     1143\n3.0     1003\n4.4      829\n4.2      601\n3.5      488\n3.8      428\n4.1      398\n3.7      364\n1.0      256\n3.9      255\n2.0      209\n3.3      201\n3.6      172\n3.4      108\n2.5       94\n3.2       53\n2.7       47\n3.1       39\n2.8       28\n2.3       22\n2.9       13\n2.6       12\n2.1        6\n1.5        4\n2.4        3\n1.7        2\n1.8        2\n1.9        1\n1.6        1\n2.2        1\nName: avg_rating_of_driver, dtype: int64"
     },
     "execution_count": 19,
     "metadata": {},
     "output_type": "execute_result"
    }
   ],
   "source": [
    "df.avg_rating_of_driver.value_counts(dropna=False)"
   ],
   "metadata": {
    "collapsed": false,
    "ExecuteTime": {
     "end_time": "2023-09-14T17:30:25.166292Z",
     "start_time": "2023-09-14T17:30:25.117550Z"
    }
   },
   "id": "61079d003ca75b88"
  },
  {
   "cell_type": "markdown",
   "source": [
    "city:  Only three cities and no nulls, so that can be categorized"
   ],
   "metadata": {
    "collapsed": false
   },
   "id": "5fa3e5f8dacb3f68"
  },
  {
   "cell_type": "code",
   "execution_count": 20,
   "outputs": [
    {
     "data": {
      "text/plain": "Winterfell        23336\nAstapor           16534\nKing's Landing    10130\nName: city, dtype: int64"
     },
     "execution_count": 20,
     "metadata": {},
     "output_type": "execute_result"
    }
   ],
   "source": [
    "df.city.value_counts(dropna=False)"
   ],
   "metadata": {
    "collapsed": false,
    "ExecuteTime": {
     "end_time": "2023-09-14T17:30:25.239539Z",
     "start_time": "2023-09-14T17:30:25.129108Z"
    }
   },
   "id": "ef03f1c634bebc60"
  },
  {
   "cell_type": "markdown",
   "source": [
    "trips_in_first_30_days:  this is essentially continuous numeric but there are only 9 unique values -- can also be categorized ... if we want to"
   ],
   "metadata": {
    "collapsed": false
   },
   "id": "c6a1b2c0085dd0a3"
  },
  {
   "cell_type": "code",
   "execution_count": 21,
   "outputs": [
    {
     "data": {
      "text/plain": "0      15390\n1      14108\n2       7402\n3       3788\n4       2562\n5       1616\n6       1134\n7        819\n8        589\n9        471\n10       349\n11       301\n12       221\n13       168\n15       155\n14       147\n17       113\n16       108\n18        80\n19        69\n20        51\n23        45\n21        40\n22        34\n24        33\n27        28\n28        21\n25        20\n26        19\n30        15\n34        11\n29         9\n37         9\n33         9\n32         8\n31         6\n44         5\n40         5\n43         4\n38         4\n39         3\n36         3\n47         3\n42         3\n53         2\n48         2\n49         2\n55         2\n35         2\n54         2\n56         2\n71         1\n73         1\n125        1\n41         1\n50         1\n63         1\n51         1\n58         1\nName: trips_in_first_30_days, dtype: int64"
     },
     "execution_count": 21,
     "metadata": {},
     "output_type": "execute_result"
    }
   ],
   "source": [
    "df.trips_in_first_30_days.value_counts(dropna=False)"
   ],
   "metadata": {
    "collapsed": false,
    "ExecuteTime": {
     "end_time": "2023-09-14T17:30:25.250754Z",
     "start_time": "2023-09-14T17:30:25.132480Z"
    }
   },
   "id": "479d6f4a8c46fffa"
  },
  {
   "cell_type": "markdown",
   "source": [
    "\n",
    "Scale and maybe normalize\n",
    "avg_rating_by_driver: float : 28 numeric values for avg_rating_by_driver - could be a category or a numeric. - fillna with ... average over population\n",
    "avg_rating_of_driver: float :Avg driver rating has 38 fields - category?  fillna with ... average over population\n",
    "avg_surge: float : surge 115 values - leave as a numeric\n",
    "surge_pct:  % 367 values - leave as a numeric\n",
    "avg_dist: float : numeric\n",
    "weekday_pct: float :  numeric \n",
    "\n",
    "Categorize encoding\n",
    "phone: Although there are 396 records with no phone value=- fill with 'Other'\n",
    "city:  object - Only three cities and no nulls, so that can be categorized\n",
    "trips_in_first_30_days: this is essentially continuous numeric but there are only 9 unique values -- can also be one-hot encoded ... if we want to\n",
    "\n",
    "Pull out month and may calculate duration (e.g. duration sicen signup)\n",
    "signup_date : datetime : break into components?   month,... day?\n",
    "last_trip_date : datetime : date components - month, maybe intervals from signup?\n",
    "\n",
    "\n",
    "ultimate_black_user: bool : transform to 1,0 binary - one-hot encode\n",
    "\n",
    "\n",
    "\n",
    "\n",
    "df[‘ScheduledDay_year’] = df[‘ScheduledDay’].dt.year\n",
    "df[‘ScheduledDay_month’] = df[‘ScheduledDay’].dt.month\n",
    "df[‘ScheduledDay_week’] = df[‘ScheduledDay’].dt.week\n",
    "df[‘ScheduledDay_day’] = df[‘ScheduledDay’].dt.day\n",
    "df[‘ScheduledDay_hour’] = df[‘ScheduledDay’].dt.hour\n",
    "df[‘ScheduledDay_minute’] = df[‘ScheduledDay’].dt.minute\n",
    "df[‘ScheduledDay_dayofweek’] = df[‘ScheduledDay’].dt.dayofweek\n",
    "df[‘AppointmentDay_year’] = df[‘AppointmentDay’].dt.year\n",
    "df[‘AppointmentDay_month’] = df[‘AppointmentDay’].dt.month\n",
    "df[‘AppointmentDay_week’] = df[‘AppointmentDay’].dt.week\n",
    "df[‘AppointmentDay_day’] = df[‘AppointmentDay’].dt.day\n",
    "df[‘AppointmentDay_hour’] = df[‘AppointmentDay’].dt.hour\n",
    "df[‘AppointmentDay_minute’] = df[‘AppointmentDay’].dt.minute\n",
    "df[‘AppointmentDay_dayofweek’] = df[‘AppointmentDay’].dt.dayofweek\n",
    "\n",
    "\n"
   ],
   "metadata": {
    "collapsed": false
   },
   "id": "4898bae5e57be46e"
  },
  {
   "cell_type": "markdown",
   "source": [
    "Prepare data for feature selection"
   ],
   "metadata": {
    "collapsed": false
   },
   "id": "17788c1f26cb1438"
  },
  {
   "cell_type": "markdown",
   "source": [
    "Perform data transformations"
   ],
   "metadata": {
    "collapsed": false
   },
   "id": "d7d603aa6ee85d22"
  },
  {
   "cell_type": "code",
   "execution_count": 22,
   "outputs": [],
   "source": [
    "# cast to floats\n",
    "df['trips_in_first_30_days'] = df['trips_in_first_30_days'].astype(float)\n",
    "\n",
    "# we'll drop dates, but maybe the month of the year could have some importance\n",
    "df['signup_month'] = df['signup_date'].dt.month\n",
    "df['last_trip_month'] = df['last_trip_date'].dt.month\n",
    "\n",
    "# and maybe the length of time from signup to last_trip could have some value as a feature\n",
    "df['last_trip_days_since_su'] = (df['last_trip_date'] - df['signup_date']).dt.days\n",
    "\n",
    "# change booleans to int\n",
    "df['ultimate_black_user'] = df['ultimate_black_user'].astype(int)\n",
    "\n",
    "# lower case the phone names and fill the missing phone cells with 'other' \n",
    "df['phone'] = np.where(df['phone'].isna(), 'other', df['phone'].str.lower())\n",
    "\n",
    "# just cosmetically, make the column names lower case with no spaces in the name \n",
    "df['city'] = df['city'].str.replace(' ', '_').str.lower()  \n",
    "\n",
    "# fill the null avg_ columns with the mean - at least for feature selection \n",
    "df['avg_rating_by_driver'].fillna( df['avg_rating_by_driver'].mean(), inplace=True)\n",
    "df['avg_rating_of_driver'].fillna( df['avg_rating_of_driver'].mean(), inplace=True)"
   ],
   "metadata": {
    "collapsed": false,
    "ExecuteTime": {
     "end_time": "2023-09-14T17:30:25.274210Z",
     "start_time": "2023-09-14T17:30:25.136086Z"
    }
   },
   "id": "ba2f535026af0fcd"
  },
  {
   "cell_type": "markdown",
   "source": [
    "Encode the data for ML"
   ],
   "metadata": {
    "collapsed": false
   },
   "id": "fbcef9899bbea4a9"
  },
  {
   "cell_type": "code",
   "execution_count": 23,
   "outputs": [],
   "source": [
    "continuous_columns = [\n",
    "    'avg_rating_by_driver', \n",
    "    'avg_rating_of_driver',\n",
    "    'avg_surge',    \n",
    "    'surge_pct',    \n",
    "    'avg_dist',    \n",
    "    'weekday_pct',\n",
    "    'trips_in_first_30_days', \n",
    "    'last_trip_days_since_su'\n",
    "]\n",
    "\n",
    "category_columns = ['phone', 'city', 'signup_month', 'last_trip_month']\n",
    "\n",
    "df.drop(columns=['signup_date', 'last_trip_date'],inplace=True)\n"
   ],
   "metadata": {
    "collapsed": false,
    "ExecuteTime": {
     "end_time": "2023-09-14T17:30:25.310452Z",
     "start_time": "2023-09-14T17:30:25.177827Z"
    }
   },
   "id": "d87ebb7ad141ba15"
  },
  {
   "cell_type": "code",
   "execution_count": 24,
   "outputs": [
    {
     "data": {
      "text/plain": "   trips_in_first_30_days  avg_rating_of_driver  avg_surge  surge_pct  \\\n0                   0.032                 0.925   0.014286      0.154   \n1                   0.000                 1.000   0.000000      0.000   \n2                   0.024                 0.825   0.000000      0.000   \n3                   0.072                 0.900   0.020000      0.200   \n4                   0.112                 0.850   0.027143      0.118   \n\n   ultimate_black_user  weekday_pct  avg_dist  avg_rating_by_driver  retained  \\\n0                    1        0.462  0.022801                 1.000         1   \n1                    0        0.500  0.051317                 1.000         0   \n2                    0        1.000  0.004784                 1.000         0   \n3                    1        0.800  0.014662                 0.975         1   \n4                    0        0.824  0.019446                 0.975         0   \n\n   last_trip_days_since_su  ...  city_king's_landing  city_winterfell  \\\n0                 0.790055  ...                    1                0   \n1                 0.530387  ...                    0                0   \n2                 0.005525  ...                    0                0   \n3                 0.939227  ...                    1                0   \n4                 0.259669  ...                    0                1   \n\n   signup_month_1  last_trip_month_1  last_trip_month_2  last_trip_month_3  \\\n0               1                  0                  0                  0   \n1               1                  0                  0                  0   \n2               1                  1                  0                  0   \n3               1                  0                  0                  0   \n4               1                  0                  0                  1   \n\n   last_trip_month_4  last_trip_month_5  last_trip_month_6  last_trip_month_7  \n0                  0                  0                  1                  0  \n1                  0                  1                  0                  0  \n2                  0                  0                  0                  0  \n3                  0                  0                  1                  0  \n4                  0                  0                  0                  0  \n\n[5 rows x 24 columns]",
      "text/html": "<div>\n<style scoped>\n    .dataframe tbody tr th:only-of-type {\n        vertical-align: middle;\n    }\n\n    .dataframe tbody tr th {\n        vertical-align: top;\n    }\n\n    .dataframe thead th {\n        text-align: right;\n    }\n</style>\n<table border=\"1\" class=\"dataframe\">\n  <thead>\n    <tr style=\"text-align: right;\">\n      <th></th>\n      <th>trips_in_first_30_days</th>\n      <th>avg_rating_of_driver</th>\n      <th>avg_surge</th>\n      <th>surge_pct</th>\n      <th>ultimate_black_user</th>\n      <th>weekday_pct</th>\n      <th>avg_dist</th>\n      <th>avg_rating_by_driver</th>\n      <th>retained</th>\n      <th>last_trip_days_since_su</th>\n      <th>...</th>\n      <th>city_king's_landing</th>\n      <th>city_winterfell</th>\n      <th>signup_month_1</th>\n      <th>last_trip_month_1</th>\n      <th>last_trip_month_2</th>\n      <th>last_trip_month_3</th>\n      <th>last_trip_month_4</th>\n      <th>last_trip_month_5</th>\n      <th>last_trip_month_6</th>\n      <th>last_trip_month_7</th>\n    </tr>\n  </thead>\n  <tbody>\n    <tr>\n      <th>0</th>\n      <td>0.032</td>\n      <td>0.925</td>\n      <td>0.014286</td>\n      <td>0.154</td>\n      <td>1</td>\n      <td>0.462</td>\n      <td>0.022801</td>\n      <td>1.000</td>\n      <td>1</td>\n      <td>0.790055</td>\n      <td>...</td>\n      <td>1</td>\n      <td>0</td>\n      <td>1</td>\n      <td>0</td>\n      <td>0</td>\n      <td>0</td>\n      <td>0</td>\n      <td>0</td>\n      <td>1</td>\n      <td>0</td>\n    </tr>\n    <tr>\n      <th>1</th>\n      <td>0.000</td>\n      <td>1.000</td>\n      <td>0.000000</td>\n      <td>0.000</td>\n      <td>0</td>\n      <td>0.500</td>\n      <td>0.051317</td>\n      <td>1.000</td>\n      <td>0</td>\n      <td>0.530387</td>\n      <td>...</td>\n      <td>0</td>\n      <td>0</td>\n      <td>1</td>\n      <td>0</td>\n      <td>0</td>\n      <td>0</td>\n      <td>0</td>\n      <td>1</td>\n      <td>0</td>\n      <td>0</td>\n    </tr>\n    <tr>\n      <th>2</th>\n      <td>0.024</td>\n      <td>0.825</td>\n      <td>0.000000</td>\n      <td>0.000</td>\n      <td>0</td>\n      <td>1.000</td>\n      <td>0.004784</td>\n      <td>1.000</td>\n      <td>0</td>\n      <td>0.005525</td>\n      <td>...</td>\n      <td>0</td>\n      <td>0</td>\n      <td>1</td>\n      <td>1</td>\n      <td>0</td>\n      <td>0</td>\n      <td>0</td>\n      <td>0</td>\n      <td>0</td>\n      <td>0</td>\n    </tr>\n    <tr>\n      <th>3</th>\n      <td>0.072</td>\n      <td>0.900</td>\n      <td>0.020000</td>\n      <td>0.200</td>\n      <td>1</td>\n      <td>0.800</td>\n      <td>0.014662</td>\n      <td>0.975</td>\n      <td>1</td>\n      <td>0.939227</td>\n      <td>...</td>\n      <td>1</td>\n      <td>0</td>\n      <td>1</td>\n      <td>0</td>\n      <td>0</td>\n      <td>0</td>\n      <td>0</td>\n      <td>0</td>\n      <td>1</td>\n      <td>0</td>\n    </tr>\n    <tr>\n      <th>4</th>\n      <td>0.112</td>\n      <td>0.850</td>\n      <td>0.027143</td>\n      <td>0.118</td>\n      <td>0</td>\n      <td>0.824</td>\n      <td>0.019446</td>\n      <td>0.975</td>\n      <td>0</td>\n      <td>0.259669</td>\n      <td>...</td>\n      <td>0</td>\n      <td>1</td>\n      <td>1</td>\n      <td>0</td>\n      <td>0</td>\n      <td>1</td>\n      <td>0</td>\n      <td>0</td>\n      <td>0</td>\n      <td>0</td>\n    </tr>\n  </tbody>\n</table>\n<p>5 rows × 24 columns</p>\n</div>"
     },
     "execution_count": 24,
     "metadata": {},
     "output_type": "execute_result"
    }
   ],
   "source": [
    "# Perform one-hot encoding on the cat columns\n",
    "df_encoded = pd.get_dummies(df, columns=category_columns)\n",
    "\n",
    "# Apply MinMax scaling to the numeric columns\n",
    "scaler = MinMaxScaler()\n",
    "df_encoded[continuous_columns] = scaler.fit_transform(df_encoded[continuous_columns])\n",
    "\n",
    "df_encoded.head()\n"
   ],
   "metadata": {
    "collapsed": false,
    "ExecuteTime": {
     "end_time": "2023-09-14T17:30:25.329187Z",
     "start_time": "2023-09-14T17:30:25.182293Z"
    }
   },
   "id": "13e9dbfa2dce681"
  },
  {
   "cell_type": "markdown",
   "source": [
    "Perform any final validations"
   ],
   "metadata": {
    "collapsed": false
   },
   "id": "69dd9b6a039863e5"
  },
  {
   "cell_type": "code",
   "execution_count": 25,
   "outputs": [],
   "source": [
    "assert df.isna().sum().sum() == 0"
   ],
   "metadata": {
    "collapsed": false,
    "ExecuteTime": {
     "end_time": "2023-09-14T17:30:25.329441Z",
     "start_time": "2023-09-14T17:30:25.206356Z"
    }
   },
   "id": "bd4d73f13f936d50"
  },
  {
   "cell_type": "code",
   "execution_count": 25,
   "outputs": [],
   "source": [],
   "metadata": {
    "collapsed": false,
    "ExecuteTime": {
     "end_time": "2023-09-14T17:30:25.329492Z",
     "start_time": "2023-09-14T17:30:25.215265Z"
    }
   },
   "id": "68f1256547881ad9"
  },
  {
   "cell_type": "code",
   "execution_count": 25,
   "outputs": [],
   "source": [],
   "metadata": {
    "collapsed": false,
    "ExecuteTime": {
     "end_time": "2023-09-14T17:30:25.329538Z",
     "start_time": "2023-09-14T17:30:25.217567Z"
    }
   },
   "id": "46dea137f3cff09a"
  },
  {
   "cell_type": "code",
   "execution_count": 25,
   "outputs": [],
   "source": [],
   "metadata": {
    "collapsed": false,
    "ExecuteTime": {
     "end_time": "2023-09-14T17:30:25.329896Z",
     "start_time": "2023-09-14T17:30:25.219172Z"
    }
   },
   "id": "cff37fa411afa7b9"
  },
  {
   "cell_type": "code",
   "execution_count": 25,
   "outputs": [],
   "source": [],
   "metadata": {
    "collapsed": false,
    "ExecuteTime": {
     "end_time": "2023-09-14T17:30:25.330302Z",
     "start_time": "2023-09-14T17:30:25.220759Z"
    }
   },
   "id": "2cd31ca15102324f"
  }
 ],
 "metadata": {
  "kernelspec": {
   "display_name": "Python 3",
   "language": "python",
   "name": "python3"
  },
  "language_info": {
   "codemirror_mode": {
    "name": "ipython",
    "version": 2
   },
   "file_extension": ".py",
   "mimetype": "text/x-python",
   "name": "python",
   "nbconvert_exporter": "python",
   "pygments_lexer": "ipython2",
   "version": "2.7.6"
  }
 },
 "nbformat": 4,
 "nbformat_minor": 5
}
