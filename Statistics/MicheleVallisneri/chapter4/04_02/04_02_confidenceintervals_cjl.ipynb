{
 "cells": [
  {
   "cell_type": "markdown",
   "metadata": {},
   "source": [
    "## Python statistics essential training - 04_02_confidenceintervals"
   ]
  },
  {
   "cell_type": "markdown",
   "metadata": {},
   "source": [
    "Standard imports"
   ]
  },
  {
   "cell_type": "code",
   "execution_count": 249,
   "metadata": {},
   "outputs": [],
   "source": [
    "import math\n",
    "import io"
   ]
  },
  {
   "cell_type": "code",
   "execution_count": 250,
   "metadata": {},
   "outputs": [],
   "source": [
    "import numpy as np\n",
    "import pandas as pd\n",
    "\n",
    "import matplotlib\n",
    "import matplotlib.pyplot as pp\n",
    "\n",
    "%matplotlib inline"
   ]
  },
  {
   "cell_type": "code",
   "execution_count": 251,
   "metadata": {},
   "outputs": [],
   "source": [
    "import scipy.stats\n",
    "import scipy.optimize\n",
    "import scipy.spatial"
   ]
  },
  {
   "cell_type": "markdown",
   "source": [
    "# Chapter 4. Statistical Inference"
   ],
   "metadata": {
    "collapsed": false
   }
  },
  {
   "cell_type": "code",
   "execution_count": 252,
   "metadata": {},
   "outputs": [],
   "source": [
    "poll = pd.read_csv(\"poll.csv\")"
   ]
  },
  {
   "cell_type": "code",
   "execution_count": 253,
   "outputs": [
    {
     "data": {
      "text/plain": "    vote\n0  Brown\n1  Green\n2  Brown\n3  Brown\n4  Brown",
      "text/html": "<div>\n<style scoped>\n    .dataframe tbody tr th:only-of-type {\n        vertical-align: middle;\n    }\n\n    .dataframe tbody tr th {\n        vertical-align: top;\n    }\n\n    .dataframe thead th {\n        text-align: right;\n    }\n</style>\n<table border=\"1\" class=\"dataframe\">\n  <thead>\n    <tr style=\"text-align: right;\">\n      <th></th>\n      <th>vote</th>\n    </tr>\n  </thead>\n  <tbody>\n    <tr>\n      <th>0</th>\n      <td>Brown</td>\n    </tr>\n    <tr>\n      <th>1</th>\n      <td>Green</td>\n    </tr>\n    <tr>\n      <th>2</th>\n      <td>Brown</td>\n    </tr>\n    <tr>\n      <th>3</th>\n      <td>Brown</td>\n    </tr>\n    <tr>\n      <th>4</th>\n      <td>Brown</td>\n    </tr>\n  </tbody>\n</table>\n</div>"
     },
     "execution_count": 253,
     "metadata": {},
     "output_type": "execute_result"
    }
   ],
   "source": [
    "poll.head()\n"
   ],
   "metadata": {
    "collapsed": false
   }
  },
  {
   "cell_type": "code",
   "execution_count": 254,
   "outputs": [
    {
     "data": {
      "text/plain": "vote \nBrown    0.511\nGreen    0.489\ndtype: float64"
     },
     "execution_count": 254,
     "metadata": {},
     "output_type": "execute_result"
    }
   ],
   "source": [
    "poll.value_counts(normalize=True)"
   ],
   "metadata": {
    "collapsed": false
   }
  },
  {
   "cell_type": "markdown",
   "source": [
    "#### validate results by testing our .511 percentage of Brown votes against random resamples of the same data"
   ],
   "metadata": {
    "collapsed": false
   }
  },
  {
   "cell_type": "code",
   "execution_count": 255,
   "outputs": [],
   "source": [
    "samples=1000"
   ],
   "metadata": {
    "collapsed": false
   }
  },
  {
   "cell_type": "code",
   "execution_count": 256,
   "outputs": [
    {
     "data": {
      "text/plain": "array([False,  True, False,  True, False])"
     },
     "execution_count": 256,
     "metadata": {},
     "output_type": "execute_result"
    }
   ],
   "source": [
    "# I can aso create a truth table based on that distrubution\n",
    "boundary = .511\n",
    "true_false = np.random.rand(samples) < boundary\n",
    "true_false[:5]"
   ],
   "metadata": {
    "collapsed": false
   }
  },
  {
   "cell_type": "code",
   "execution_count": 257,
   "outputs": [
    {
     "data": {
      "text/plain": "array(['Green', 'Green', 'Green', 'Brown', 'Green'], dtype='<U5')"
     },
     "execution_count": 257,
     "metadata": {},
     "output_type": "execute_result"
    }
   ],
   "source": [
    "# I can then assign those to categories using np.where()\n",
    "names_list = np.where(np.random.rand(samples) < boundary, 'Brown', 'Green')\n",
    "names_list[:5]"
   ],
   "metadata": {
    "collapsed": false
   }
  },
  {
   "cell_type": "markdown",
   "source": [
    "##### wrap all of that into a function that returns a dataframe of random samples"
   ],
   "metadata": {
    "collapsed": false
   }
  },
  {
   "cell_type": "code",
   "execution_count": 258,
   "outputs": [],
   "source": [
    "# I can take a percentage (.51) breakout and create a random set of samples\n",
    "def random_sample(bound, n):\n",
    "    return pd.DataFrame(\n",
    "        {'vote': np.where(np.random.rand(n) < bound, 'Brown', 'Green')})"
   ],
   "metadata": {
    "collapsed": false
   }
  },
  {
   "cell_type": "code",
   "execution_count": 259,
   "outputs": [
    {
     "data": {
      "text/plain": "    vote\n0  Brown\n1  Green\n2  Brown\n3  Brown\n4  Brown",
      "text/html": "<div>\n<style scoped>\n    .dataframe tbody tr th:only-of-type {\n        vertical-align: middle;\n    }\n\n    .dataframe tbody tr th {\n        vertical-align: top;\n    }\n\n    .dataframe thead th {\n        text-align: right;\n    }\n</style>\n<table border=\"1\" class=\"dataframe\">\n  <thead>\n    <tr style=\"text-align: right;\">\n      <th></th>\n      <th>vote</th>\n    </tr>\n  </thead>\n  <tbody>\n    <tr>\n      <th>0</th>\n      <td>Brown</td>\n    </tr>\n    <tr>\n      <th>1</th>\n      <td>Green</td>\n    </tr>\n    <tr>\n      <th>2</th>\n      <td>Brown</td>\n    </tr>\n    <tr>\n      <th>3</th>\n      <td>Brown</td>\n    </tr>\n    <tr>\n      <th>4</th>\n      <td>Brown</td>\n    </tr>\n  </tbody>\n</table>\n</div>"
     },
     "execution_count": 259,
     "metadata": {},
     "output_type": "execute_result"
    }
   ],
   "source": [
    "rand_sample = random_sample(.511, 1000)\n",
    "rand_sample.head()"
   ],
   "metadata": {
    "collapsed": false
   }
  },
  {
   "cell_type": "markdown",
   "source": [
    "#### taking the value counts of the df yields a series with the percentages for bown and green"
   ],
   "metadata": {
    "collapsed": false
   }
  },
  {
   "cell_type": "code",
   "execution_count": 260,
   "outputs": [
    {
     "data": {
      "text/plain": "vote \nBrown    0.535\nGreen    0.465\ndtype: float64"
     },
     "execution_count": 260,
     "metadata": {},
     "output_type": "execute_result"
    }
   ],
   "source": [
    "rand_sample.value_counts(normalize=True)"
   ],
   "metadata": {
    "collapsed": false
   }
  },
  {
   "cell_type": "markdown",
   "source": [
    "#### call the random function several times, taking the value  counts of each, and putting the results into a list of Series"
   ],
   "metadata": {
    "collapsed": false
   }
  },
  {
   "cell_type": "code",
   "execution_count": 261,
   "outputs": [
    {
     "name": "stdout",
     "output_type": "stream",
     "text": [
      "dataset 0 type: <class 'pandas.core.series.Series'>\n",
      "-------------\n",
      "vote \n",
      "Green    0.502\n",
      "Brown    0.498\n",
      "dtype: float64 \n",
      "\n",
      "dataset 1 type: <class 'pandas.core.series.Series'>\n",
      "-------------\n",
      "vote \n",
      "Green    0.513\n",
      "Brown    0.487\n",
      "dtype: float64 \n",
      "\n"
     ]
    }
   ],
   "source": [
    "d = [random_sample(.511, 1000).value_counts(normalize=True) for i in range(1000)]\n",
    "for i in range(2):\n",
    "    print(f\"dataset {i} type: {type(d[i])}\\n-------------\")\n",
    "    print(d[i] , \"\\n\")"
   ],
   "metadata": {
    "collapsed": false
   }
  },
  {
   "cell_type": "markdown",
   "source": [
    "#### wrap our list of Series into a Dataframe"
   ],
   "metadata": {
    "collapsed": false
   }
  },
  {
   "cell_type": "code",
   "execution_count": 262,
   "outputs": [
    {
     "data": {
      "text/plain": "vote  Green  Brown\n0     0.502  0.498\n1     0.513  0.487\n2     0.501  0.499\n3     0.484  0.516\n4     0.494  0.506",
      "text/html": "<div>\n<style scoped>\n    .dataframe tbody tr th:only-of-type {\n        vertical-align: middle;\n    }\n\n    .dataframe tbody tr th {\n        vertical-align: top;\n    }\n\n    .dataframe thead tr th {\n        text-align: left;\n    }\n</style>\n<table border=\"1\" class=\"dataframe\">\n  <thead>\n    <tr>\n      <th>vote</th>\n      <th>Green</th>\n      <th>Brown</th>\n    </tr>\n  </thead>\n  <tbody>\n    <tr>\n      <th>0</th>\n      <td>0.502</td>\n      <td>0.498</td>\n    </tr>\n    <tr>\n      <th>1</th>\n      <td>0.513</td>\n      <td>0.487</td>\n    </tr>\n    <tr>\n      <th>2</th>\n      <td>0.501</td>\n      <td>0.499</td>\n    </tr>\n    <tr>\n      <th>3</th>\n      <td>0.484</td>\n      <td>0.516</td>\n    </tr>\n    <tr>\n      <th>4</th>\n      <td>0.494</td>\n      <td>0.506</td>\n    </tr>\n  </tbody>\n</table>\n</div>"
     },
     "execution_count": 262,
     "metadata": {},
     "output_type": "execute_result"
    }
   ],
   "source": [
    "dist = pd.DataFrame(d)\n",
    "dist.head()"
   ],
   "metadata": {
    "collapsed": false
   }
  },
  {
   "cell_type": "code",
   "execution_count": 263,
   "outputs": [
    {
     "data": {
      "text/plain": "<Figure size 432x288 with 2 Axes>",
      "image/png": "[encoded data removed]"
     },
     "metadata": {
      "needs_background": "light"
     },
     "output_type": "display_data"
    }
   ],
   "source": [
    "dist.hist(histtype='step', bins=20);"
   ],
   "metadata": {
    "collapsed": false
   }
  },
  {
   "cell_type": "markdown",
   "source": [
    "# # Chapter 4. Confidence Intervals"
   ],
   "metadata": {
    "collapsed": false
   }
  },
  {
   "cell_type": "code",
   "execution_count": 264,
   "outputs": [],
   "source": [
    "# Use random_sample from above, but put all the steps above into a single function, yielding a dataframe\n",
    "\n",
    "def sampling_dist(bound, iterations):\n",
    "    return pd.DataFrame([random_sample(bound, iterations).value_counts(normalize=True) for i in range(iterations)])"
   ],
   "metadata": {
    "collapsed": false
   }
  },
  {
   "cell_type": "code",
   "execution_count": 265,
   "outputs": [],
   "source": [
    "bound = .511\n",
    "iterations=10_000\n",
    "dist = sampling_dist(bound, iterations)"
   ],
   "metadata": {
    "collapsed": false
   }
  },
  {
   "cell_type": "markdown",
   "source": [],
   "metadata": {
    "collapsed": false
   }
  },
  {
   "cell_type": "markdown",
   "source": [
    "### get confidence levels using np.percentile()"
   ],
   "metadata": {
    "collapsed": false
   }
  },
  {
   "cell_type": "code",
   "execution_count": 266,
   "outputs": [
    {
     "name": "stdout",
     "output_type": "stream",
     "text": [
      "0.5109936400000091\n"
     ]
    },
    {
     "data": {
      "text/plain": "array([0.5011, 0.5208])"
     },
     "execution_count": 266,
     "metadata": {},
     "output_type": "execute_result"
    }
   ],
   "source": [
    "ci_brown = np.percentile(dist.Brown, [2.5, 97.5])\n",
    "print(dist.Brown.mean()[0])\n",
    "ci_brown"
   ],
   "metadata": {
    "collapsed": false
   }
  },
  {
   "cell_type": "code",
   "execution_count": 267,
   "outputs": [
    {
     "name": "stdout",
     "output_type": "stream",
     "text": [
      "0.4890063599999922\n"
     ]
    },
    {
     "data": {
      "text/plain": "array([0.4792, 0.4989])"
     },
     "execution_count": 267,
     "metadata": {},
     "output_type": "execute_result"
    }
   ],
   "source": [
    "ci_green = np.percentile(dist.Green, [2.5, 97.5])\n",
    "print(dist.Green.mean()[0])\n",
    "ci_green"
   ],
   "metadata": {
    "collapsed": false
   }
  },
  {
   "cell_type": "markdown",
   "source": [
    "### get confidence levels using pd quantile"
   ],
   "metadata": {
    "collapsed": false
   }
  },
  {
   "cell_type": "code",
   "execution_count": 268,
   "outputs": [],
   "source": [
    "# Michele uses quantile instead of np.percentile\n",
    "\n",
    "# def get_quantiles(bound, iterations=1000):\n",
    "#     dist = sampling_dist(bound, iterations)\n",
    "#     return dist.Brown.quantile(.25), dist.Brown.quantile(.975)"
   ],
   "metadata": {
    "collapsed": false
   }
  },
  {
   "cell_type": "code",
   "execution_count": 269,
   "outputs": [
    {
     "data": {
      "text/plain": "array([[0.5011],\n       [0.5208]])"
     },
     "execution_count": 269,
     "metadata": {},
     "output_type": "execute_result"
    }
   ],
   "source": [
    "np.array([dist.Brown.quantile(.025), dist.Brown.quantile(.975)])"
   ],
   "metadata": {
    "collapsed": false
   }
  },
  {
   "cell_type": "code",
   "execution_count": 270,
   "outputs": [
    {
     "data": {
      "text/plain": "array([[0.4792],\n       [0.4989]])"
     },
     "execution_count": 270,
     "metadata": {},
     "output_type": "execute_result"
    }
   ],
   "source": [
    "np.array([dist.Green.quantile(.025), dist.Green.quantile(.975)])"
   ],
   "metadata": {
    "collapsed": false
   }
  },
  {
   "cell_type": "code",
   "execution_count": 271,
   "outputs": [],
   "source": [
    "def print_ci(data, lower_bound, upper_bound):\n",
    "    ci = np.percentile(data, [lower_bound, upper_bound])\n",
    "    mean =  data.mean()[0]\n",
    "\n",
    "    neg_diff = round( mean - ci[0], 2)\n",
    "    pos_dif = round( ci[1] - mean, 2)\n",
    "\n",
    "    print(f\"Estimate: {mean} minus {neg_diff} or plus {pos_dif} (at {upper_bound - lower_bound}% confidence)\")"
   ],
   "metadata": {
    "collapsed": false
   }
  },
  {
   "cell_type": "code",
   "execution_count": 272,
   "outputs": [
    {
     "name": "stdout",
     "output_type": "stream",
     "text": [
      "Estimate: 0.5109936400000091 minus 0.01 or plus 0.01 (at 95.0% confidence)\n"
     ]
    }
   ],
   "source": [
    "print_ci(dist.Brown, 2.5, 97.5)"
   ],
   "metadata": {
    "collapsed": false
   }
  },
  {
   "cell_type": "code",
   "execution_count": 273,
   "outputs": [
    {
     "name": "stdout",
     "output_type": "stream",
     "text": [
      "Estimate: 0.4890063599999922 minus 0.01 or plus 0.01 (at 95.0% confidence)\n"
     ]
    }
   ],
   "source": [
    "print_ci(dist.Green, 2.5, 97.5)"
   ],
   "metadata": {
    "collapsed": false
   }
  }
 ],
 "metadata": {
  "kernelspec": {
   "display_name": "Python 3",
   "language": "python",
   "name": "python3"
  },
  "language_info": {
   "codemirror_mode": {
    "name": "ipython",
    "version": 3
   },
   "file_extension": ".py",
   "mimetype": "text/x-python",
   "name": "python",
   "nbconvert_exporter": "python",
   "pygments_lexer": "ipython3",
   "version": "3.6.4"
  },
  "toc": {
   "base_numbering": 1,
   "nav_menu": {},
   "number_sections": true,
   "sideBar": true,
   "skip_h1_title": false,
   "title_cell": "Table of Contents",
   "title_sidebar": "Contents",
   "toc_cell": false,
   "toc_position": {},
   "toc_section_display": true,
   "toc_window_display": false
  }
 },
 "nbformat": 4,
 "nbformat_minor": 2
}
