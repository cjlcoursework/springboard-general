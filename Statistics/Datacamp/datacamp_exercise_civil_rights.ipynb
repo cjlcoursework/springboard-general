{
 "cells": [
  {
   "cell_type": "code",
   "execution_count": 12,
   "metadata": {
    "collapsed": true
   },
   "outputs": [],
   "source": [
    "import math\n",
    "import io\n",
    "import random\n",
    "\n",
    "import matplotlib.pyplot as plt\n",
    "import numpy as np\n",
    "import pandas as pd\n",
    "from itertools import product, combinations\n",
    "import matplotlib\n",
    "import matplotlib.pyplot as pp\n"
   ]
  },
  {
   "cell_type": "code",
   "execution_count": 13,
   "outputs": [],
   "source": [
    "# create a permutation of two datasets\n",
    "def permutation_sample(data1, data2):\n",
    "    \"\"\"Generate a permutation sample from two data sets.\"\"\"\n",
    "\n",
    "    # Concatenate the data sets: data\n",
    "    data = np.concatenate((data1, data2))\n",
    "\n",
    "    # Permute the concatenated array: permuted_data\n",
    "    permuted_data = np.random.permutation(data)\n",
    "\n",
    "    # Split the permuted array into two: perm_sample_1, perm_sample_2\n",
    "    perm_sample_1 = permuted_data[:len(data1)]\n",
    "    perm_sample_2 = permuted_data[len(data1):]\n",
    "\n",
    "    return perm_sample_1, perm_sample_2\n",
    "\n",
    "\n",
    "\n",
    "def mix_and_shuffle(data_1, data_2, func, number_of_replicates=1):\n",
    "    \"\"\"Generate multiple permutation replicates.\"\"\"\n",
    "\n",
    "    # Initialize array of replicates: perm_replicates\n",
    "    perm_replicates = np.empty(number_of_replicates)\n",
    "\n",
    "    for i in range(number_of_replicates):\n",
    "        # Generate permutation sample - mix these two together and split again\n",
    "        perm_sample_1, perm_sample_2 = permutation_sample(data1=data_1, data2=data_2)\n",
    "\n",
    "        # Compute the test statistic\n",
    "        perm_replicates[i] = func(perm_sample_1, perm_sample_2)\n",
    "\n",
    "    return perm_replicates\n",
    "\n",
    "\n",
    "def bootstrap_replicate_1d(data, func):\n",
    "    \"\"\"Generate bootstrap replicate of 1D data.\"\"\"\n",
    "    bs_sample = np.random.choice(data, len(data))\n",
    "    return func(bs_sample)"
   ],
   "metadata": {
    "collapsed": false
   }
  },
  {
   "cell_type": "markdown",
   "source": [
    "The Civil Rights Act of 1964 was one of the most important pieces of legislation ever passed in the USA. Excluding \"present\" and \"abstain\" votes, 153 House Democrats and 136 Republicans voted yea. However, 91 Democrats and 35 Republicans voted nay. Did party affiliation make a difference in the vote?\n",
    "\n",
    "To answer this question, you will evaluate the hypothesis that the party of a House member has no bearing on his or her vote. You will use the fraction of Democrats voting in favor as your test statistic and evaluate the probability of observing a fraction of Democrats voting in favor at least as small as the observed fraction of 153/244. (That's right, at least as small as. In 1964, it was the Democrats who were less progressive on civil rights issues.) To do this, permute the party labels of the House voters and then arbitrarily divide them into \"Democrats\" and \"Republicans\" and compute the fraction of Democrats voting yea.\n",
    "\n",
    "**Null Hypothesis**  The party of a House member has no bearing on his or her vote\n",
    "\n",
    "**Notes**\n",
    "We create datasets from the dem and rep percentages found\n",
    "Scramble them together and permutate them 10,000 times - then take the % of \"dems\" voting - this is a total arbitrary MIX of real votes, but without any real party affiliation\n",
    "Try to prove the null by finding the percentage of \"dems\" that voted yea, the NULL Hypothesis is that\n"
   ],
   "metadata": {
    "collapsed": false
   }
  },
  {
   "cell_type": "code",
   "execution_count": 14,
   "outputs": [
    {
     "name": "stdout",
     "output_type": "stream",
     "text": [
      "p-value of the Null hypothesis that a blind (mixing dems and rep votes) permutation will still show the same percentage of yea to nay votes (IOW party does not matter) = 0.0001\n",
      "p-value alternate Hypothesis that an arbitrary permutation will STILL show higher dem votes than the observed votes  = 0.9999\n"
     ]
    }
   ],
   "source": [
    "# **Null Hypothesis**  The party of a House member had no bearing on his or her vote for the Civil Rights Act\n",
    "\n",
    "# test statistic\n",
    "def fraction_of_yes_votes(dems, reps):\n",
    "    \"\"\"Compute fraction of Democrat yea votes. Hmmmm ... we are only using half the mixed set here, but that's Ok I guess\"\"\"\n",
    "    frac = np.sum(dems) / len(dems)\n",
    "    return frac\n",
    "\n",
    "\n",
    "\n",
    "# Construct arrays of data: dems, reps - this is the breakout of the original vote for the civil rights act\n",
    "dems = np.array([True] * 153 + [False] * 91)   ## 60%\n",
    "reps = np.array([True] * 136 + [False] * 35)   ## 79%\n",
    "\n",
    "\n",
    "\n",
    "# Acquire permutation samples: perm_replicates -\n",
    "#       for 1 to 10,00 :\n",
    "#           concat dems and reps,\n",
    "#           shuffle the results and\n",
    "#           split the results into arbitrary halves\n",
    "perm_replicates = mix_and_shuffle(dems, reps, fraction_of_yes_votes, number_of_replicates=10000)\n",
    "\n",
    "\n",
    "# Compute and print p-value: p\n",
    "p = np.sum(perm_replicates <= 153/244) / len(perm_replicates)\n",
    "print('p-value of the Null hypothesis that a blind (mixing dems and rep votes) permutation will still show the same percentage of yea to nay votes (IOW party does not matter) =', p)\n"
   ],
   "metadata": {
    "collapsed": false
   }
  },
  {
   "cell_type": "markdown",
   "source": [
    "Great work! This small p-value suggests that party identity had a lot to do with the voting. Importantly, the South had a higher fraction of Democrat representatives, and consequently also a more racist bias.\n",
    "\n",
    "Comparing to the A/B test - The \"Democrats\" are those who view the ad before the color change, and the \"Republicans\" are those who view it after"
   ],
   "metadata": {
    "collapsed": false
   }
  }
 ],
 "metadata": {
  "kernelspec": {
   "display_name": "Python 3",
   "language": "python",
   "name": "python3"
  },
  "language_info": {
   "codemirror_mode": {
    "name": "ipython",
    "version": 2
   },
   "file_extension": ".py",
   "mimetype": "text/x-python",
   "name": "python",
   "nbconvert_exporter": "python",
   "pygments_lexer": "ipython2",
   "version": "2.7.6"
  }
 },
 "nbformat": 4,
 "nbformat_minor": 0
}
