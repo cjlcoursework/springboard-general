{
 "cells": [
  {
   "cell_type": "code",
   "execution_count": 15,
   "metadata": {
    "collapsed": true
   },
   "outputs": [],
   "source": [
    "import math\n",
    "import io\n",
    "import random\n",
    "\n",
    "import matplotlib.pyplot as plt\n",
    "import numpy as np\n",
    "import pandas as pd\n",
    "from itertools import product, combinations\n",
    "import matplotlib\n",
    "import matplotlib.pyplot as pp\n"
   ]
  },
  {
   "cell_type": "code",
   "execution_count": 16,
   "outputs": [],
   "source": [
    "# create a permutation of two datasets\n",
    "def permutation_sample(data1, data2):\n",
    "    \"\"\"Generate a permutation sample from two data sets.\"\"\"\n",
    "\n",
    "    # Concatenate the data sets: data\n",
    "    data = np.concatenate((data1, data2))\n",
    "\n",
    "    # Permute the concatenated array: permuted_data\n",
    "    permuted_data = np.random.permutation(data)\n",
    "\n",
    "    # Split the permuted array into two: perm_sample_1, perm_sample_2\n",
    "    perm_sample_1 = permuted_data[:len(data1)]\n",
    "    perm_sample_2 = permuted_data[len(data1):]\n",
    "\n",
    "    return perm_sample_1, perm_sample_2\n",
    "\n",
    "\n",
    "def draw_perm_reps(data_1, data_2, func, size=1):\n",
    "    \"\"\"Generate multiple permutation replicates.\"\"\"\n",
    "\n",
    "    # Initialize array of replicates: perm_replicates\n",
    "    perm_replicates = np.empty(size)\n",
    "\n",
    "    for i in range(size):\n",
    "        # Generate permutation sample - mix these two together and split again\n",
    "        perm_sample_1, perm_sample_2 = permutation_sample(data1=data_1, data2=data_2)\n",
    "\n",
    "        # Compute the test statistic\n",
    "        perm_replicates[i] = func(perm_sample_1, perm_sample_2)\n",
    "\n",
    "    return perm_replicates\n",
    "\n",
    "\n",
    "def bootstrap_replicate_1d(data, func):\n",
    "    \"\"\"Generate bootstrap replicate of 1D data.\"\"\"\n",
    "    bs_sample = np.random.choice(data, len(data))\n",
    "    return func(bs_sample)"
   ],
   "metadata": {
    "collapsed": false
   }
  },
  {
   "cell_type": "markdown",
   "source": [
    "The observed correlation between female illiteracy and fertility in the data set of 162 countries may just be by chance; the fertility of a given country may actually be totally independent of its illiteracy. You will test this null hypothesis in the next exercise.\n",
    "\n",
    "To do the test, you need to simulate the data assuming the null hypothesis is true. Of the following choices, which is the best way to do it\n",
    "\n",
    "\n",
    "\n",
    "**Null Hypothesis** the fertility of a given country is NOT dependent on its illiteracy\n",
    "data - 162 countries\n",
    "\n"
   ],
   "metadata": {
    "collapsed": false
   }
  },
  {
   "cell_type": "code",
   "execution_count": 17,
   "outputs": [],
   "source": [
    "\n",
    "def pearson_r(x, y):\n",
    "    \"\"\"Compute Pearson correlation coefficient between two arrays.\"\"\"\n",
    "    # Compute correlation matrix: corr_mat\n",
    "    corr_mat = np.corrcoef(x, y)\n"
   ],
   "metadata": {
    "collapsed": false
   }
  },
  {
   "cell_type": "code",
   "execution_count": 18,
   "outputs": [],
   "source": [
    "def diff_of_means(data_1, data_2):\n",
    "    \"\"\"Difference in means of two arrays.\"\"\"\n",
    "\n",
    "    # The difference of means of data_1, data_2: diff\n",
    "    diff = data_1.mean() - data_2.mean()\n",
    "    return diff\n",
    "\n",
    "# # Compute difference of mean impact force from experiment: empirical_diff_means\n",
    "# empirical_diff_means = diff_of_means(force_a, force_b)\n",
    "#\n",
    "# # Draw 10,000 permutation replicates: perm_replicates\n",
    "# perm_replicates = draw_perm_reps(force_a, force_b, func=diff_of_means, size=10000)\n",
    "#\n",
    "# # Compute p-value: p\n",
    "# p = np.sum(perm_replicates >= empirical_diff_means) / len(perm_replicates)\n",
    "#\n",
    "# # Print the result\n",
    "# print('p-value =', p)\n",
    "\n"
   ],
   "metadata": {
    "collapsed": false
   }
  },
  {
   "cell_type": "code",
   "execution_count": 19,
   "outputs": [],
   "source": [
    "fertility = np.array([1.769, 2.682, 2.077, 2.132, 1.827, 3.872, 2.288, 5.173, 1.393,\n",
    "                      1.262, 2.156, 3.026, 2.033, 1.324, 2.816, 5.211, 2.1, 1.781,\n",
    "                      1.822, 5.908, 1.881, 1.852, 1.39, 2.281, 2.505, 1.224, 1.361,\n",
    "                      1.468, 2.404, 5.52, 4.058, 2.223, 4.859, 1.267, 2.342, 1.579,\n",
    "                      6.254, 2.334, 3.961, 6.505, 2.53, 2.823, 2.498, 2.248, 2.508,\n",
    "                      3.04, 1.854, 4.22, 5.1, 4.967, 1.325, 4.514, 3.173, 2.308,\n",
    "                      4.62, 4.541, 5.637, 1.926, 1.747, 2.294, 5.841, 5.455, 7.069,\n",
    "                      2.859, 4.018, 2.513, 5.405, 5.737, 3.363, 4.89, 1.385, 1.505,\n",
    "                      6.081, 1.784, 1.378, 1.45, 1.841, 1.37, 2.612, 5.329, 5.33,\n",
    "                      3.371, 1.281, 1.871, 2.153, 5.378, 4.45, 1.46, 1.436, 1.612,\n",
    "                      3.19, 2.752, 3.35, 4.01, 4.166, 2.642, 2.977, 3.415, 2.295,\n",
    "                      3.019, 2.683, 5.165, 1.849, 1.836, 2.518, 2.43, 4.528, 1.263,\n",
    "                      1.885, 1.943, 1.899, 1.442, 1.953, 4.697, 1.582, 2.025, 1.841,\n",
    "                      5.011, 1.212, 1.502, 2.516, 1.367, 2.089, 4.388, 1.854, 1.748,\n",
    "                      2.978, 2.152, 2.362, 1.988, 1.426, 3.29, 3.264, 1.436, 1.393,\n",
    "                      2.822, 4.969, 5.659, 3.24, 1.693, 1.647, 2.36, 1.792, 3.45,\n",
    "                      1.516, 2.233, 2.563, 5.283, 3.885, 0.966, 2.373, 2.663, 1.251,\n",
    "                      2.052, 3.371, 2.093, 2., 3.883, 3.852, 3.718, 1.732, 3.928])\n",
    "illiteracy = np.array([9.5, 49.2, 1., 11.2, 9.8, 60., 50.2, 51.2, 0.6, 1., 8.5,\n",
    "                       6.1, 9.8, 1., 42.2, 77.2, 18.7, 22.8, 8.5, 43.9, 1., 1.,\n",
    "                       1.5, 10.8, 11.9, 3.4, 0.4, 3.1, 6.6, 33.7, 40.4, 2.3, 17.2,\n",
    "                       0.7, 36.1, 1., 33.2, 55.9, 30.8, 87.4, 15.4, 54.6, 5.1, 1.1,\n",
    "                       10.2, 19.8, 0., 40.7, 57.2, 59.9, 3.1, 55.7, 22.8, 10.9, 34.7,\n",
    "                       32.2, 43., 1.3, 1., 0.5, 78.4, 34.2, 84.9, 29.1, 31.3, 18.3,\n",
    "                       81.8, 39., 11.2, 67., 4.1, 0.2, 78.1, 1., 7.1, 1., 29.,\n",
    "                       1.1, 11.7, 73.6, 33.9, 14., 0.3, 1., 0.8, 71.9, 40.1, 1.,\n",
    "                       2.1, 3.8, 16.5, 4.1, 0.5, 44.4, 46.3, 18.7, 6.5, 36.8, 18.6,\n",
    "                       11.1, 22.1, 71.1, 1., 0., 0.9, 0.7, 45.5, 8.4, 0., 3.8,\n",
    "                       8.5, 2., 1., 58.9, 0.3, 1., 14., 47., 4.1, 2.2, 7.2,\n",
    "                       0.3, 1.5, 50.5, 1.3, 0.6, 19.1, 6.9, 9.2, 2.2, 0.2, 12.3,\n",
    "                       4.9, 4.6, 0.3, 16.5, 65.7, 63.5, 16.8, 0.2, 1.8, 9.6, 15.2,\n",
    "                       14.4, 3.3, 10.6, 61.3, 10.9, 32.2, 9.3, 11.6, 20.7, 6.5, 6.7,\n",
    "                       3.5, 1., 1.6, 20.5, 1.5, 16.7, 2., 0.9])"
   ],
   "metadata": {
    "collapsed": false
   }
  },
  {
   "cell_type": "code",
   "execution_count": 20,
   "outputs": [
    {
     "name": "stdout",
     "output_type": "stream",
     "text": [
      "p-val = 0.0\n"
     ]
    }
   ],
   "source": [
    "# Compute observed correlation: r_obs\n",
    "r_obs = np.corrcoef(fertility, illiteracy)[0, 1]\n",
    "\n",
    "# Initialize permutation replicates: perm_replicates\n",
    "perm_replicates = np.empty(10000)\n",
    "\n",
    "# Draw replicates\n",
    "for i in range(10000):\n",
    "    # Permute illiteracy measurements: illiteracy_permuted\n",
    "    illiteracy_permuted = np.random.permutation(illiteracy)\n",
    "\n",
    "    # Compute Pearson correlation\n",
    "    perm_replicates[i] = np.corrcoef(illiteracy_permuted, fertility)[0,1]\n",
    "\n",
    "# Compute p-value: p\n",
    "p = np.sum(perm_replicates >= r_obs) / len(perm_replicates)\n",
    "print('p-val =', p)\n",
    "\n"
   ],
   "metadata": {
    "collapsed": false
   }
  },
  {
   "cell_type": "code",
   "execution_count": 20,
   "outputs": [],
   "source": [],
   "metadata": {
    "collapsed": false
   }
  }
 ],
 "metadata": {
  "kernelspec": {
   "display_name": "Python 3",
   "language": "python",
   "name": "python3"
  },
  "language_info": {
   "codemirror_mode": {
    "name": "ipython",
    "version": 2
   },
   "file_extension": ".py",
   "mimetype": "text/x-python",
   "name": "python",
   "nbconvert_exporter": "python",
   "pygments_lexer": "ipython2",
   "version": "2.7.6"
  }
 },
 "nbformat": 4,
 "nbformat_minor": 0
}
