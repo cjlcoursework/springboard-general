{
 "cells": [
  {
   "cell_type": "markdown",
   "source": [
    "\n",
    "**Problem Statement**\n",
    "\n",
    "The neighboring cities of Gotham and Metropolis have complementary circadian rhythms: on\n",
    "weekdays, Ultimate Gotham is most active at night, and Ultimate Metropolis is most active\n",
    "during the day. On weekends, there is reasonable activity in both cities.\n",
    "However, a toll bridge, with a two-way toll, between the two cities causes driver partners to tend\n",
    "to be exclusive to each city. The Ultimate managers of city operations for the two cities have\n",
    "proposed an experiment to encourage driver partners to be available in both cities, by\n",
    "reimbursing all toll costs.\n",
    "\n",
    "\n",
    "**Goal**\n",
    "Increase cross-traffic from Metropolis to Gotham\n",
    "Increase traffic from Gotham to Metropolis\n",
    "\n",
    "**Rubric**\n",
    "\n",
    "What would you choose as the key measure of success of this experiment in encouraging driver partners to serve both cities, and why would you choose this metric?\n",
    "\n",
    "\n",
    "Describe a practical experiment you would design to compare the effectiveness of the\n",
    "proposed change in relation to the key measure of success. \n",
    "\n",
    "Please provide details on:\n",
    "- how you will implement the experiment\n",
    "\n",
    "- what statistical test(s) you will conduct to verify the significance of the\n",
    "observation\n",
    "\n",
    "- how you would interpret the results and provide recommendations to the city\n",
    "operations team along with any caveats.\n",
    "\n",
    "\n"
   ],
   "metadata": {
    "collapsed": false
   },
   "id": "2b7b8241c50862c7"
  },
  {
   "cell_type": "markdown",
   "source": [
    "**Initial premise and assumptions**\n",
    "Traffic from Metropolis to Gotham might increase independently of Gotham to Metropolis.  These should be two separate data points\n",
    "Drivers may increase traffic but not submit for the reimbursements. \n",
    "\n",
    "\n",
    "I think the circadian rhythms of the cities would be interesting in terms of the timing of traffic, but I would not consider it as a key metric\n",
    "\n",
    "\n",
    "**Metrics**\n",
    "I am assuming we can measure traffic at the toll booth.  It would be interesting but not critical to measure the direction of traffic.\n",
    "If I could not measure traffic that way, then I would measure receipts for the tolls\n",
    "It would be interesting to measure whether drivers were consistently applying for reimbursement, but I would use that only as a last resot.\n",
    "\n",
    "We need a baseline.  I'll assume we already have data for the existing traffic patterns between the cities.  If not we would have to collect that.\n",
    "\n",
    "Both sets of data should have a timestamp, but in a pinch we can bundle them by day or month - the outcome would not be as granular that way, but it should work.   I'll assume we do have a timestamp at least to the time of day .e.g. the 'hour'.\n",
    "\n",
    "\n",
    "**Hypothesis**\n",
    "I think it would be valid to just measure overall volume between cities, but that approach is too blunt IMO.   It would be natural for stakeholders to ask us to break it down.\n",
    "\n",
    "To Metropolis\n",
    "Null Hypothesis (H0): The reimbursement program has no effect on the volume of traffic in from Gotham to Metropolis\n",
    "Alternative Hypothesis (Ha): The reimbursement program does have an effect on the volume of traffic.\n",
    "\n",
    "To Gotham\n",
    "Null Hypothesis (H0): The reimbursement program has no effect on the volume of traffic in from Metropolis to Gotham\n",
    "Alternative Hypothesis (Ha): The reimbursement program does have an effect on the volume of traffic.\n",
    "\n",
    "\n",
    "\n",
    "**Approaches**\n",
    "\n",
    "If we were interested in assessing the relationship between the reimbursement and the traffic, we might use a chi-squared test to validate or invalidate the hypothesis, but I am not setting the hypothesis up that way.\n",
    "\n",
    "So I think that we can use a simple t-test to validate the hypothesis.\n",
    "\n",
    "We have to assume that traffic could increase slowly at first, so we have to let it grow before measuring for the hypothesis \n"
   ],
   "metadata": {
    "collapsed": false
   },
   "id": "a9e0f8992b40f9a8"
  },
  {
   "cell_type": "markdown",
   "source": [],
   "metadata": {
    "collapsed": false
   },
   "id": "e3b9045babc060f8"
  },
  {
   "cell_type": "markdown",
   "source": [
    "### Example\n",
    "It always helps me to see some data to catch and test any nuances.\n",
    "I'll cobble some traffic data that starts in February and ends in June\n",
    "The reimbursement program goes into effect in April and starts out slowly, but increased with time.\n",
    "\n",
    "I've already mentioned that I would add the direction as a variable and perform this for the two directions independently, but to keep it simple for this example I'm just going to test overall volume.\n",
    "\n",
    "The takeaway is that we have to give the traffic enough time to have meaningful measurement.  If we take the reading to early in April we'll not get an accurate test."
   ],
   "metadata": {
    "collapsed": false
   },
   "id": "3edfb7ab2723985"
  },
  {
   "cell_type": "markdown",
   "source": [
    "### create sample data"
   ],
   "metadata": {
    "collapsed": false
   },
   "id": "46143f0b8673bfca"
  },
  {
   "cell_type": "code",
   "execution_count": 30,
   "outputs": [],
   "source": [
    "import pandas as pd\n",
    "from datetime import datetime\n",
    "import numpy as np\n",
    "from scipy import stats\n",
    "\n",
    "traffic_df = pd.read_csv(\"traffic_data.csv\", parse_dates=['Timestamp'])\n"
   ],
   "metadata": {
    "collapsed": false,
    "ExecuteTime": {
     "end_time": "2023-09-15T23:37:22.464862Z",
     "start_time": "2023-09-15T23:37:22.436947Z"
    }
   },
   "id": "2af68b371e9ee3a5"
  },
  {
   "cell_type": "code",
   "execution_count": 31,
   "outputs": [
    {
     "data": {
      "text/plain": "<Figure size 640x480 with 1 Axes>",
      "image/png": "[encoded data removed]"
     },
     "metadata": {},
     "output_type": "display_data"
    }
   ],
   "source": [
    "from matplotlib import pyplot as plt\n",
    "import seaborn as sns\n",
    "\n",
    "bin_width = 15  # minutes per bin\n",
    "sns.histplot(data=traffic_df, x='Timestamp', y='Traffic', bins=60, kde=True, color='skyblue')\n",
    "plt.xticks(rotation=45)\n",
    "plt.show()"
   ],
   "metadata": {
    "collapsed": false,
    "ExecuteTime": {
     "end_time": "2023-09-15T23:37:22.602526Z",
     "start_time": "2023-09-15T23:37:22.453174Z"
    }
   },
   "id": "8ec160bad501eb0e"
  },
  {
   "cell_type": "markdown",
   "source": [
    "### split the data into before the reimbursement and after "
   ],
   "metadata": {
    "collapsed": false
   },
   "id": "54bee18038df2b19"
  },
  {
   "cell_type": "code",
   "execution_count": 32,
   "outputs": [
    {
     "name": "stdout",
     "output_type": "stream",
     "text": [
      "(745,)\n",
      "(1463,)\n"
     ]
    }
   ],
   "source": [
    "traffic_data_before = traffic_df.loc[traffic_df['Timestamp'] <= datetime(2023, 4, 1, 0, 0, 0), 'Traffic']\n",
    "traffic_data_after = traffic_df.loc[traffic_df['Timestamp'] > datetime(2023, 4, 1, 0, 0, 0), 'Traffic']\n",
    "\n",
    "print(traffic_data_before.shape)\n",
    "print(traffic_data_after.shape)"
   ],
   "metadata": {
    "collapsed": false,
    "ExecuteTime": {
     "end_time": "2023-09-15T23:37:22.602779Z",
     "start_time": "2023-09-15T23:37:22.598807Z"
    }
   },
   "id": "6b3dd2d21d0387de"
  },
  {
   "cell_type": "markdown",
   "source": [
    "### perform the t-test"
   ],
   "metadata": {
    "collapsed": false
   },
   "id": "bb2ef6115c0ee56c"
  },
  {
   "cell_type": "code",
   "execution_count": 35,
   "outputs": [
    {
     "name": "stdout",
     "output_type": "stream",
     "text": [
      "T-statistic: -16.579082126468922\n",
      "p-value: 2.855612534598431e-58\n",
      "----------------\n",
      "Reject the Null hypothesis:  There is evidence to suggest that the reimbursement program had an impact on traffic.\n"
     ]
    }
   ],
   "source": [
    "\n",
    "# Perform t-test\n",
    "t_stat, p_value = stats.ttest_ind(traffic_data_before, traffic_data_after)\n",
    "\n",
    "# Output the results\n",
    "print(\"T-statistic:\", t_stat)\n",
    "print(\"p-value:\", p_value)\n",
    "\n",
    "# Check if the p-value is less than the significance level (e.g., 0.05)\n",
    "print(\"----------------\")\n",
    "if p_value < 0.05:\n",
    "    print(\"Reject the Null hypothesis:  There is evidence to suggest that the reimbursement program had an impact on traffic.\")\n",
    "else:\n",
    "    print(\"Accept the null Hypothesis:  There is no significant evidence to suggest an impact on traffic.\")"
   ],
   "metadata": {
    "collapsed": false,
    "ExecuteTime": {
     "end_time": "2023-09-15T23:38:44.375529Z",
     "start_time": "2023-09-15T23:38:44.365927Z"
    }
   },
   "id": "d895960989dd858c"
  },
  {
   "cell_type": "code",
   "execution_count": 33,
   "outputs": [],
   "source": [],
   "metadata": {
    "collapsed": false,
    "ExecuteTime": {
     "end_time": "2023-09-15T23:37:22.608872Z",
     "start_time": "2023-09-15T23:37:22.606039Z"
    }
   },
   "id": "540e20609bb18e33"
  }
 ],
 "metadata": {
  "kernelspec": {
   "display_name": "Python 3",
   "language": "python",
   "name": "python3"
  },
  "language_info": {
   "codemirror_mode": {
    "name": "ipython",
    "version": 2
   },
   "file_extension": ".py",
   "mimetype": "text/x-python",
   "name": "python",
   "nbconvert_exporter": "python",
   "pygments_lexer": "ipython2",
   "version": "2.7.6"
  }
 },
 "nbformat": 4,
 "nbformat_minor": 5
}
