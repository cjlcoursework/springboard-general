{
 "cells": [
  {
   "cell_type": "markdown",
   "metadata": {
    "colab_type": "text",
    "id": "EvpyI0E7SpNT"
   },
   "source": [
    "## Random Forest\n",
    "\n",
    "Random Forest is an ensemble of Decision Trees. With a few exceptions, a `RandomForestClassifier` has all the hyperparameters of a `DecisionTreeClassifier` (to control how trees are grown), plus all the hyperparameters of a `BaggingClassifier` to control the ensemble itself.\n",
    "\n",
    "The Random Forest algorithm introduces extra randomness when growing trees; instead of searching for the very best feature when splitting a node, it searches for the best feature among a random subset of features. This results in a greater tree diversity, which (once again) trades a higher bias for a lower variance, generally yielding an overall better model. The following `BaggingClassifier` is roughly equivalent to the previous `RandomForestClassifier`. Run the cell below to visualize a single estimator from a random forest model, using the Iris dataset to classify the data into the appropriate species."
   ]
  },
  {
   "cell_type": "code",
   "execution_count": 1,
   "metadata": {
    "colab": {
     "base_uri": "https://localhost:8080/",
     "height": 1000,
     "output_embedded_package_id": "1NIbktS4yyfVlE2Y4bXMargRbQgbdWTFh"
    },
    "colab_type": "code",
    "executionInfo": {
     "elapsed": 7579,
     "status": "ok",
     "timestamp": 1592213046926,
     "user": {
      "displayName": "Andrew Maguire",
      "photoUrl": "https://lh3.googleusercontent.com/a-/AOh14GjaIpd1sqQPWOc9NJXtyl5fYSonikxEZgshlvloAYk=s64",
      "userId": "13447906511017779027"
     },
     "user_tz": -60
    },
    "id": "z_-6xEUFSpNU",
    "outputId": "75184be3-e99c-4c44-a638-824a9ba0b1e9",
    "ExecuteTime": {
     "end_time": "2023-06-07T02:01:24.499873Z",
     "start_time": "2023-06-07T02:01:22.107396Z"
    }
   },
   "outputs": [
    {
     "data": {
      "text/plain": "0"
     },
     "execution_count": 1,
     "metadata": {},
     "output_type": "execute_result"
    }
   ],
   "source": [
    "from sklearn.datasets import load_iris\n",
    "iris = load_iris()\n",
    "\n",
    "# Model (can also use single decision tree)\n",
    "from sklearn.ensemble import RandomForestClassifier\n",
    "model = RandomForestClassifier(n_estimators=10)\n",
    "\n",
    "# Train\n",
    "model.fit(iris.data, iris.target)\n",
    "# Extract single tree\n",
    "estimator = model.estimators_[5]\n",
    "\n",
    "from sklearn.tree import export_graphviz\n",
    "# Export as dot file\n",
    "export_graphviz(estimator, out_file='tree.dot', \n",
    "                feature_names = iris.feature_names,\n",
    "                class_names = iris.target_names,\n",
    "                rounded = True, proportion = False, \n",
    "                precision = 2, filled = True)\n",
    "\n",
    "# Convert to png using system command (requires Graphviz)\n",
    "from subprocess import call\n",
    "call(['dot', '-Tpng', 'tree.dot', '-o', 'tree.png', '-Gdpi=600'])\n"
   ]
  },
  {
   "cell_type": "code",
   "execution_count": 2,
   "outputs": [],
   "source": [
    "# Display in jupyter notebook\n",
    "from IPython.display import Image\n",
    "# Image(filename = 'tree.png', height=10, width=10)"
   ],
   "metadata": {
    "collapsed": false,
    "ExecuteTime": {
     "end_time": "2023-06-07T02:01:24.500165Z",
     "start_time": "2023-06-07T02:01:24.495273Z"
    }
   }
  },
  {
   "cell_type": "markdown",
   "metadata": {
    "colab_type": "text",
    "id": "VSnWoCRUSpNY"
   },
   "source": [
    "Notice how each split seperates the data into buckets of similar observations. This is a single tree and a relatively simple classification dataset, but the same method is used in a more complex dataset with greater depth to the trees."
   ]
  },
  {
   "cell_type": "markdown",
   "metadata": {
    "colab_type": "text",
    "id": "tJ2aGPMZB5X8"
   },
   "source": [
    "## Coronavirus\n",
    "Coronavirus disease (COVID-19) is an infectious disease caused by a new virus.\n",
    "The disease causes respiratory illness (like the flu) with symptoms such as a cough, fever, and in more severe cases, difficulty breathing. You can protect yourself by washing your hands frequently, avoiding touching your face, and avoiding close contact (1 meter or 3 feet) with people who are unwell. An outbreak of COVID-19 started in December 2019 and at the time of the creation of this project was continuing to spread throughout the world. Many governments recommended only essential outings to public places and closed most business that do not serve food or sell essential items. An excellent [spatial dashboard](https://www.arcgis.com/apps/opsdashboard/index.html#/bda7594740fd40299423467b48e9ecf6) built by Johns Hopkins shows the daily confirmed cases by country. \n",
    "\n",
    "This case study was designed to drive home the important role that data science plays in real-world situations like this pandemic. This case study uses the Random Forest Classifier and a dataset from the South Korean cases of COVID-19 provided on [Kaggle](https://www.kaggle.com/kimjihoo/coronavirusdataset) to encourage research on this important topic. The goal of the case study is to build a Random Forest Classifier to predict the 'state' of the patient."
   ]
  },
  {
   "cell_type": "markdown",
   "metadata": {
    "colab_type": "text",
    "id": "7PrMkSjBQEMZ"
   },
   "source": [
    "First, please load the needed packages and modules into Python. Next, load the data into a pandas dataframe for ease of use."
   ]
  },
  {
   "cell_type": "code",
   "execution_count": 3,
   "metadata": {
    "colab": {},
    "colab_type": "code",
    "id": "X3EhD-LSB5YI",
    "ExecuteTime": {
     "end_time": "2023-06-07T02:01:24.533026Z",
     "start_time": "2023-06-07T02:01:24.500376Z"
    }
   },
   "outputs": [],
   "source": [
    "import os\n",
    "import pandas as pd\n",
    "from datetime import datetime,timedelta\n",
    "import seaborn as sns\n",
    "import matplotlib.pyplot as plt\n",
    "import numpy as np\n",
    "%matplotlib inline\n",
    "import plotly.graph_objects as go\n",
    "from sklearn.experimental import enable_iterative_imputer\n",
    "from sklearn.impute import IterativeImputer\n",
    "from sklearn.ensemble import ExtraTreesRegressor"
   ]
  },
  {
   "cell_type": "code",
   "execution_count": 4,
   "metadata": {
    "colab": {},
    "colab_type": "code",
    "id": "CiJQlTK1SpNd",
    "ExecuteTime": {
     "end_time": "2023-06-07T02:01:24.550039Z",
     "start_time": "2023-06-07T02:01:24.518253Z"
    }
   },
   "outputs": [
    {
     "data": {
      "text/plain": "   patient_id  global_num     sex  birth_year  age country province  \\\n0  1000000001         2.0    male      1964.0  50s   Korea    Seoul   \n1  1000000002         5.0    male      1987.0  30s   Korea    Seoul   \n2  1000000003         6.0    male      1964.0  50s   Korea    Seoul   \n3  1000000004         7.0    male      1991.0  20s   Korea    Seoul   \n4  1000000005         9.0  female      1992.0  20s   Korea    Seoul   \n\n          city disease        infection_case  infection_order   infected_by  \\\n0   Gangseo-gu     NaN       overseas inflow              1.0           NaN   \n1  Jungnang-gu     NaN       overseas inflow              1.0           NaN   \n2    Jongno-gu     NaN  contact with patient              2.0  2.002000e+09   \n3      Mapo-gu     NaN       overseas inflow              1.0           NaN   \n4  Seongbuk-gu     NaN  contact with patient              2.0  1.000000e+09   \n\n   contact_number symptom_onset_date confirmed_date released_date  \\\n0            75.0         2020-01-22     2020-01-23    2020-02-05   \n1            31.0                NaN     2020-01-30    2020-03-02   \n2            17.0                NaN     2020-01-30    2020-02-19   \n3             9.0         2020-01-26     2020-01-30    2020-02-15   \n4             2.0                NaN     2020-01-31    2020-02-24   \n\n  deceased_date     state  \n0           NaN  released  \n1           NaN  released  \n2           NaN  released  \n3           NaN  released  \n4           NaN  released  ",
      "text/html": "<div>\n<style scoped>\n    .dataframe tbody tr th:only-of-type {\n        vertical-align: middle;\n    }\n\n    .dataframe tbody tr th {\n        vertical-align: top;\n    }\n\n    .dataframe thead th {\n        text-align: right;\n    }\n</style>\n<table border=\"1\" class=\"dataframe\">\n  <thead>\n    <tr style=\"text-align: right;\">\n      <th></th>\n      <th>patient_id</th>\n      <th>global_num</th>\n      <th>sex</th>\n      <th>birth_year</th>\n      <th>age</th>\n      <th>country</th>\n      <th>province</th>\n      <th>city</th>\n      <th>disease</th>\n      <th>infection_case</th>\n      <th>infection_order</th>\n      <th>infected_by</th>\n      <th>contact_number</th>\n      <th>symptom_onset_date</th>\n      <th>confirmed_date</th>\n      <th>released_date</th>\n      <th>deceased_date</th>\n      <th>state</th>\n    </tr>\n  </thead>\n  <tbody>\n    <tr>\n      <th>0</th>\n      <td>1000000001</td>\n      <td>2.0</td>\n      <td>male</td>\n      <td>1964.0</td>\n      <td>50s</td>\n      <td>Korea</td>\n      <td>Seoul</td>\n      <td>Gangseo-gu</td>\n      <td>NaN</td>\n      <td>overseas inflow</td>\n      <td>1.0</td>\n      <td>NaN</td>\n      <td>75.0</td>\n      <td>2020-01-22</td>\n      <td>2020-01-23</td>\n      <td>2020-02-05</td>\n      <td>NaN</td>\n      <td>released</td>\n    </tr>\n    <tr>\n      <th>1</th>\n      <td>1000000002</td>\n      <td>5.0</td>\n      <td>male</td>\n      <td>1987.0</td>\n      <td>30s</td>\n      <td>Korea</td>\n      <td>Seoul</td>\n      <td>Jungnang-gu</td>\n      <td>NaN</td>\n      <td>overseas inflow</td>\n      <td>1.0</td>\n      <td>NaN</td>\n      <td>31.0</td>\n      <td>NaN</td>\n      <td>2020-01-30</td>\n      <td>2020-03-02</td>\n      <td>NaN</td>\n      <td>released</td>\n    </tr>\n    <tr>\n      <th>2</th>\n      <td>1000000003</td>\n      <td>6.0</td>\n      <td>male</td>\n      <td>1964.0</td>\n      <td>50s</td>\n      <td>Korea</td>\n      <td>Seoul</td>\n      <td>Jongno-gu</td>\n      <td>NaN</td>\n      <td>contact with patient</td>\n      <td>2.0</td>\n      <td>2.002000e+09</td>\n      <td>17.0</td>\n      <td>NaN</td>\n      <td>2020-01-30</td>\n      <td>2020-02-19</td>\n      <td>NaN</td>\n      <td>released</td>\n    </tr>\n    <tr>\n      <th>3</th>\n      <td>1000000004</td>\n      <td>7.0</td>\n      <td>male</td>\n      <td>1991.0</td>\n      <td>20s</td>\n      <td>Korea</td>\n      <td>Seoul</td>\n      <td>Mapo-gu</td>\n      <td>NaN</td>\n      <td>overseas inflow</td>\n      <td>1.0</td>\n      <td>NaN</td>\n      <td>9.0</td>\n      <td>2020-01-26</td>\n      <td>2020-01-30</td>\n      <td>2020-02-15</td>\n      <td>NaN</td>\n      <td>released</td>\n    </tr>\n    <tr>\n      <th>4</th>\n      <td>1000000005</td>\n      <td>9.0</td>\n      <td>female</td>\n      <td>1992.0</td>\n      <td>20s</td>\n      <td>Korea</td>\n      <td>Seoul</td>\n      <td>Seongbuk-gu</td>\n      <td>NaN</td>\n      <td>contact with patient</td>\n      <td>2.0</td>\n      <td>1.000000e+09</td>\n      <td>2.0</td>\n      <td>NaN</td>\n      <td>2020-01-31</td>\n      <td>2020-02-24</td>\n      <td>NaN</td>\n      <td>released</td>\n    </tr>\n  </tbody>\n</table>\n</div>"
     },
     "execution_count": 4,
     "metadata": {},
     "output_type": "execute_result"
    }
   ],
   "source": [
    "url ='SouthKoreacoronavirusdataset/PatientInfo.csv'\n",
    "df = pd.read_csv(url)\n",
    "df.head()"
   ]
  },
  {
   "cell_type": "code",
   "execution_count": 5,
   "metadata": {
    "colab": {},
    "colab_type": "code",
    "id": "GUY5Cp2cSpNg",
    "ExecuteTime": {
     "end_time": "2023-06-07T02:01:24.559870Z",
     "start_time": "2023-06-07T02:01:24.552431Z"
    }
   },
   "outputs": [
    {
     "data": {
      "text/plain": "(2218, 18)"
     },
     "execution_count": 5,
     "metadata": {},
     "output_type": "execute_result"
    }
   ],
   "source": [
    "df.shape"
   ]
  },
  {
   "cell_type": "code",
   "execution_count": 6,
   "metadata": {
    "colab": {},
    "colab_type": "code",
    "id": "oxKUKR_pSpNi",
    "ExecuteTime": {
     "end_time": "2023-06-07T02:01:24.603288Z",
     "start_time": "2023-06-07T02:01:24.559238Z"
    }
   },
   "outputs": [
    {
     "data": {
      "text/plain": "               VarName  NullCount\n0              disease       2199\n1        deceased_date       2186\n2      infection_order       2176\n3   symptom_onset_date       2025\n4        released_date       1995\n5       contact_number       1807\n6          infected_by       1749\n7       infection_case       1055\n8           global_num        904\n9           birth_year        454\n10                 age        261\n11                 sex        145\n12      confirmed_date        141\n13               state         88\n14                city         65",
      "text/html": "<div>\n<style scoped>\n    .dataframe tbody tr th:only-of-type {\n        vertical-align: middle;\n    }\n\n    .dataframe tbody tr th {\n        vertical-align: top;\n    }\n\n    .dataframe thead th {\n        text-align: right;\n    }\n</style>\n<table border=\"1\" class=\"dataframe\">\n  <thead>\n    <tr style=\"text-align: right;\">\n      <th></th>\n      <th>VarName</th>\n      <th>NullCount</th>\n    </tr>\n  </thead>\n  <tbody>\n    <tr>\n      <th>0</th>\n      <td>disease</td>\n      <td>2199</td>\n    </tr>\n    <tr>\n      <th>1</th>\n      <td>deceased_date</td>\n      <td>2186</td>\n    </tr>\n    <tr>\n      <th>2</th>\n      <td>infection_order</td>\n      <td>2176</td>\n    </tr>\n    <tr>\n      <th>3</th>\n      <td>symptom_onset_date</td>\n      <td>2025</td>\n    </tr>\n    <tr>\n      <th>4</th>\n      <td>released_date</td>\n      <td>1995</td>\n    </tr>\n    <tr>\n      <th>5</th>\n      <td>contact_number</td>\n      <td>1807</td>\n    </tr>\n    <tr>\n      <th>6</th>\n      <td>infected_by</td>\n      <td>1749</td>\n    </tr>\n    <tr>\n      <th>7</th>\n      <td>infection_case</td>\n      <td>1055</td>\n    </tr>\n    <tr>\n      <th>8</th>\n      <td>global_num</td>\n      <td>904</td>\n    </tr>\n    <tr>\n      <th>9</th>\n      <td>birth_year</td>\n      <td>454</td>\n    </tr>\n    <tr>\n      <th>10</th>\n      <td>age</td>\n      <td>261</td>\n    </tr>\n    <tr>\n      <th>11</th>\n      <td>sex</td>\n      <td>145</td>\n    </tr>\n    <tr>\n      <th>12</th>\n      <td>confirmed_date</td>\n      <td>141</td>\n    </tr>\n    <tr>\n      <th>13</th>\n      <td>state</td>\n      <td>88</td>\n    </tr>\n    <tr>\n      <th>14</th>\n      <td>city</td>\n      <td>65</td>\n    </tr>\n  </tbody>\n</table>\n</div>"
     },
     "execution_count": 6,
     "metadata": {},
     "output_type": "execute_result"
    }
   ],
   "source": [
    "#Counts of null values \n",
    "na_df=pd.DataFrame(df.isnull().sum().sort_values(ascending=False)).reset_index()\n",
    "na_df.columns = ['VarName', 'NullCount']\n",
    "na_df[(na_df['NullCount']>0)]"
   ]
  },
  {
   "cell_type": "code",
   "execution_count": 7,
   "metadata": {
    "colab": {},
    "colab_type": "code",
    "id": "NhPtmRWdSpNl",
    "ExecuteTime": {
     "end_time": "2023-06-07T02:01:24.642140Z",
     "start_time": "2023-06-07T02:01:24.581574Z"
    }
   },
   "outputs": [
    {
     "data": {
      "text/plain": "isolated    1791\nreleased     307\ndeceased      32\nName: state, dtype: int64"
     },
     "execution_count": 7,
     "metadata": {},
     "output_type": "execute_result"
    }
   ],
   "source": [
    "#counts of response variable values\n",
    "df.dropna(subset=['state'], inplace=True)\n",
    "df.state.value_counts()"
   ]
  },
  {
   "cell_type": "markdown",
   "metadata": {
    "colab_type": "text",
    "id": "06e0gqMzSpNp"
   },
   "source": [
    " **<font color='teal'> Create a new column named 'n_age' which is the calculated age based on the birth year column.</font>**"
   ]
  },
  {
   "cell_type": "code",
   "execution_count": 8,
   "metadata": {
    "colab": {},
    "colab_type": "code",
    "id": "DVCW7LBRSpNp",
    "ExecuteTime": {
     "end_time": "2023-06-07T02:01:24.642378Z",
     "start_time": "2023-06-07T02:01:24.581814Z"
    }
   },
   "outputs": [
    {
     "data": {
      "text/plain": "   age  n_age  birth_year\n0  50s   59.0      1964.0\n1  30s   36.0      1987.0\n2  50s   59.0      1964.0\n3  20s   32.0      1991.0\n4  20s   31.0      1992.0",
      "text/html": "<div>\n<style scoped>\n    .dataframe tbody tr th:only-of-type {\n        vertical-align: middle;\n    }\n\n    .dataframe tbody tr th {\n        vertical-align: top;\n    }\n\n    .dataframe thead th {\n        text-align: right;\n    }\n</style>\n<table border=\"1\" class=\"dataframe\">\n  <thead>\n    <tr style=\"text-align: right;\">\n      <th></th>\n      <th>age</th>\n      <th>n_age</th>\n      <th>birth_year</th>\n    </tr>\n  </thead>\n  <tbody>\n    <tr>\n      <th>0</th>\n      <td>50s</td>\n      <td>59.0</td>\n      <td>1964.0</td>\n    </tr>\n    <tr>\n      <th>1</th>\n      <td>30s</td>\n      <td>36.0</td>\n      <td>1987.0</td>\n    </tr>\n    <tr>\n      <th>2</th>\n      <td>50s</td>\n      <td>59.0</td>\n      <td>1964.0</td>\n    </tr>\n    <tr>\n      <th>3</th>\n      <td>20s</td>\n      <td>32.0</td>\n      <td>1991.0</td>\n    </tr>\n    <tr>\n      <th>4</th>\n      <td>20s</td>\n      <td>31.0</td>\n      <td>1992.0</td>\n    </tr>\n  </tbody>\n</table>\n</div>"
     },
     "execution_count": 8,
     "metadata": {},
     "output_type": "execute_result"
    }
   ],
   "source": [
    "df['n_age'] = datetime.now().year - df.birth_year\n",
    "\n",
    "df[['age', 'n_age', 'birth_year']].head()"
   ]
  },
  {
   "cell_type": "markdown",
   "metadata": {
    "colab_type": "text",
    "id": "w9t91IzDSpNr"
   },
   "source": [
    "### Handle Missing Values"
   ]
  },
  {
   "cell_type": "markdown",
   "metadata": {
    "colab_type": "text",
    "id": "Fm1TjGDhSpNs"
   },
   "source": [
    " **<font color='teal'> Print the number of missing values by column.</font>**"
   ]
  },
  {
   "cell_type": "code",
   "execution_count": 9,
   "metadata": {
    "colab": {},
    "colab_type": "code",
    "id": "PAtr2t3rSpNs",
    "ExecuteTime": {
     "end_time": "2023-06-07T02:01:24.642490Z",
     "start_time": "2023-06-07T02:01:24.584267Z"
    }
   },
   "outputs": [
    {
     "data": {
      "text/plain": "disease               2111\ndeceased_date         2098\ninfection_order       2088\nsymptom_onset_date    1943\nreleased_date         1907\ninfected_by           1728\ncontact_number        1721\ninfection_case        1054\nglobal_num             897\nn_age                  454\nbirth_year             454\nage                    174\nsex                    145\nconfirmed_date         141\ncity                    65\nprovince                 0\ncountry                  0\nstate                    0\npatient_id               0\ndtype: int64"
     },
     "execution_count": 9,
     "metadata": {},
     "output_type": "execute_result"
    }
   ],
   "source": [
    "df.isna().sum().sort_values(ascending=False)"
   ]
  },
  {
   "cell_type": "code",
   "execution_count": 10,
   "metadata": {
    "colab": {},
    "colab_type": "code",
    "id": "I8B5cY19SpNu",
    "ExecuteTime": {
     "end_time": "2023-06-07T02:01:24.642710Z",
     "start_time": "2023-06-07T02:01:24.596647Z"
    }
   },
   "outputs": [
    {
     "name": "stdout",
     "output_type": "stream",
     "text": [
      "<class 'pandas.core.frame.DataFrame'>\n",
      "Int64Index: 2130 entries, 0 to 2217\n",
      "Data columns (total 19 columns):\n",
      " #   Column              Non-Null Count  Dtype  \n",
      "---  ------              --------------  -----  \n",
      " 0   patient_id          2130 non-null   int64  \n",
      " 1   global_num          1233 non-null   float64\n",
      " 2   sex                 1985 non-null   object \n",
      " 3   birth_year          1676 non-null   float64\n",
      " 4   age                 1956 non-null   object \n",
      " 5   country             2130 non-null   object \n",
      " 6   province            2130 non-null   object \n",
      " 7   city                2065 non-null   object \n",
      " 8   disease             19 non-null     object \n",
      " 9   infection_case      1076 non-null   object \n",
      " 10  infection_order     42 non-null     float64\n",
      " 11  infected_by         402 non-null    float64\n",
      " 12  contact_number      409 non-null    float64\n",
      " 13  symptom_onset_date  187 non-null    object \n",
      " 14  confirmed_date      1989 non-null   object \n",
      " 15  released_date       223 non-null    object \n",
      " 16  deceased_date       32 non-null     object \n",
      " 17  state               2130 non-null   object \n",
      " 18  n_age               1676 non-null   float64\n",
      "dtypes: float64(6), int64(1), object(12)\n",
      "memory usage: 332.8+ KB\n"
     ]
    }
   ],
   "source": [
    "df.info()"
   ]
  },
  {
   "cell_type": "markdown",
   "metadata": {
    "colab_type": "text",
    "id": "zjLpYG_ASpNw"
   },
   "source": [
    " **<font color='teal'> Fill the 'disease' missing values with 0 and remap the True values to 1.</font>**"
   ]
  },
  {
   "cell_type": "code",
   "execution_count": 11,
   "metadata": {
    "colab": {},
    "colab_type": "code",
    "id": "NHBtVW1ESpNx",
    "ExecuteTime": {
     "end_time": "2023-06-07T02:01:24.688452Z",
     "start_time": "2023-06-07T02:01:24.609736Z"
    }
   },
   "outputs": [
    {
     "data": {
      "text/plain": "0    2111\n1      19\nName: disease, dtype: int64"
     },
     "execution_count": 11,
     "metadata": {},
     "output_type": "execute_result"
    }
   ],
   "source": [
    "df.loc[df['disease']==True, 'disease'] = 1\n",
    "df.loc[df['disease']!=True, 'disease'] = 0\n",
    "df.disease.value_counts()"
   ]
  },
  {
   "cell_type": "markdown",
   "source": [],
   "metadata": {
    "collapsed": false
   }
  },
  {
   "cell_type": "markdown",
   "metadata": {
    "colab_type": "text",
    "id": "fZArBBUhSpNz"
   },
   "source": [
    " **<font color='teal'> Fill null values in the following columns with their mean: 'global_number','birth_year','infection_order','infected_by'and 'contact_number'</font>**"
   ]
  },
  {
   "cell_type": "code",
   "execution_count": 12,
   "outputs": [
    {
     "data": {
      "text/plain": "2.0    19\n1.0    11\n3.0     6\n5.0     3\n4.0     2\n6.0     1\nName: infection_order, dtype: int64"
     },
     "execution_count": 12,
     "metadata": {},
     "output_type": "execute_result"
    }
   ],
   "source": [
    "df.infection_order.value_counts()"
   ],
   "metadata": {
    "collapsed": false,
    "ExecuteTime": {
     "end_time": "2023-06-07T02:01:24.688957Z",
     "start_time": "2023-06-07T02:01:24.612458Z"
    }
   }
  },
  {
   "cell_type": "code",
   "execution_count": 13,
   "metadata": {
    "colab": {},
    "colab_type": "code",
    "id": "zQdarDx_SpNz",
    "ExecuteTime": {
     "end_time": "2023-06-07T02:01:24.689105Z",
     "start_time": "2023-06-07T02:01:24.619776Z"
    }
   },
   "outputs": [
    {
     "name": "stdout",
     "output_type": "stream",
     "text": [
      "col=global_num, mean=4425.845093268451, nulls=897, values=continuous\n",
      "col=birth_year, mean=1974.923031026253, nulls=454, values=continuous\n",
      "col=infection_order, mean=2.2857142857142856, nulls=2088, values={2.0: 19, 1.0: 11, 3.0: 6, 5.0: 3, 4.0: 2, 6.0: 1}\n",
      "col=infected_by, mean=2705895577.221393, nulls=1728, values=continuous\n",
      "col=contact_number, mean=24.21515892420538, nulls=1721, values=continuous\n"
     ]
    }
   ],
   "source": [
    "imputes_by_mean = ['global_num','birth_year','infection_order','infected_by', 'contact_number']\n",
    "for col in imputes_by_mean:\n",
    "    mean = df[col].mean()\n",
    "    vc = df[col].value_counts().to_dict()\n",
    "    nulls = df[col].isna().sum()\n",
    "    print(f\"col={col}, mean={mean}, nulls={nulls}\", end=\", \")\n",
    "    if len(vc) < 25:\n",
    "        print(f\"values={vc}\")\n",
    "    else:\n",
    "        print(f\"values=continuous\")\n",
    "\n"
   ]
  },
  {
   "cell_type": "code",
   "execution_count": 14,
   "outputs": [
    {
     "name": "stdout",
     "output_type": "stream",
     "text": [
      "col=global_num, mean=4425.845093268451, nulls=0\n",
      "col=birth_year, mean=1974.923031026253, nulls=0\n",
      "col=infection_order, mean=2.2857142857142856, nulls=0\n",
      "col=infected_by, mean=2705895577.221393, nulls=0\n",
      "col=contact_number, mean=24.21515892420538, nulls=0\n"
     ]
    }
   ],
   "source": [
    "for col in imputes_by_mean:\n",
    "    mean = df[col].mean()\n",
    "    df.loc[df[col].isna(), col] = mean\n",
    "    nulls = df[col].isna().sum()\n",
    "    print(f\"col={col}, mean={mean}, nulls={nulls}\")"
   ],
   "metadata": {
    "collapsed": false,
    "ExecuteTime": {
     "end_time": "2023-06-07T02:01:24.689227Z",
     "start_time": "2023-06-07T02:01:24.630608Z"
    }
   }
  },
  {
   "cell_type": "markdown",
   "metadata": {
    "colab_type": "text",
    "id": "Coy_jYEbSpN2"
   },
   "source": [
    " **<font color='teal'> Fill the rest of the missing values with any method.</font>**"
   ]
  },
  {
   "cell_type": "markdown",
   "source": [
    "<font color='yellow'> change objects to numerical where it makes sense.</font>"
   ],
   "metadata": {
    "collapsed": false
   }
  },
  {
   "cell_type": "code",
   "execution_count": 15,
   "outputs": [],
   "source": [
    "for col in  ['confirmed_date', 'released_date', 'symptom_onset_date', 'deceased_date']:\n",
    "    df[col] = pd.to_datetime(df[col])\n"
   ],
   "metadata": {
    "collapsed": false,
    "ExecuteTime": {
     "end_time": "2023-06-07T02:01:24.694049Z",
     "start_time": "2023-06-07T02:01:24.639101Z"
    }
   }
  },
  {
   "cell_type": "code",
   "execution_count": 16,
   "metadata": {
    "colab": {},
    "colab_type": "code",
    "id": "82lVA3vUSpN5",
    "ExecuteTime": {
     "end_time": "2023-06-07T02:01:24.761340Z",
     "start_time": "2023-06-07T02:01:24.649624Z"
    }
   },
   "outputs": [
    {
     "data": {
      "text/plain": "0"
     },
     "execution_count": 16,
     "metadata": {},
     "output_type": "execute_result"
    }
   ],
   "source": [
    "prior = df.age.value_counts()\n",
    "df.loc[df.age.isnull(), 'age'] = df.n_age.astype(str)\n",
    "df.loc[df.age.isnull(), 'age'] = '0'\n",
    "df.loc[df.age=='', 'age'] = '0'\n",
    "df.age = pd.to_numeric(df.age, errors='coerce')\n",
    "df.loc[df.age.isnull(), 'age'] = 0\n",
    "df.age.isnull().sum()\n"
   ]
  },
  {
   "cell_type": "code",
   "execution_count": 17,
   "outputs": [],
   "source": [
    "def list_nulls():\n",
    "    null_counts = df.isna().sum().sort_values(ascending=False).to_dict()\n",
    "    for col, nulls in null_counts.items():\n",
    "        if nulls > 0:\n",
    "            try:\n",
    "                mean = df[col].mean()\n",
    "            except:\n",
    "                mean=\"no mean\"\n",
    "\n",
    "            # print(\"\\n----------------------\")\n",
    "            print(f\"column={col}, nulls={nulls}, mean={mean}\")\n",
    "            # print(\"----------------------\")\n",
    "            # print(df[col].value_counts())\n"
   ],
   "metadata": {
    "collapsed": false,
    "ExecuteTime": {
     "end_time": "2023-06-07T02:01:24.761542Z",
     "start_time": "2023-06-07T02:01:24.660126Z"
    }
   }
  },
  {
   "cell_type": "code",
   "execution_count": 18,
   "outputs": [
    {
     "name": "stdout",
     "output_type": "stream",
     "text": [
      "column=deceased_date, nulls=2098, mean=2020-03-02 00:00:00\n",
      "column=symptom_onset_date, nulls=1943, mean=2020-02-28 18:44:16.684492032\n",
      "column=released_date, nulls=1907, mean=2020-03-08 22:23:08.340807168\n",
      "column=infection_case, nulls=1054, mean=no mean\n",
      "column=n_age, nulls=454, mean=48.076968973747015\n",
      "column=sex, nulls=145, mean=no mean\n",
      "column=confirmed_date, nulls=141, mean=2020-03-01 16:46:20.090497792\n",
      "column=city, nulls=65, mean=no mean\n"
     ]
    }
   ],
   "source": [
    "list_nulls()"
   ],
   "metadata": {
    "collapsed": false,
    "ExecuteTime": {
     "end_time": "2023-06-07T02:01:24.762041Z",
     "start_time": "2023-06-07T02:01:24.661433Z"
    }
   }
  },
  {
   "cell_type": "markdown",
   "source": [
    " **<font color='teal'> Check for any remaining null values.</font>**"
   ],
   "metadata": {
    "collapsed": false
   }
  },
  {
   "cell_type": "code",
   "execution_count": 19,
   "outputs": [
    {
     "name": "stdout",
     "output_type": "stream",
     "text": [
      "column=deceased_date, nulls=2098, mean=2020-03-02 00:00:00\n",
      "column=symptom_onset_date, nulls=1943, mean=2020-02-28 18:44:16.684492032\n",
      "column=released_date, nulls=1907, mean=2020-03-08 22:23:08.340807168\n",
      "column=n_age, nulls=454, mean=48.076968973747015\n",
      "column=confirmed_date, nulls=141, mean=2020-03-01 16:46:20.090497792\n"
     ]
    }
   ],
   "source": [
    "\n",
    "null_counts = df.isna().sum().sort_values(ascending=False).to_dict()\n",
    "for col, nulls in null_counts.items():\n",
    "    if nulls > 0:\n",
    "        try:\n",
    "            mean = df[col].mean()\n",
    "            df.loc[df[col].isna(), col] = mean\n",
    "            print(f\"column={col}, nulls={nulls}, mean={mean}\")\n",
    "        except:\n",
    "            mean=\"no mean\"\n",
    "\n",
    "        # print(\"\\n----------------------\")\n"
   ],
   "metadata": {
    "collapsed": false,
    "ExecuteTime": {
     "end_time": "2023-06-07T02:01:24.762153Z",
     "start_time": "2023-06-07T02:01:24.672353Z"
    }
   }
  },
  {
   "cell_type": "code",
   "execution_count": 20,
   "outputs": [
    {
     "name": "stdout",
     "output_type": "stream",
     "text": [
      "column=infection_case, nulls=1054, mean=no mean\n",
      "column=sex, nulls=145, mean=no mean\n",
      "column=city, nulls=65, mean=no mean\n"
     ]
    }
   ],
   "source": [
    "list_nulls()"
   ],
   "metadata": {
    "collapsed": false,
    "ExecuteTime": {
     "end_time": "2023-06-07T02:01:24.762258Z",
     "start_time": "2023-06-07T02:01:24.679122Z"
    }
   }
  },
  {
   "cell_type": "code",
   "execution_count": 21,
   "outputs": [],
   "source": [
    "for col in ['infection_case','sex','state','city']:\n",
    "    df.loc[df[col].isnull(), col] = 'unknown'"
   ],
   "metadata": {
    "collapsed": false,
    "ExecuteTime": {
     "end_time": "2023-06-07T02:01:24.763205Z",
     "start_time": "2023-06-07T02:01:24.685936Z"
    }
   }
  },
  {
   "cell_type": "code",
   "execution_count": 22,
   "outputs": [],
   "source": [
    "assert(df.isnull().sum().sum() == 0)"
   ],
   "metadata": {
    "collapsed": false,
    "ExecuteTime": {
     "end_time": "2023-06-07T02:01:24.763292Z",
     "start_time": "2023-06-07T02:01:24.693890Z"
    }
   }
  },
  {
   "cell_type": "markdown",
   "metadata": {
    "colab_type": "text",
    "id": "PK9Jk8KgSpN9"
   },
   "source": [
    "Remove date columns from the data.\n"
   ]
  },
  {
   "cell_type": "code",
   "execution_count": 23,
   "metadata": {
    "colab": {},
    "colab_type": "code",
    "id": "xIbYDncMSpN9",
    "ExecuteTime": {
     "end_time": "2023-06-07T02:01:24.763417Z",
     "start_time": "2023-06-07T02:01:24.699313Z"
    }
   },
   "outputs": [],
   "source": [
    "df = df.drop(['symptom_onset_date','confirmed_date','released_date','deceased_date'],axis =1)"
   ]
  },
  {
   "cell_type": "markdown",
   "metadata": {
    "colab_type": "text",
    "id": "RDBxf5ZDB5ZZ"
   },
   "source": [
    "Review the count of unique values by column."
   ]
  },
  {
   "cell_type": "code",
   "execution_count": 24,
   "metadata": {
    "colab": {},
    "colab_type": "code",
    "id": "PIdCkZ4AB5Zf",
    "ExecuteTime": {
     "end_time": "2023-06-07T02:01:24.763736Z",
     "start_time": "2023-06-07T02:01:24.702326Z"
    }
   },
   "outputs": [
    {
     "name": "stdout",
     "output_type": "stream",
     "text": [
      "patient_id         2130\n",
      "global_num         1224\n",
      "sex                   3\n",
      "birth_year           97\n",
      "age                  20\n",
      "country               4\n",
      "province             17\n",
      "city                134\n",
      "disease               2\n",
      "infection_case       17\n",
      "infection_order       7\n",
      "infected_by         196\n",
      "contact_number       73\n",
      "state                 3\n",
      "n_age                97\n",
      "dtype: int64\n"
     ]
    }
   ],
   "source": [
    "print(df.nunique())"
   ]
  },
  {
   "cell_type": "markdown",
   "metadata": {
    "colab_type": "text",
    "id": "9oENi5DRB5Zq"
   },
   "source": [
    "Review the percent of unique values by column."
   ]
  },
  {
   "cell_type": "code",
   "execution_count": 25,
   "metadata": {
    "colab": {},
    "colab_type": "code",
    "id": "_IcO33VsB5Zt",
    "ExecuteTime": {
     "end_time": "2023-06-07T02:01:24.774959Z",
     "start_time": "2023-06-07T02:01:24.709005Z"
    }
   },
   "outputs": [
    {
     "name": "stdout",
     "output_type": "stream",
     "text": [
      "patient_id         1.000000\n",
      "global_num         0.574648\n",
      "sex                0.001408\n",
      "birth_year         0.045540\n",
      "age                0.009390\n",
      "country            0.001878\n",
      "province           0.007981\n",
      "city               0.062911\n",
      "disease            0.000939\n",
      "infection_case     0.007981\n",
      "infection_order    0.003286\n",
      "infected_by        0.092019\n",
      "contact_number     0.034272\n",
      "state              0.001408\n",
      "n_age              0.045540\n",
      "dtype: float64\n"
     ]
    }
   ],
   "source": [
    "print(df.nunique()/df.shape[0])"
   ]
  },
  {
   "cell_type": "markdown",
   "metadata": {
    "colab_type": "text",
    "id": "rCZHVugqB5Z4"
   },
   "source": [
    "Review the range of values per column."
   ]
  },
  {
   "cell_type": "code",
   "execution_count": 26,
   "metadata": {
    "colab": {},
    "colab_type": "code",
    "id": "Y3zLsGxMB5Z5",
    "ExecuteTime": {
     "end_time": "2023-06-07T02:01:24.845473Z",
     "start_time": "2023-06-07T02:01:24.715455Z"
    }
   },
   "outputs": [
    {
     "data": {
      "text/plain": "                  count          mean           std           min  \\\npatient_id       2130.0  4.095989e+09  2.197921e+09  1.000000e+09   \nglobal_num       2130.0  4.425845e+03  2.134408e+03  1.000000e+00   \nbirth_year       2130.0  1.974923e+03  1.728605e+01  1.916000e+03   \nage              2130.0  5.558685e-01  5.614425e+00  0.000000e+00   \ninfection_order  2130.0  2.285714e+00  1.741536e-01  1.000000e+00   \ninfected_by      2130.0  2.705896e+09  7.257861e+08  1.000000e+09   \ncontact_number   2130.0  2.421516e+01  3.996886e+01  0.000000e+00   \nn_age            2130.0  4.807697e+01  1.728605e+01  3.000000e+00   \n\n                          25%           50%           75%           max  \npatient_id       1.600000e+09  6.001000e+09  6.004000e+09  7.000000e+09  \nglobal_num       4.051250e+03  4.425845e+03  5.445500e+03  8.717000e+03  \nbirth_year       1.965000e+03  1.974923e+03  1.988000e+03  2.020000e+03  \nage              0.000000e+00  0.000000e+00  0.000000e+00  7.700000e+01  \ninfection_order  2.285714e+00  2.285714e+00  2.285714e+00  6.000000e+00  \ninfected_by      2.705896e+09  2.705896e+09  2.705896e+09  6.113000e+09  \ncontact_number   2.421516e+01  2.421516e+01  2.421516e+01  1.160000e+03  \nn_age            3.500000e+01  4.807697e+01  5.800000e+01  1.070000e+02  ",
      "text/html": "<div>\n<style scoped>\n    .dataframe tbody tr th:only-of-type {\n        vertical-align: middle;\n    }\n\n    .dataframe tbody tr th {\n        vertical-align: top;\n    }\n\n    .dataframe thead th {\n        text-align: right;\n    }\n</style>\n<table border=\"1\" class=\"dataframe\">\n  <thead>\n    <tr style=\"text-align: right;\">\n      <th></th>\n      <th>count</th>\n      <th>mean</th>\n      <th>std</th>\n      <th>min</th>\n      <th>25%</th>\n      <th>50%</th>\n      <th>75%</th>\n      <th>max</th>\n    </tr>\n  </thead>\n  <tbody>\n    <tr>\n      <th>patient_id</th>\n      <td>2130.0</td>\n      <td>4.095989e+09</td>\n      <td>2.197921e+09</td>\n      <td>1.000000e+09</td>\n      <td>1.600000e+09</td>\n      <td>6.001000e+09</td>\n      <td>6.004000e+09</td>\n      <td>7.000000e+09</td>\n    </tr>\n    <tr>\n      <th>global_num</th>\n      <td>2130.0</td>\n      <td>4.425845e+03</td>\n      <td>2.134408e+03</td>\n      <td>1.000000e+00</td>\n      <td>4.051250e+03</td>\n      <td>4.425845e+03</td>\n      <td>5.445500e+03</td>\n      <td>8.717000e+03</td>\n    </tr>\n    <tr>\n      <th>birth_year</th>\n      <td>2130.0</td>\n      <td>1.974923e+03</td>\n      <td>1.728605e+01</td>\n      <td>1.916000e+03</td>\n      <td>1.965000e+03</td>\n      <td>1.974923e+03</td>\n      <td>1.988000e+03</td>\n      <td>2.020000e+03</td>\n    </tr>\n    <tr>\n      <th>age</th>\n      <td>2130.0</td>\n      <td>5.558685e-01</td>\n      <td>5.614425e+00</td>\n      <td>0.000000e+00</td>\n      <td>0.000000e+00</td>\n      <td>0.000000e+00</td>\n      <td>0.000000e+00</td>\n      <td>7.700000e+01</td>\n    </tr>\n    <tr>\n      <th>infection_order</th>\n      <td>2130.0</td>\n      <td>2.285714e+00</td>\n      <td>1.741536e-01</td>\n      <td>1.000000e+00</td>\n      <td>2.285714e+00</td>\n      <td>2.285714e+00</td>\n      <td>2.285714e+00</td>\n      <td>6.000000e+00</td>\n    </tr>\n    <tr>\n      <th>infected_by</th>\n      <td>2130.0</td>\n      <td>2.705896e+09</td>\n      <td>7.257861e+08</td>\n      <td>1.000000e+09</td>\n      <td>2.705896e+09</td>\n      <td>2.705896e+09</td>\n      <td>2.705896e+09</td>\n      <td>6.113000e+09</td>\n    </tr>\n    <tr>\n      <th>contact_number</th>\n      <td>2130.0</td>\n      <td>2.421516e+01</td>\n      <td>3.996886e+01</td>\n      <td>0.000000e+00</td>\n      <td>2.421516e+01</td>\n      <td>2.421516e+01</td>\n      <td>2.421516e+01</td>\n      <td>1.160000e+03</td>\n    </tr>\n    <tr>\n      <th>n_age</th>\n      <td>2130.0</td>\n      <td>4.807697e+01</td>\n      <td>1.728605e+01</td>\n      <td>3.000000e+00</td>\n      <td>3.500000e+01</td>\n      <td>4.807697e+01</td>\n      <td>5.800000e+01</td>\n      <td>1.070000e+02</td>\n    </tr>\n  </tbody>\n</table>\n</div>"
     },
     "execution_count": 26,
     "metadata": {},
     "output_type": "execute_result"
    }
   ],
   "source": [
    "df.describe().T"
   ]
  },
  {
   "cell_type": "markdown",
   "metadata": {
    "colab_type": "text",
    "id": "AEBFq3hmB5aN"
   },
   "source": [
    "### Check for duplicated rows"
   ]
  },
  {
   "cell_type": "code",
   "execution_count": 27,
   "metadata": {
    "colab": {},
    "colab_type": "code",
    "id": "s9KGFCpkB5aP",
    "ExecuteTime": {
     "end_time": "2023-06-07T02:01:24.845825Z",
     "start_time": "2023-06-07T02:01:24.735935Z"
    }
   },
   "outputs": [
    {
     "data": {
      "text/plain": "Empty DataFrame\nColumns: [patient_id, global_num, sex, birth_year, age, country, province, city, disease, infection_case, infection_order, infected_by, contact_number, state, n_age]\nIndex: []",
      "text/html": "<div>\n<style scoped>\n    .dataframe tbody tr th:only-of-type {\n        vertical-align: middle;\n    }\n\n    .dataframe tbody tr th {\n        vertical-align: top;\n    }\n\n    .dataframe thead th {\n        text-align: right;\n    }\n</style>\n<table border=\"1\" class=\"dataframe\">\n  <thead>\n    <tr style=\"text-align: right;\">\n      <th></th>\n      <th>patient_id</th>\n      <th>global_num</th>\n      <th>sex</th>\n      <th>birth_year</th>\n      <th>age</th>\n      <th>country</th>\n      <th>province</th>\n      <th>city</th>\n      <th>disease</th>\n      <th>infection_case</th>\n      <th>infection_order</th>\n      <th>infected_by</th>\n      <th>contact_number</th>\n      <th>state</th>\n      <th>n_age</th>\n    </tr>\n  </thead>\n  <tbody>\n  </tbody>\n</table>\n</div>"
     },
     "execution_count": 27,
     "metadata": {},
     "output_type": "execute_result"
    }
   ],
   "source": [
    "duplicateRowsDF = df[df.duplicated()]\n",
    "duplicateRowsDF"
   ]
  },
  {
   "cell_type": "markdown",
   "metadata": {
    "colab_type": "text",
    "id": "8WOrbEk1SpOH"
   },
   "source": [
    "Print the categorical columns and their associated levels."
   ]
  },
  {
   "cell_type": "code",
   "execution_count": 28,
   "metadata": {
    "colab": {},
    "colab_type": "code",
    "id": "8QTm6RuRSpOH",
    "ExecuteTime": {
     "end_time": "2023-06-07T02:01:24.845981Z",
     "start_time": "2023-06-07T02:01:24.746297Z"
    }
   },
   "outputs": [
    {
     "name": "stdout",
     "output_type": "stream",
     "text": [
      "(2130, 7)\n"
     ]
    },
    {
     "data": {
      "text/plain": "          VarName  LevelsCount\n0             sex            3\n1         country            4\n2        province           17\n3            city          134\n4         disease            2\n5  infection_case           17\n6           state            3",
      "text/html": "<div>\n<style scoped>\n    .dataframe tbody tr th:only-of-type {\n        vertical-align: middle;\n    }\n\n    .dataframe tbody tr th {\n        vertical-align: top;\n    }\n\n    .dataframe thead th {\n        text-align: right;\n    }\n</style>\n<table border=\"1\" class=\"dataframe\">\n  <thead>\n    <tr style=\"text-align: right;\">\n      <th></th>\n      <th>VarName</th>\n      <th>LevelsCount</th>\n    </tr>\n  </thead>\n  <tbody>\n    <tr>\n      <th>0</th>\n      <td>sex</td>\n      <td>3</td>\n    </tr>\n    <tr>\n      <th>1</th>\n      <td>country</td>\n      <td>4</td>\n    </tr>\n    <tr>\n      <th>2</th>\n      <td>province</td>\n      <td>17</td>\n    </tr>\n    <tr>\n      <th>3</th>\n      <td>city</td>\n      <td>134</td>\n    </tr>\n    <tr>\n      <th>4</th>\n      <td>disease</td>\n      <td>2</td>\n    </tr>\n    <tr>\n      <th>5</th>\n      <td>infection_case</td>\n      <td>17</td>\n    </tr>\n    <tr>\n      <th>6</th>\n      <td>state</td>\n      <td>3</td>\n    </tr>\n  </tbody>\n</table>\n</div>"
     },
     "execution_count": 28,
     "metadata": {},
     "output_type": "execute_result"
    }
   ],
   "source": [
    "dfo = df.select_dtypes(include=['object'], exclude=['datetime'])\n",
    "print(dfo.shape)\n",
    "#get levels for all variables\n",
    "vn = pd.DataFrame(dfo.nunique()).reset_index()\n",
    "vn.columns = ['VarName', 'LevelsCount']\n",
    "vn.sort_values(by='LevelsCount', ascending =False)\n",
    "vn"
   ]
  },
  {
   "cell_type": "markdown",
   "metadata": {
    "colab_type": "text",
    "id": "a43l6w_uSpOJ"
   },
   "source": [
    "**<font color='teal'> Plot the correlation heat map for the features.</font>**"
   ]
  },
  {
   "cell_type": "code",
   "execution_count": 29,
   "metadata": {
    "colab": {},
    "colab_type": "code",
    "id": "ZRJlPqV5B5e5",
    "scrolled": true,
    "ExecuteTime": {
     "end_time": "2023-06-07T02:01:25.089927Z",
     "start_time": "2023-06-07T02:01:24.755611Z"
    }
   },
   "outputs": [
    {
     "name": "stderr",
     "output_type": "stream",
     "text": [
      "/var/folders/c2/xznlms511f5_7k456wbrkk000000gn/T/ipykernel_1789/1314748376.py:1: FutureWarning: The default value of numeric_only in DataFrame.corr is deprecated. In a future version, it will default to False. Select only valid columns or specify the value of numeric_only to silence this warning.\n",
      "  sns.heatmap(df.corr());\n"
     ]
    },
    {
     "data": {
      "text/plain": "<Figure size 640x480 with 2 Axes>",
      "image/png": "[encoded data removed]"
     },
     "metadata": {},
     "output_type": "display_data"
    }
   ],
   "source": [
    "sns.heatmap(df.corr());"
   ]
  },
  {
   "cell_type": "markdown",
   "metadata": {
    "colab_type": "text",
    "id": "2KtABW0USpOK"
   },
   "source": [
    "**<font color='teal'> Plot the boxplots to check for outliers. </font>**"
   ]
  },
  {
   "cell_type": "code",
   "execution_count": 30,
   "metadata": {
    "colab": {},
    "colab_type": "code",
    "id": "uYMmU_szB5fZ",
    "ExecuteTime": {
     "end_time": "2023-06-07T02:01:25.375485Z",
     "start_time": "2023-06-07T02:01:25.054686Z"
    }
   },
   "outputs": [
    {
     "data": {
      "text/plain": "<Figure size 2500x350 with 5 Axes>",
      "image/png": "[encoded data removed]"
     },
     "metadata": {},
     "output_type": "display_data"
    }
   ],
   "source": [
    "# create boxplot with a different y scale for different rows\n",
    "selection = ['n_age', 'infection_order', 'global_num', 'birth_year', 'contact_number']\n",
    "plt.rcParams[\"figure.figsize\"] = [25.00, 3.50]\n",
    "plt.rcParams[\"figure.autolayout\"] = True\n",
    "\n",
    "fig, axes = plt.subplots(1, len(selection))\n",
    "plt.subplots_adjust(wspace=0.725)\n",
    "# plt.figure(figsize=(20,10))\n",
    "for i, col in enumerate(selection):\n",
    "    ax = sns.boxplot(y=df[col], ax=axes.flatten()[i])\n",
    "    ax.set_ylim(df[col].min(), df[col].max())\n",
    "    ax.set_ylabel(col + ' / Unit')\n",
    "plt.show()"
   ]
  },
  {
   "cell_type": "markdown",
   "metadata": {
    "colab_type": "text",
    "id": "2Z_NuqkNSpOM"
   },
   "source": [
    "**<font color='teal'> Create dummy features for object type features. </font>**"
   ]
  },
  {
   "cell_type": "code",
   "execution_count": 40,
   "outputs": [
    {
     "name": "stderr",
     "output_type": "stream",
     "text": [
      "/var/folders/c2/xznlms511f5_7k456wbrkk000000gn/T/ipykernel_1789/3234019399.py:1: FutureWarning: In a future version, the Index constructor will not infer numeric dtypes when passed object-dtype sequences (matching Series behavior)\n",
      "  prepared_df = pd.get_dummies(data=df, prefix='d', columns=['sex','country','province','city','disease','infection_case'], drop_first=True)\n"
     ]
    }
   ],
   "source": [
    "prepared_df = pd.get_dummies(data=df, prefix='d', columns=['sex','country','province','city','disease','infection_case'], drop_first=True)"
   ],
   "metadata": {
    "collapsed": false,
    "ExecuteTime": {
     "end_time": "2023-06-07T02:01:43.464402Z",
     "start_time": "2023-06-07T02:01:43.451542Z"
    }
   }
  },
  {
   "cell_type": "code",
   "execution_count": 41,
   "outputs": [
    {
     "data": {
      "text/plain": "   patient_id  global_num  birth_year  age  infection_order   infected_by  \\\n0  1000000001         2.0      1964.0  0.0              1.0  2.705896e+09   \n1  1000000002         5.0      1987.0  0.0              1.0  2.705896e+09   \n2  1000000003         6.0      1964.0  0.0              2.0  2.002000e+09   \n3  1000000004         7.0      1991.0  0.0              1.0  2.705896e+09   \n4  1000000005         9.0      1992.0  0.0              2.0  1.000000e+09   \n\n   contact_number     state  n_age  d_male  ...  \\\n0            75.0  released   59.0       1  ...   \n1            31.0  released   36.0       1  ...   \n2            17.0  released   59.0       1  ...   \n3             9.0  released   32.0       1  ...   \n4             2.0  released   31.0       0  ...   \n\n   d_River of Grace Community Church  d_Seongdong-gu APT  \\\n0                                  0                   0   \n1                                  0                   0   \n2                                  0                   0   \n3                                  0                   0   \n4                                  0                   0   \n\n   d_Shincheonji Church  d_Suyeong-gu Kindergarten  d_contact with patient  \\\n0                     0                          0                       0   \n1                     0                          0                       0   \n2                     0                          0                       1   \n3                     0                          0                       0   \n4                     0                          0                       1   \n\n   d_etc  d_gym facility in Cheonan  d_gym facility in Sejong  \\\n0      0                          0                         0   \n1      0                          0                         0   \n2      0                          0                         0   \n3      0                          0                         0   \n4      0                          0                         0   \n\n   d_overseas inflow  d_unknown  \n0                  1          0  \n1                  1          0  \n2                  0          0  \n3                  1          0  \n4                  0          0  \n\n[5 rows x 180 columns]",
      "text/html": "<div>\n<style scoped>\n    .dataframe tbody tr th:only-of-type {\n        vertical-align: middle;\n    }\n\n    .dataframe tbody tr th {\n        vertical-align: top;\n    }\n\n    .dataframe thead th {\n        text-align: right;\n    }\n</style>\n<table border=\"1\" class=\"dataframe\">\n  <thead>\n    <tr style=\"text-align: right;\">\n      <th></th>\n      <th>patient_id</th>\n      <th>global_num</th>\n      <th>birth_year</th>\n      <th>age</th>\n      <th>infection_order</th>\n      <th>infected_by</th>\n      <th>contact_number</th>\n      <th>state</th>\n      <th>n_age</th>\n      <th>d_male</th>\n      <th>...</th>\n      <th>d_River of Grace Community Church</th>\n      <th>d_Seongdong-gu APT</th>\n      <th>d_Shincheonji Church</th>\n      <th>d_Suyeong-gu Kindergarten</th>\n      <th>d_contact with patient</th>\n      <th>d_etc</th>\n      <th>d_gym facility in Cheonan</th>\n      <th>d_gym facility in Sejong</th>\n      <th>d_overseas inflow</th>\n      <th>d_unknown</th>\n    </tr>\n  </thead>\n  <tbody>\n    <tr>\n      <th>0</th>\n      <td>1000000001</td>\n      <td>2.0</td>\n      <td>1964.0</td>\n      <td>0.0</td>\n      <td>1.0</td>\n      <td>2.705896e+09</td>\n      <td>75.0</td>\n      <td>released</td>\n      <td>59.0</td>\n      <td>1</td>\n      <td>...</td>\n      <td>0</td>\n      <td>0</td>\n      <td>0</td>\n      <td>0</td>\n      <td>0</td>\n      <td>0</td>\n      <td>0</td>\n      <td>0</td>\n      <td>1</td>\n      <td>0</td>\n    </tr>\n    <tr>\n      <th>1</th>\n      <td>1000000002</td>\n      <td>5.0</td>\n      <td>1987.0</td>\n      <td>0.0</td>\n      <td>1.0</td>\n      <td>2.705896e+09</td>\n      <td>31.0</td>\n      <td>released</td>\n      <td>36.0</td>\n      <td>1</td>\n      <td>...</td>\n      <td>0</td>\n      <td>0</td>\n      <td>0</td>\n      <td>0</td>\n      <td>0</td>\n      <td>0</td>\n      <td>0</td>\n      <td>0</td>\n      <td>1</td>\n      <td>0</td>\n    </tr>\n    <tr>\n      <th>2</th>\n      <td>1000000003</td>\n      <td>6.0</td>\n      <td>1964.0</td>\n      <td>0.0</td>\n      <td>2.0</td>\n      <td>2.002000e+09</td>\n      <td>17.0</td>\n      <td>released</td>\n      <td>59.0</td>\n      <td>1</td>\n      <td>...</td>\n      <td>0</td>\n      <td>0</td>\n      <td>0</td>\n      <td>0</td>\n      <td>1</td>\n      <td>0</td>\n      <td>0</td>\n      <td>0</td>\n      <td>0</td>\n      <td>0</td>\n    </tr>\n    <tr>\n      <th>3</th>\n      <td>1000000004</td>\n      <td>7.0</td>\n      <td>1991.0</td>\n      <td>0.0</td>\n      <td>1.0</td>\n      <td>2.705896e+09</td>\n      <td>9.0</td>\n      <td>released</td>\n      <td>32.0</td>\n      <td>1</td>\n      <td>...</td>\n      <td>0</td>\n      <td>0</td>\n      <td>0</td>\n      <td>0</td>\n      <td>0</td>\n      <td>0</td>\n      <td>0</td>\n      <td>0</td>\n      <td>1</td>\n      <td>0</td>\n    </tr>\n    <tr>\n      <th>4</th>\n      <td>1000000005</td>\n      <td>9.0</td>\n      <td>1992.0</td>\n      <td>0.0</td>\n      <td>2.0</td>\n      <td>1.000000e+09</td>\n      <td>2.0</td>\n      <td>released</td>\n      <td>31.0</td>\n      <td>0</td>\n      <td>...</td>\n      <td>0</td>\n      <td>0</td>\n      <td>0</td>\n      <td>0</td>\n      <td>1</td>\n      <td>0</td>\n      <td>0</td>\n      <td>0</td>\n      <td>0</td>\n      <td>0</td>\n    </tr>\n  </tbody>\n</table>\n<p>5 rows × 180 columns</p>\n</div>"
     },
     "execution_count": 41,
     "metadata": {},
     "output_type": "execute_result"
    }
   ],
   "source": [
    "prepared_df.head()"
   ],
   "metadata": {
    "collapsed": false,
    "ExecuteTime": {
     "end_time": "2023-06-07T02:01:44.484062Z",
     "start_time": "2023-06-07T02:01:44.480766Z"
    }
   }
  },
  {
   "cell_type": "code",
   "execution_count": 41,
   "outputs": [],
   "source": [],
   "metadata": {
    "collapsed": false,
    "ExecuteTime": {
     "end_time": "2023-06-07T02:01:49.302775Z",
     "start_time": "2023-06-07T02:01:49.297179Z"
    }
   }
  },
  {
   "cell_type": "markdown",
   "metadata": {
    "colab_type": "text",
    "id": "0uTSQY_liDHj"
   },
   "source": [
    "### Split the data into test and train subsamples"
   ]
  },
  {
   "cell_type": "code",
   "execution_count": 42,
   "metadata": {
    "colab": {},
    "colab_type": "code",
    "id": "BSkPut0gguds",
    "ExecuteTime": {
     "end_time": "2023-06-07T02:01:51.941761Z",
     "start_time": "2023-06-07T02:01:51.926266Z"
    }
   },
   "outputs": [],
   "source": [
    "from sklearn.model_selection import train_test_split\n",
    "\n",
    "# dont forget to define your X and y\n",
    "X = prepared_df.drop(columns=['state'])\n",
    "y = prepared_df['state']\n",
    "\n",
    "X_train, X_test, y_train, y_test = train_test_split(X, y, test_size=.2, random_state=1)"
   ]
  },
  {
   "cell_type": "markdown",
   "metadata": {
    "colab_type": "text",
    "id": "TcrOg3y7gRtG"
   },
   "source": [
    "### Scale data to prep for model creation"
   ]
  },
  {
   "cell_type": "code",
   "execution_count": 43,
   "metadata": {
    "colab": {},
    "colab_type": "code",
    "id": "IZL-q-KtAYI6",
    "ExecuteTime": {
     "end_time": "2023-06-07T02:02:05.807345Z",
     "start_time": "2023-06-07T02:02:05.787183Z"
    }
   },
   "outputs": [],
   "source": [
    "#scale data\n",
    "from sklearn import preprocessing\n",
    "import numpy as np\n",
    "# build scaler based on training data and apply it to test data to then also scale the test data\n",
    "scaler = preprocessing.StandardScaler().fit(X_train)\n",
    "X_train_scaled=scaler.transform(X_train)\n",
    "X_test_scaled=scaler.transform(X_test)"
   ]
  },
  {
   "cell_type": "code",
   "execution_count": 44,
   "metadata": {
    "colab": {},
    "colab_type": "code",
    "id": "ZSOICugNSpOR",
    "ExecuteTime": {
     "end_time": "2023-06-07T02:02:07.058645Z",
     "start_time": "2023-06-07T02:02:07.038106Z"
    }
   },
   "outputs": [],
   "source": [
    "from sklearn.metrics import precision_recall_curve\n",
    "from sklearn.metrics import f1_score\n",
    "from sklearn.metrics import auc\n",
    "from sklearn.linear_model import LogisticRegression\n",
    "from matplotlib import pyplot\n",
    "from sklearn.metrics import precision_recall_curve\n",
    "from sklearn.metrics import f1_score\n",
    "from sklearn.metrics import auc\n",
    "from sklearn.linear_model import LogisticRegression\n",
    "from sklearn.metrics import classification_report,confusion_matrix,roc_curve,roc_auc_score\n",
    "from sklearn.metrics import accuracy_score,log_loss\n",
    "from matplotlib import pyplot"
   ]
  },
  {
   "cell_type": "markdown",
   "metadata": {
    "colab_type": "text",
    "id": "vzrLoM58SpOT"
   },
   "source": [
    "### Fit Random Forest Classifier\n",
    "The fit model shows an overall accuracy of 80% which is great and indicates our model was effectively able to identify the status of a patients in the South Korea dataset."
   ]
  },
  {
   "cell_type": "code",
   "execution_count": 45,
   "metadata": {
    "colab": {},
    "colab_type": "code",
    "id": "b9jQyje3SpOU",
    "ExecuteTime": {
     "end_time": "2023-06-07T02:02:11.975905Z",
     "start_time": "2023-06-07T02:02:11.423336Z"
    }
   },
   "outputs": [
    {
     "name": "stdout",
     "output_type": "stream",
     "text": [
      "Random Forest: Accuracy=0.873\n",
      "Random Forest: f1-score=0.857\n"
     ]
    }
   ],
   "source": [
    "from sklearn.ensemble import RandomForestClassifier\n",
    "clf = RandomForestClassifier(n_estimators=300, random_state = 1,n_jobs=-1)\n",
    "model_res = clf.fit(X_train_scaled, y_train)\n",
    "y_pred = model_res.predict(X_test_scaled)\n",
    "y_pred_prob = model_res.predict_proba(X_test_scaled)\n",
    "lr_probs = y_pred_prob[:,1]\n",
    "ac = accuracy_score(y_test, y_pred)\n",
    "\n",
    "f1 = f1_score(y_test, y_pred, average='weighted')\n",
    "cm = confusion_matrix(y_test, y_pred)\n",
    "\n",
    "print('Random Forest: Accuracy=%.3f' % (ac))\n",
    "\n",
    "print('Random Forest: f1-score=%.3f' % (f1))"
   ]
  },
  {
   "cell_type": "markdown",
   "metadata": {
    "colab_type": "text",
    "id": "QYdW02QQSpOW"
   },
   "source": [
    "### Create Confusion Matrix Plots\n",
    "Confusion matrices are great ways to review your model performance for a multi-class classification problem. Being able to identify which class the misclassified observations end up in is a great way to determine if you need to build additional features to improve your overall model. In the example below we plot a regular counts confusion matrix as well as a weighted percent confusion matrix. The percent confusion matrix is particulary helpful when you have unbalanced class sizes."
   ]
  },
  {
   "cell_type": "code",
   "execution_count": 46,
   "metadata": {
    "colab": {},
    "colab_type": "code",
    "id": "wSWGVZU6SpOW",
    "ExecuteTime": {
     "end_time": "2023-06-07T02:02:25.067180Z",
     "start_time": "2023-06-07T02:02:25.052766Z"
    }
   },
   "outputs": [],
   "source": [
    "class_names=['isolated','released','missing','deceased'] # name  of classes"
   ]
  },
  {
   "cell_type": "code",
   "execution_count": 47,
   "metadata": {
    "colab": {},
    "colab_type": "code",
    "id": "GjnV5ugJSpOb",
    "ExecuteTime": {
     "end_time": "2023-06-07T02:02:26.044258Z",
     "start_time": "2023-06-07T02:02:25.707694Z"
    }
   },
   "outputs": [
    {
     "name": "stdout",
     "output_type": "stream",
     "text": [
      "Confusion matrix, without normalization\n",
      "[[  6   1   0]\n",
      " [  0 351  14]\n",
      " [  0  39  15]]\n",
      "Normalized confusion matrix\n",
      "[[0.86 0.14 0.  ]\n",
      " [0.   0.96 0.04]\n",
      " [0.   0.72 0.28]]\n"
     ]
    },
    {
     "data": {
      "text/plain": "<Figure size 2500x350 with 2 Axes>",
      "image/png": "[encoded data removed]"
     },
     "metadata": {},
     "output_type": "display_data"
    },
    {
     "data": {
      "text/plain": "<Figure size 2500x350 with 2 Axes>",
      "image/png": "[encoded data removed]"
     },
     "metadata": {},
     "output_type": "display_data"
    }
   ],
   "source": [
    "import itertools\n",
    "import numpy as np\n",
    "import matplotlib.pyplot as plt\n",
    "\n",
    "from sklearn import svm, datasets\n",
    "from sklearn.model_selection import train_test_split\n",
    "from sklearn.metrics import confusion_matrix\n",
    "\n",
    "def plot_confusion_matrix(cm, classes,\n",
    "                          normalize=False,\n",
    "                          title='Confusion matrix',\n",
    "                          cmap=plt.cm.Blues):\n",
    "    \"\"\"\n",
    "    This function prints and plots the confusion matrix.\n",
    "    Normalization can be applied by setting `normalize=True`.\n",
    "    \"\"\"\n",
    "    if normalize:\n",
    "        cm = cm.astype('float') / cm.sum(axis=1)[:, np.newaxis]\n",
    "        print(\"Normalized confusion matrix\")\n",
    "    else:\n",
    "        print('Confusion matrix, without normalization')\n",
    "\n",
    "    print(cm)\n",
    "\n",
    "    plt.imshow(cm, interpolation='nearest', cmap=cmap)\n",
    "    plt.title(title)\n",
    "    plt.colorbar()\n",
    "    tick_marks = np.arange(len(classes))\n",
    "    plt.xticks(tick_marks, classes, rotation=45)\n",
    "    plt.yticks(tick_marks, classes)\n",
    "\n",
    "    fmt = '.2f' if normalize else 'd'\n",
    "    thresh = cm.max() / 2.\n",
    "    for i, j in itertools.product(range(cm.shape[0]), range(cm.shape[1])):\n",
    "        plt.text(j, i, format(cm[i, j], fmt),\n",
    "                 horizontalalignment=\"center\",\n",
    "                 color=\"white\" if cm[i, j] > thresh else \"black\")\n",
    "\n",
    "    plt.ylabel('True label')\n",
    "    plt.xlabel('Predicted label')\n",
    "    plt.tight_layout()\n",
    "\n",
    "\n",
    "# Compute confusion matrix\n",
    "cnf_matrix = confusion_matrix(y_test, y_pred)\n",
    "np.set_printoptions(precision=2)\n",
    "\n",
    "# Plot non-normalized confusion matrix\n",
    "plt.figure()\n",
    "plot_confusion_matrix(cnf_matrix, classes=class_names,\n",
    "                      title='Confusion matrix, without normalization')\n",
    "#plt.savefig('figures/RF_cm_multi_class.png')\n",
    "\n",
    "# Plot normalized confusion matrix\n",
    "plt.figure()\n",
    "plot_confusion_matrix(cnf_matrix, classes=class_names, normalize=True,\n",
    "                      title='Normalized confusion matrix')\n",
    "#plt.savefig('figures/RF_cm_proportion_multi_class.png', bbox_inches=\"tight\")\n",
    "plt.show()"
   ]
  },
  {
   "cell_type": "markdown",
   "metadata": {
    "colab_type": "text",
    "id": "Z7PtbV4LSpOc"
   },
   "source": [
    "### Plot feature importances\n",
    "The random forest algorithm can be used as a regression or classification model. In either case it tends to be a bit of a black box, where understanding what's happening under the hood can be difficult. Plotting the feature importances is one way that you can gain a perspective on which features are driving the model predictions."
   ]
  },
  {
   "cell_type": "code",
   "execution_count": 48,
   "metadata": {
    "colab": {},
    "colab_type": "code",
    "id": "T1xpGOCVSpOc",
    "ExecuteTime": {
     "end_time": "2023-06-07T02:02:33.164775Z",
     "start_time": "2023-06-07T02:02:32.872027Z"
    }
   },
   "outputs": [
    {
     "name": "stdout",
     "output_type": "stream",
     "text": [
      "30\n"
     ]
    },
    {
     "data": {
      "text/plain": "<Figure size 1000x1000 with 1 Axes>",
      "image/png": "[encoded data removed]"
     },
     "metadata": {},
     "output_type": "display_data"
    }
   ],
   "source": [
    "feature_importance = clf.feature_importances_\n",
    "# make importances relative to max importance\n",
    "feature_importance = 100.0 * (feature_importance / feature_importance.max())[:30]\n",
    "sorted_idx = np.argsort(feature_importance)[:30]\n",
    "\n",
    "pos = np.arange(sorted_idx.shape[0]) + .5\n",
    "print(pos.size)\n",
    "sorted_idx.size\n",
    "plt.figure(figsize=(10,10))\n",
    "plt.barh(pos, feature_importance[sorted_idx], align='center')\n",
    "plt.yticks(pos, X.columns[sorted_idx])\n",
    "plt.xlabel('Relative Importance')\n",
    "plt.title('Variable Importance')\n",
    "plt.show()"
   ]
  },
  {
   "cell_type": "markdown",
   "metadata": {
    "colab_type": "text",
    "id": "Ys_mI5GsSpOe"
   },
   "source": [
    "The popularity of random forest is primarily due to how well it performs in a multitude of data situations. It tends to handle highly correlated features well, where as a linear regression model would not. In this case study we demonstrate the performance ability even with only a few features and almost all of them being highly correlated with each other.\n",
    "Random Forest is also used as an efficient way to investigate the importance of a set of features with a large data set. Consider random forest to be one of your first choices when building a decision tree, especially for multiclass classifications."
   ]
  },
  {
   "cell_type": "code",
   "execution_count": null,
   "outputs": [],
   "source": [],
   "metadata": {
    "collapsed": false
   }
  }
 ],
 "metadata": {
  "colab": {
   "collapsed_sections": [
    "FXGd_NbdB5kn"
   ],
   "name": "RandomForest_casestudy_covid19.ipynb",
   "provenance": []
  },
  "kernelspec": {
   "display_name": "Python 3",
   "language": "python",
   "name": "python3"
  },
  "language_info": {
   "codemirror_mode": {
    "name": "ipython",
    "version": 3
   },
   "file_extension": ".py",
   "mimetype": "text/x-python",
   "name": "python",
   "nbconvert_exporter": "python",
   "pygments_lexer": "ipython3",
   "version": "3.7.4"
  }
 },
 "nbformat": 4,
 "nbformat_minor": 4
}
