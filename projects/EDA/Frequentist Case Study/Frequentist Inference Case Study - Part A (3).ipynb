{
 "cells": [
  {
   "cell_type": "markdown",
   "metadata": {},
   "source": [
    "# Frequentist Inference Case Study - Part A "
   ]
  },
  {
   "cell_type": "markdown",
   "metadata": {},
   "source": [
    "## 1. Learning objectives"
   ]
  },
  {
   "cell_type": "markdown",
   "metadata": {},
   "source": [
    "Welcome to part A of the Frequentist inference case study! The purpose of this case study is to help you apply the concepts associated with Frequentist inference in Python. Frequentist inference is the process of deriving conclusions about an underlying distribution via the observation of data. In particular, you'll practice writing Python code to apply the following statistical concepts: \n",
    "* the _z_-statistic\n",
    "* the _t_-statistic\n",
    "* the difference and relationship between the two\n",
    "* the Central Limit Theorem, including its assumptions and consequences\n",
    "* how to estimate the population mean and standard deviation from a sample\n",
    "* the concept of a sampling distribution of a test statistic, particularly for the mean\n",
    "* how to combine these concepts to calculate a confidence interval"
   ]
  },
  {
   "cell_type": "markdown",
   "metadata": {},
   "source": [
    "## Prerequisites"
   ]
  },
  {
   "cell_type": "markdown",
   "metadata": {},
   "source": [
    "To be able to complete this notebook, you are expected to have a basic understanding of:\n",
    "* what a random variable is (p.400 of Professor Spiegelhalter's *The Art of Statistics, hereinafter AoS*)\n",
    "* what a population, and a population distribution, are (p. 397 of *AoS*)\n",
    "* a high-level sense of what the normal distribution is (p. 394 of *AoS*)\n",
    "* what the t-statistic is (p. 275 of *AoS*)\n",
    "\n",
    "Happily, these should all be concepts with which you are reasonably familiar after having read ten chapters of Professor Spiegelhalter's book, *The Art of Statistics*.\n",
    "\n",
    "We'll try to relate the concepts in this case study back to page numbers in *The Art of Statistics* so that you can focus on the Python aspects of this case study. The second part (part B) of this case study will involve another, more real-world application of these tools. "
   ]
  },
  {
   "cell_type": "markdown",
   "metadata": {},
   "source": [
    "For this notebook, we will use data sampled from a known normal distribution. This allows us to compare our results with theoretical expectations."
   ]
  },
  {
   "cell_type": "markdown",
   "metadata": {},
   "source": [
    "## 2. An introduction to sampling from the normal distribution"
   ]
  },
  {
   "cell_type": "markdown",
   "metadata": {},
   "source": [
    "First, let's explore the ways we can generate the normal distribution. While there's a fair amount of interest in [sklearn](https://scikit-learn.org/stable/) within the machine learning community, you're likely to have heard of [scipy](https://docs.scipy.org/doc/scipy-0.15.1/reference/index.html) if you're coming from the sciences. For this assignment, you'll use [scipy.stats](https://docs.scipy.org/doc/scipy-0.15.1/reference/tutorial/stats.html) to complete your work. \n",
    "\n",
    "This assignment will require some digging around and getting your hands dirty (your learning is maximized that way)! You should have the research skills and the tenacity to do these tasks independently, but if you struggle, reach out to your immediate community and your mentor for help. "
   ]
  },
  {
   "cell_type": "code",
   "execution_count": 1,
   "metadata": {
    "ExecuteTime": {
     "end_time": "2023-06-17T02:08:23.925915Z",
     "start_time": "2023-06-17T02:08:23.923706Z"
    }
   },
   "outputs": [],
   "source": [
    "import scipy.linalg\n",
    "from scipy.stats import norm\n",
    "from scipy.stats import t\n",
    "import numpy as np\n",
    "import pandas as pd\n",
    "from numpy.random import seed\n",
    "import matplotlib.pyplot as plt"
   ]
  },
  {
   "cell_type": "markdown",
   "metadata": {},
   "source": [
    "__Q1:__ Call up the documentation for the `norm` function imported above. (Hint: that documentation is [here](https://docs.scipy.org/doc/scipy/reference/generated/scipy.stats.norm.html)). What is the second listed method?"
   ]
  },
  {
   "cell_type": "markdown",
   "metadata": {},
   "source": [
    "__A__: <font color=teal>pdf()</font>"
   ]
  },
  {
   "cell_type": "markdown",
   "metadata": {},
   "source": [
    "__Q2:__ Use the method that generates random variates to draw five samples from the standard normal distribution. "
   ]
  },
  {
   "cell_type": "markdown",
   "metadata": {},
   "source": [
    "__A:__"
   ]
  },
  {
   "cell_type": "code",
   "execution_count": 340,
   "metadata": {
    "ExecuteTime": {
     "end_time": "2023-06-16T22:24:47.830382Z",
     "start_time": "2023-06-16T22:24:47.626715Z"
    }
   },
   "outputs": [
    {
     "name": "stdout",
     "output_type": "stream",
     "text": [
      "[-0.84800948  1.30590636  0.92420797  0.6404118  -1.05473698]\n"
     ]
    }
   ],
   "source": [
    "seed(47)\n",
    "# draw five samples here\n",
    "v  = norm.rvs(size=5)\n",
    "print(v)"
   ]
  },
  {
   "cell_type": "markdown",
   "metadata": {},
   "source": [
    "__Q3:__ What is the mean of this sample? Is it exactly equal to the value you expected? Hint: the sample was drawn from the standard normal distribution. If you want a reminder of the properties of this distribution, check out p. 85 of *AoS*. "
   ]
  },
  {
   "cell_type": "markdown",
   "metadata": {},
   "source": [
    "__A:__  <font color=teal>I might have expected zero, but there are not enough data points<font/>"
   ]
  },
  {
   "cell_type": "code",
   "execution_count": 341,
   "metadata": {
    "ExecuteTime": {
     "end_time": "2023-06-16T22:24:47.870131Z",
     "start_time": "2023-06-16T22:24:47.826401Z"
    }
   },
   "outputs": [
    {
     "data": {
      "text/plain": "0.19355593334131074"
     },
     "execution_count": 341,
     "metadata": {},
     "output_type": "execute_result"
    }
   ],
   "source": [
    "# Calculate and print the mean here, hint: use np.mean()\n",
    "mu = np.mean(v)\n",
    "mu"
   ]
  },
  {
   "cell_type": "markdown",
   "metadata": {},
   "source": [
    "__Q4:__ What is the standard deviation of these numbers? Calculate this manually here as $\\sqrt{\\frac{\\sum_i(x_i - \\bar{x})^2}{n}}$ (This is just the definition of **standard deviation** given by Professor Spiegelhalter on p.403 of *AoS*). Hint: np.sqrt() and np.sum() will be useful here and remember that numPy supports [broadcasting](https://docs.scipy.org/doc/numpy/user/basics.broadcasting.html)."
   ]
  },
  {
   "cell_type": "markdown",
   "metadata": {},
   "source": [
    "__A:__"
   ]
  },
  {
   "cell_type": "code",
   "execution_count": 342,
   "metadata": {
    "ExecuteTime": {
     "end_time": "2023-06-16T22:24:47.922063Z",
     "start_time": "2023-06-16T22:24:47.848247Z"
    }
   },
   "outputs": [
    {
     "data": {
      "text/plain": "9.930136612989092e-17"
     },
     "execution_count": 342,
     "metadata": {},
     "output_type": "execute_result"
    }
   ],
   "source": [
    "n=len(v)\n",
    "sum_of_squares = np.sum(v - mu)**2\n",
    "std = np.sqrt(sum_of_squares / n)\n",
    "std"
   ]
  },
  {
   "cell_type": "markdown",
   "metadata": {},
   "source": [
    "Here we have calculated the actual standard deviation of a small data set (of size 5). But in this case, this small data set is actually a sample from our larger (infinite) population. In this case, the population is infinite because we could keep drawing our normal random variates until our computers die! \n",
    "\n",
    "In general, the sample mean we calculate will not be equal to the population mean (as we saw above). A consequence of this is that the sum of squares of the deviations from the _population_ mean will be bigger than the sum of squares of the deviations from the _sample_ mean. In other words, the sum of squares of the deviations from the _sample_ mean is too small to give an unbiased estimate of the _population_ variance. An example of this effect is given [here](https://en.wikipedia.org/wiki/Bessel%27s_correction#Source_of_bias). Scaling our estimate of the variance by the factor $n/(n-1)$ gives an unbiased estimator of the population variance. This factor is known as [Bessel's correction](https://en.wikipedia.org/wiki/Bessel%27s_correction). The consequence of this is that the $n$ in the denominator is replaced by $n-1$.\n",
    "\n",
    "You can see Bessel's correction reflected in Professor Spiegelhalter's definition of **variance** on p. 405 of *AoS*.\n",
    "\n",
    "__Q5:__ If all we had to go on was our five samples, what would be our best estimate of the population standard deviation? Use Bessel's correction ($n-1$ in the denominator), thus $\\sqrt{\\frac{\\sum_i(x_i - \\bar{x})^2}{n-1}}$."
   ]
  },
  {
   "cell_type": "markdown",
   "metadata": {},
   "source": [
    "__A:__"
   ]
  },
  {
   "cell_type": "code",
   "execution_count": 343,
   "metadata": {
    "ExecuteTime": {
     "end_time": "2023-06-16T22:24:47.952942Z",
     "start_time": "2023-06-16T22:24:47.924370Z"
    }
   },
   "outputs": [
    {
     "data": {
      "text/plain": "1.1102230246251565e-16"
     },
     "execution_count": 343,
     "metadata": {},
     "output_type": "execute_result"
    }
   ],
   "source": [
    "np.sqrt(sum_of_squares / (n - 1))"
   ]
  },
  {
   "cell_type": "markdown",
   "metadata": {},
   "source": [
    "__Q6:__ Now use numpy's std function to calculate the standard deviation of our random samples. Which of the above standard deviations did it return?"
   ]
  },
  {
   "cell_type": "markdown",
   "metadata": {},
   "source": [
    "__A:__"
   ]
  },
  {
   "cell_type": "code",
   "execution_count": 344,
   "metadata": {
    "ExecuteTime": {
     "end_time": "2023-06-16T22:24:48.015525Z",
     "start_time": "2023-06-16T22:24:47.943853Z"
    }
   },
   "outputs": [
    {
     "name": "stdout",
     "output_type": "stream",
     "text": [
      "It does use the population calculation\n"
     ]
    },
    {
     "data": {
      "text/plain": "0.9606195639478641"
     },
     "execution_count": 344,
     "metadata": {},
     "output_type": "execute_result"
    }
   ],
   "source": [
    "print(\"It does use the population calculation\")\n",
    "np.std(v)"
   ]
  },
  {
   "cell_type": "markdown",
   "metadata": {},
   "source": [
    "__Q7:__ Consult the documentation for np.std() to see how to apply the correction for estimating the population parameter and verify this produces the expected result."
   ]
  },
  {
   "cell_type": "markdown",
   "metadata": {},
   "source": [
    "__A:__"
   ]
  },
  {
   "cell_type": "code",
   "execution_count": 345,
   "metadata": {
    "ExecuteTime": {
     "end_time": "2023-06-16T22:24:48.030222Z",
     "start_time": "2023-06-16T22:24:47.967428Z"
    }
   },
   "outputs": [
    {
     "name": "stdout",
     "output_type": "stream",
     "text": [
      "degrees of freedom\n"
     ]
    },
    {
     "data": {
      "text/plain": "1.0740053227518152"
     },
     "execution_count": 345,
     "metadata": {},
     "output_type": "execute_result"
    }
   ],
   "source": [
    "print(\"degrees of freedom\")\n",
    "np.std(v, ddof=1)"
   ]
  },
  {
   "cell_type": "code",
   "execution_count": 345,
   "metadata": {
    "ExecuteTime": {
     "end_time": "2023-06-16T22:24:48.084933Z",
     "start_time": "2023-06-16T22:24:48.023782Z"
    }
   },
   "outputs": [],
   "source": []
  },
  {
   "cell_type": "markdown",
   "metadata": {},
   "source": [
    "### Summary of section"
   ]
  },
  {
   "cell_type": "markdown",
   "metadata": {},
   "source": [
    "In this section, you've been introduced to the scipy.stats package and used it to draw a small sample from the standard normal distribution. You've calculated the average (the mean) of this sample and seen that this is not exactly equal to the expected population parameter (which we know because we're generating the random variates from a specific, known distribution). You've been introduced to two ways of calculating the standard deviation; one uses $n$ in the denominator and the other uses $n-1$ (Bessel's correction). You've also seen which of these calculations np.std() performs by default and how to get it to generate the other."
   ]
  },
  {
   "cell_type": "markdown",
   "metadata": {},
   "source": [
    "You use $n$ as the denominator if you want to calculate the standard deviation of a sequence of numbers. You use $n-1$ if you are using this sequence of numbers to estimate the population parameter. This brings us to some terminology that can be a little confusing.\n",
    "\n",
    "The population parameter is traditionally written as $\\sigma$ and the sample statistic as $s$. Rather unhelpfully, $s$ is also called the sample standard deviation (using $n-1$) whereas the standard deviation of the sample uses $n$. That's right, we have the sample standard deviation and the standard deviation of the sample and they're not the same thing!\n",
    "\n",
    "The sample standard deviation\n",
    "\\begin{equation}\n",
    "s = \\sqrt{\\frac{\\sum_i(x_i - \\bar{x})^2}{n-1}} \\approx \\sigma,\n",
    "\\end{equation}\n",
    "is our best (unbiased) estimate of the population parameter ($\\sigma$).\n",
    "\n",
    "If your dataset _is_ your entire population, you simply want to calculate the population parameter, $\\sigma$, via\n",
    "\\begin{equation}\n",
    "\\sigma = \\sqrt{\\frac{\\sum_i(x_i - \\bar{x})^2}{n}}\n",
    "\\end{equation}\n",
    "as you have complete, full knowledge of your population. In other words, your sample _is_ your population. It's worth noting that we're dealing with what Professor Spiegehalter describes on p. 92 of *AoS* as a **metaphorical population**: we have all the data, and we act as if the data-point is taken from a population at random. We can think of this population as an imaginary space of possibilities. \n",
    "\n",
    "If, however, you have sampled _from_ your population, you only have partial knowledge of the state of your population. In this case, the standard deviation of your sample is not an unbiased estimate of the standard deviation of the population, in which case you seek to estimate that population parameter via the sample standard deviation, which uses the $n-1$ denominator."
   ]
  },
  {
   "cell_type": "markdown",
   "metadata": {},
   "source": [
    "Great work so far! Now let's dive deeper."
   ]
  },
  {
   "cell_type": "markdown",
   "metadata": {},
   "source": [
    "## 3. Sampling distributions"
   ]
  },
  {
   "cell_type": "markdown",
   "metadata": {},
   "source": [
    "So far we've been dealing with the concept of taking a sample from a population to infer the population parameters. One statistic we calculated for a sample was the mean. As our samples will be expected to vary from one draw to another, so will our sample statistics. If we were to perform repeat draws of size $n$ and calculate the mean of each, we would expect to obtain a distribution of values. This is the sampling distribution of the mean. **The Central Limit Theorem (CLT)** tells us that such a distribution will approach a normal distribution as $n$ increases (the intuitions behind the CLT are covered in full on p. 236 of *AoS*). For the sampling distribution of the mean, the standard deviation of this distribution is given by\n",
    "\n",
    "\\begin{equation}\n",
    "\\sigma_{mean} = \\frac{\\sigma}{\\sqrt n}\n",
    "\\end{equation}\n",
    "\n",
    "where $\\sigma_{mean}$ is the standard deviation of the sampling distribution of the mean and $\\sigma$ is the standard deviation of the population (the population parameter)."
   ]
  },
  {
   "cell_type": "markdown",
   "metadata": {},
   "source": [
    "This is important because typically we are dealing with samples from populations and all we know about the population is what we see in the sample. From this sample, we want to make inferences about the population. We may do this, for example, by looking at the histogram of the values and by calculating the mean and standard deviation (as estimates of the population parameters), and so we are intrinsically interested in how these quantities vary across samples. \n",
    "\n",
    "In other words, now that we've taken one sample of size $n$ and made some claims about the general population, what if we were to take another sample of size $n$? Would we get the same result? Would we make the same claims about the general population? This brings us to a fundamental question: _when we make some inference about a population based on our sample, how confident can we be that we've got it 'right'?_\n",
    "\n",
    "We need to think about **estimates and confidence intervals**: those concepts covered in Chapter 7, p. 189, of *AoS*."
   ]
  },
  {
   "cell_type": "markdown",
   "metadata": {},
   "source": [
    "Now, the standard normal distribution (with its variance equal to its standard deviation of one) would not be a great illustration of a key point. Instead, let's imagine we live in a town of 50,000 people and we know the height of everyone in this town. We will have 50,000 numbers that tell us everything about our population. We'll simulate these numbers now and put ourselves in one particular town, called 'town 47', where the population mean height is 172 cm and population standard deviation is 5 cm."
   ]
  },
  {
   "cell_type": "code",
   "execution_count": 346,
   "metadata": {
    "ExecuteTime": {
     "end_time": "2023-06-16T22:24:48.109702Z",
     "start_time": "2023-06-16T22:24:48.085325Z"
    }
   },
   "outputs": [],
   "source": [
    "seed(47)\n",
    "pop_heights = norm.rvs(loc=172, scale=5, size=50000)"
   ]
  },
  {
   "cell_type": "code",
   "execution_count": 347,
   "metadata": {
    "ExecuteTime": {
     "end_time": "2023-06-16T22:24:48.148064Z",
     "start_time": "2023-06-16T22:24:48.113461Z"
    }
   },
   "outputs": [],
   "source": [
    "def plot_pop_heights(lookup=None):\n",
    "    _ = plt.hist(pop_heights, bins=30)\n",
    "    _ = plt.xlabel('height (cm)')\n",
    "    _ = plt.ylabel('number of people')\n",
    "    _ = plt.title('Distribution of heights in entire town population')\n",
    "    _ = plt.axvline(172, color='r')\n",
    "    _ = plt.axvline(172+5, color='r', linestyle='--')\n",
    "    _ = plt.axvline(172-5, color='r', linestyle='--')\n",
    "    _ = plt.axvline(172+10, color='r', linestyle='-.')\n",
    "    _ = plt.axvline(172-10, color='r', linestyle='-.')\n",
    "    if lookup is not None:\n",
    "        _ = plt.axvline(lookup, color='yellow', linestyle='--')"
   ]
  },
  {
   "cell_type": "code",
   "execution_count": 348,
   "outputs": [
    {
     "data": {
      "text/plain": "<Figure size 640x480 with 1 Axes>",
      "image/png": "[encoded data removed]"
     },
     "metadata": {},
     "output_type": "display_data"
    }
   ],
   "source": [
    "plot_pop_heights()"
   ],
   "metadata": {
    "collapsed": false,
    "ExecuteTime": {
     "end_time": "2023-06-16T22:24:48.266640Z",
     "start_time": "2023-06-16T22:24:48.155858Z"
    }
   }
  },
  {
   "cell_type": "markdown",
   "metadata": {},
   "source": [
    "Now, 50,000 people is rather a lot to chase after with a tape measure. If all you want to know is the average height of the townsfolk, then can you just go out and measure a sample to get a pretty good estimate of the average height?"
   ]
  },
  {
   "cell_type": "code",
   "execution_count": 349,
   "metadata": {
    "ExecuteTime": {
     "end_time": "2023-06-16T22:24:48.312602Z",
     "start_time": "2023-06-16T22:24:48.263584Z"
    }
   },
   "outputs": [],
   "source": [
    "def townsfolk_sampler(n):\n",
    "    return np.random.choice(pop_heights, n)"
   ]
  },
  {
   "cell_type": "markdown",
   "metadata": {},
   "source": [
    "Let's say you go out one day and randomly sample 10 people to measure."
   ]
  },
  {
   "cell_type": "code",
   "execution_count": 350,
   "metadata": {
    "ExecuteTime": {
     "end_time": "2023-06-16T22:24:48.312958Z",
     "start_time": "2023-06-16T22:24:48.266880Z"
    }
   },
   "outputs": [],
   "source": [
    "seed(47)\n",
    "daily_sample1 = townsfolk_sampler(10)"
   ]
  },
  {
   "cell_type": "code",
   "execution_count": 351,
   "metadata": {
    "ExecuteTime": {
     "end_time": "2023-06-16T22:24:48.379214Z",
     "start_time": "2023-06-16T22:24:48.270317Z"
    }
   },
   "outputs": [
    {
     "data": {
      "text/plain": "<Figure size 640x480 with 1 Axes>",
      "image/png": "[encoded data removed]"
     },
     "metadata": {},
     "output_type": "display_data"
    }
   ],
   "source": [
    "_ = plt.hist(daily_sample1, bins=10)\n",
    "_ = plt.xlabel('height (cm)')\n",
    "_ = plt.ylabel('number of people')\n",
    "_ = plt.title('Distribution of heights in sample size 10')"
   ]
  },
  {
   "cell_type": "markdown",
   "metadata": {},
   "source": [
    "The sample distribution doesn't resemble what we take the population distribution to be. What do we get for the mean?"
   ]
  },
  {
   "cell_type": "code",
   "execution_count": 352,
   "metadata": {
    "ExecuteTime": {
     "end_time": "2023-06-16T22:24:48.394678Z",
     "start_time": "2023-06-16T22:24:48.376857Z"
    }
   },
   "outputs": [
    {
     "data": {
      "text/plain": "173.47911444163503"
     },
     "execution_count": 352,
     "metadata": {},
     "output_type": "execute_result"
    },
    {
     "data": {
      "text/plain": "173.47911444163503"
     },
     "execution_count": 352,
     "metadata": {},
     "output_type": "execute_result"
    }
   ],
   "source": [
    "np.mean(daily_sample1)"
   ]
  },
  {
   "cell_type": "markdown",
   "metadata": {},
   "source": [
    "And if we went out and repeated this experiment?"
   ]
  },
  {
   "cell_type": "code",
   "execution_count": null,
   "metadata": {
    "is_executing": true,
    "ExecuteTime": {
     "start_time": "2023-06-16T22:24:48.380038Z"
    }
   },
   "outputs": [],
   "source": [
    "daily_sample2 = townsfolk_sampler(10)"
   ]
  },
  {
   "cell_type": "code",
   "execution_count": null,
   "metadata": {
    "is_executing": true
   },
   "outputs": [],
   "source": [
    "np.mean(daily_sample2)"
   ]
  },
  {
   "cell_type": "markdown",
   "metadata": {},
   "source": [
    "__Q8:__ Simulate performing this random trial every day for a year, calculating the mean of each daily sample of 10, and plot the resultant sampling distribution of the mean."
   ]
  },
  {
   "cell_type": "markdown",
   "metadata": {},
   "source": [
    "__A:__"
   ]
  },
  {
   "cell_type": "code",
   "execution_count": null,
   "metadata": {
    "is_executing": true
   },
   "outputs": [],
   "source": [
    "import seaborn as sns"
   ]
  },
  {
   "cell_type": "code",
   "execution_count": null,
   "metadata": {
    "is_executing": true
   },
   "outputs": [],
   "source": [
    "\n",
    "def take_samples(experiments, sample_size):\n",
    "    seed(47)\n",
    "    # take your samples here\n",
    "    samples=[]\n",
    "\n",
    "    for i in range(experiments):\n",
    "        samples.append(np.mean(townsfolk_sampler(sample_size)))\n",
    "\n",
    "    print(f\"The mean of means is {np.mean(samples)}\")\n",
    "    print(f\"The std of means is {np.std(samples, ddof=1)}\")\n",
    "    sns.histplot(samples, bins=50,kde=True)\n",
    "    plt.show()\n",
    "    return samples\n"
   ]
  },
  {
   "cell_type": "code",
   "execution_count": null,
   "outputs": [
    {
     "name": "stdout",
     "output_type": "stream",
     "text": [
      "The mean of means is 171.8660049358649\n",
      "The std of means is 1.5778333114768472\n"
     ]
    },
    {
     "data": {
      "text/plain": "<Figure size 640x480 with 1 Axes>",
      "image/png": "[encoded data removed]"
     },
     "metadata": {},
     "output_type": "display_data"
    },
    {
     "name": "stdout",
     "output_type": "stream",
     "text": [
      "The mean of that actual population is 172.0192602425845\n"
     ]
    }
   ],
   "source": [
    "samples = take_samples(365,10)\n",
    "print(f\"The mean of that actual population is {np.mean(pop_heights)}\")"
   ],
   "metadata": {
    "collapsed": false,
    "is_executing": true
   }
  },
  {
   "cell_type": "markdown",
   "metadata": {},
   "source": [
    "The above is the distribution of the means of samples of size 10 taken from our population. The Central Limit Theorem tells us the expected mean of this distribution will be equal to the population mean, and standard deviation will be $\\sigma / \\sqrt n$, which, in this case, should be approximately 1.58."
   ]
  },
  {
   "cell_type": "markdown",
   "metadata": {},
   "source": [
    "__Q9:__ Verify the above results from the CLT."
   ]
  },
  {
   "cell_type": "markdown",
   "metadata": {},
   "source": [
    "__A:__   Done above"
   ]
  },
  {
   "cell_type": "markdown",
   "metadata": {},
   "source": [
    "Remember, in this instance, we knew our population parameters, that the average height really is 172 cm and the standard deviation is 5 cm, and we see some of our daily estimates of the population mean were as low as around 168 and some as high as 176."
   ]
  },
  {
   "cell_type": "markdown",
   "metadata": {},
   "source": [
    "__Q10:__ Repeat the above year's worth of samples but for a sample size of 50 (perhaps you had a bigger budget for conducting surveys that year)! Would you expect your distribution of sample means to be wider (more variable) or narrower (more consistent)? Compare your resultant summary statistics to those predicted by the CLT."
   ]
  },
  {
   "cell_type": "markdown",
   "metadata": {},
   "source": [
    "__A:__"
   ]
  },
  {
   "cell_type": "code",
   "execution_count": 358,
   "metadata": {
    "ExecuteTime": {
     "end_time": "2023-06-16T22:24:48.645117Z",
     "start_time": "2023-06-16T22:24:48.496059Z"
    }
   },
   "outputs": [
    {
     "name": "stdout",
     "output_type": "stream",
     "text": [
      "The mean of means is 171.99199611410825\n",
      "The std of means is 0.7078679867161761\n"
     ]
    },
    {
     "data": {
      "text/plain": "<Figure size 640x480 with 1 Axes>",
      "image/png": "[encoded data removed]"
     },
     "metadata": {},
     "output_type": "display_data"
    }
   ],
   "source": [
    "seed(47)\n",
    "# calculate daily means from the larger sample size here\n",
    "samples = take_samples(2000,50)"
   ]
  },
  {
   "cell_type": "markdown",
   "metadata": {},
   "source": [
    "What we've seen so far, then, is that we can estimate population parameters from a sample from the population, and that samples have their own distributions. Furthermore, the larger the sample size, the narrower are those sampling distributions."
   ]
  },
  {
   "cell_type": "markdown",
   "metadata": {},
   "source": [
    "### Normally testing time!"
   ]
  },
  {
   "cell_type": "markdown",
   "metadata": {},
   "source": [
    "All of the above is well and good. We've been sampling from a population we know is normally distributed, we've come to understand when to use $n$ and when to use $n-1$ in the denominator to calculate the spread of a distribution, and we've  seen the Central Limit Theorem in action for a sampling distribution. All seems very well behaved in Frequentist land. But, well, why should we really care?"
   ]
  },
  {
   "cell_type": "markdown",
   "metadata": {},
   "source": [
    "Remember, we rarely (if ever) actually know our population parameters but we still have to estimate them somehow. If we want to make inferences to conclusions like \"this observation is unusual\" or \"my population mean has changed\" then we need to have some idea of what the underlying distribution is so we can calculate relevant probabilities. In frequentist inference, we use the formulae above to deduce these population parameters. Take a moment in the next part of this assignment to refresh your understanding of how these probabilities work."
   ]
  },
  {
   "cell_type": "markdown",
   "metadata": {},
   "source": [
    "Recall some basic properties of the standard normal distribution, such as that about 68% of observations are within plus or minus 1 standard deviation of the mean. Check out the precise definition of a normal distribution on p. 394 of *AoS*. \n",
    "\n",
    "__Q11:__ Using this fact, calculate the probability of observing the value 1 or less in a single observation from the standard normal distribution. Hint: you may find it helpful to sketch the standard normal distribution (the familiar bell shape) and mark the number of standard deviations from the mean on the x-axis and shade the regions of the curve that contain certain percentages of the population."
   ]
  },
  {
   "cell_type": "markdown",
   "metadata": {},
   "source": [
    "__A:__  <font color=teal>50% for the right hand side of the curve, and 34% past the mean == 84%<font/>\n"
   ]
  },
  {
   "cell_type": "markdown",
   "metadata": {},
   "source": [
    "Calculating this probability involved calculating the area under the curve from the value of 1 and below. To put it in mathematical terms, we need to *integrate* the probability density function. We could just add together the known areas of chunks (from -Inf to 0 and then 0 to $+\\sigma$ in the example above). One way to do this is to look up tables (literally). Fortunately, scipy has this functionality built in with the cdf() function."
   ]
  },
  {
   "cell_type": "markdown",
   "metadata": {},
   "source": [
    "__Q12:__ Use the cdf() function to answer the question above again and verify you get the same answer."
   ]
  },
  {
   "cell_type": "markdown",
   "metadata": {},
   "source": [
    "__A:__"
   ]
  },
  {
   "cell_type": "code",
   "execution_count": 359,
   "metadata": {
    "ExecuteTime": {
     "end_time": "2023-06-16T22:24:48.645394Z",
     "start_time": "2023-06-16T22:24:48.616428Z"
    }
   },
   "outputs": [
    {
     "data": {
      "text/plain": "0.8413447460685429"
     },
     "execution_count": 359,
     "metadata": {},
     "output_type": "execute_result"
    }
   ],
   "source": [
    "norm.cdf(1)"
   ]
  },
  {
   "cell_type": "markdown",
   "metadata": {},
   "source": [
    "__Q13:__ Using our knowledge of the population parameters for our townsfolks' heights, what is the probability of selecting one person at random and their height being 177 cm or less? Calculate this using both of the approaches given above."
   ]
  },
  {
   "cell_type": "markdown",
   "metadata": {},
   "source": [
    "__A:__"
   ]
  },
  {
   "cell_type": "code",
   "execution_count": 360,
   "outputs": [],
   "source": [
    "def get_probability(n, data):\n",
    "    zscore = (n - np.mean(data)) / np.std(data, ddof=1)\n",
    "    cdf = norm.cdf(zscore)\n",
    "    area_under_curve_left = cdf\n",
    "    area_under_curve_right = 1 - cdf\n",
    "    print(f\"The mean is {np.mean(data)}\")\n",
    "    print(f\"{n} is {zscore} std deviations above the mean\")\n",
    "    print(f\"The area under curve less than {n} is {area_under_curve_left}.\")\n",
    "    print(f\"The area under curve greater than {n} is {area_under_curve_right}.\")\n"
   ],
   "metadata": {
    "collapsed": false,
    "ExecuteTime": {
     "end_time": "2023-06-16T22:24:48.645438Z",
     "start_time": "2023-06-16T22:24:48.620128Z"
    }
   }
  },
  {
   "cell_type": "code",
   "execution_count": 361,
   "metadata": {
    "ExecuteTime": {
     "end_time": "2023-06-16T22:24:48.655616Z",
     "start_time": "2023-06-16T22:24:48.624198Z"
    }
   },
   "outputs": [
    {
     "name": "stdout",
     "output_type": "stream",
     "text": [
      "The mean is 172.0192602425845\n",
      "177 is 0.9979664362016731 std deviations above the mean\n",
      "The area under curve less than 177 is 0.8408521828425951.\n",
      "The area under curve greater than 177 is 0.1591478171574049.\n"
     ]
    }
   ],
   "source": [
    "get_probability(177, pop_heights)"
   ]
  },
  {
   "cell_type": "markdown",
   "metadata": {},
   "source": [
    "__Q14:__ Turning this question around — suppose we randomly pick one person and measure their height and find they are 2.00 m tall. How surprised should we be at this result, given what we know about the population distribution? In other words, how likely would it be to obtain a value at least as extreme as this? Express this as a probability. "
   ]
  },
  {
   "cell_type": "markdown",
   "metadata": {},
   "source": [
    "__A:__"
   ]
  },
  {
   "cell_type": "code",
   "execution_count": 362,
   "metadata": {
    "ExecuteTime": {
     "end_time": "2023-06-16T22:24:48.655850Z",
     "start_time": "2023-06-16T22:24:48.626412Z"
    }
   },
   "outputs": [
    {
     "name": "stdout",
     "output_type": "stream",
     "text": [
      "The mean is 172.0192602425845\n",
      "200 is 5.606363813009985 std deviations above the mean\n",
      "The area under curve less than 200 is 0.9999999896689293.\n",
      "The area under curve greater than 200 is 1.0331070665614561e-08.\n"
     ]
    }
   ],
   "source": [
    "get_probability(200, pop_heights)"
   ]
  },
  {
   "cell_type": "markdown",
   "metadata": {},
   "source": [
    "What we've just done is calculate the ***p-value*** of the observation of someone 2.00m tall (review *p*-values if you need to on p. 399 of *AoS*). We could calculate this probability by virtue of knowing the population parameters. We were then able to use the known properties of the relevant normal distribution to calculate the probability of observing a value at least as extreme as our test value."
   ]
  },
  {
   "cell_type": "markdown",
   "metadata": {},
   "source": [
    "We're about to come to a pinch, though. We've said a couple of times that we rarely, if ever, know the true population parameters; we have to estimate them from our sample and we cannot even begin to estimate the standard deviation from a single observation. \n",
    "\n",
    "This is very true and usually we have sample sizes larger than one. This means we can calculate the mean of the sample as our best estimate of the population mean and the standard deviation as our best estimate of the population standard deviation. \n",
    "\n",
    "In other words, we are now coming to deal with the sampling distributions we mentioned above as we are generally concerned with the properties of the sample means we obtain. \n",
    "\n",
    "Above, we highlighted one result from the CLT, whereby the sampling distribution (of the mean) becomes narrower and narrower with the square root of the sample size. We remind ourselves that another result from the CLT is that _even if the underlying population distribution is not normal, the sampling distribution will tend to become normal with sufficiently large sample size_. (**Check out p. 199 of AoS if you need to revise this**). This is the key driver for us 'requiring' a certain sample size, for example you may frequently see a minimum sample size of 30 stated in many places. In reality this is simply a rule of thumb; if the underlying distribution is approximately normal then your sampling distribution will already be pretty normal, but if the underlying distribution is heavily skewed then you'd want to increase your sample size."
   ]
  },
  {
   "cell_type": "markdown",
   "metadata": {},
   "source": [
    "__Q15:__ Let's now start from the position of knowing nothing about the heights of people in our town.\n",
    "* Use the random seed of 47, to randomly sample the heights of 50 townsfolk\n",
    "* Estimate the population mean using np.mean\n",
    "* Estimate the population standard deviation using np.std (remember which denominator to use!)\n",
    "* Calculate the (95%) [margin of error](https://www.statisticshowto.datasciencecentral.com/probability-and-statistics/hypothesis-testing/margin-of-error/#WhatMofE) (use the exact critial z value to 2 decimal places - [look this up](https://www.statisticshowto.datasciencecentral.com/probability-and-statistics/find-critical-values/) or use norm.ppf()) Recall that the ***margin of error*** is mentioned on p. 189 of the *AoS* and discussed in depth in that chapter). \n",
    "* Calculate the 95% Confidence Interval of the mean (***confidence intervals*** are defined on p. 385 of *AoS*) \n",
    "* Does this interval include the true population mean?"
   ]
  },
  {
   "cell_type": "markdown",
   "metadata": {},
   "source": [
    "__A:__"
   ]
  },
  {
   "cell_type": "code",
   "execution_count": 363,
   "metadata": {
    "ExecuteTime": {
     "end_time": "2023-06-16T22:24:48.656007Z",
     "start_time": "2023-06-16T22:24:48.630958Z"
    }
   },
   "outputs": [
    {
     "data": {
      "text/plain": "array([179.04949004, 168.54189384, 181.71974048, 176.56433733,\n       165.91968052])"
     },
     "execution_count": 363,
     "metadata": {},
     "output_type": "execute_result"
    }
   ],
   "source": [
    "seed(47)\n",
    "# take your sample now\n",
    "sample_pop = townsfolk_sampler(50)\n",
    "sample_pop[:5]"
   ]
  },
  {
   "cell_type": "code",
   "execution_count": 364,
   "outputs": [
    {
     "name": "stdout",
     "output_type": "stream",
     "text": [
      "The population mean is  172.7815108576788\n"
     ]
    }
   ],
   "source": [
    "sample_mean = np.mean(sample_pop)\n",
    "N = len(sample_pop)\n",
    "print(\"The population mean is \", sample_mean)"
   ],
   "metadata": {
    "collapsed": false,
    "ExecuteTime": {
     "end_time": "2023-06-16T22:24:48.656127Z",
     "start_time": "2023-06-16T22:24:48.634775Z"
    }
   }
  },
  {
   "cell_type": "code",
   "execution_count": 365,
   "outputs": [
    {
     "name": "stdout",
     "output_type": "stream",
     "text": [
      "The sample std is  4.195424364433547\n",
      "The population std is  3.752501629332905\n"
     ]
    }
   ],
   "source": [
    "\n",
    "sample_std = np.std(sample_pop, ddof=1)\n",
    "population_std = sample_std * np.sqrt((n-1)/n)\n",
    "print(\"The sample std is \", sample_std)\n",
    "print(\"The population std is \", population_std)"
   ],
   "metadata": {
    "collapsed": false,
    "ExecuteTime": {
     "end_time": "2023-06-16T22:24:48.656188Z",
     "start_time": "2023-06-16T22:24:48.639131Z"
    }
   }
  },
  {
   "cell_type": "code",
   "execution_count": 366,
   "outputs": [],
   "source": [
    "def calculate_confidence(data, confidence=0.95):\n",
    "    mean = np.mean(data)\n",
    "    std = np.std(data, ddof=1)\n",
    "    n = len(data)\n",
    "    standard_error = std / np.sqrt(n)\n",
    "\n",
    "    lower_x = mean - (std * 1)\n",
    "    upper_x = mean + (std * 1)\n",
    "\n",
    "    # lower_x = np.quantile(a=data, q=1-confidence)\n",
    "    # upper_x =np.quantile(a=data, q=confidence)\n",
    "\n",
    "    # Calculate the margin of error\n",
    "    alpha = 1 - confidence\n",
    "    probability1 = alpha / 2\n",
    "    probability2 = 1 - probability\n",
    "    print(f\"alpha is {alpha} and aplha/2  is {probability} \")\n",
    "    print(f\" z-lookup == 1-alpha == {probability1}  \")\n",
    "    z_score = norm.ppf(probability1)\n",
    "    z_score2 = norm.ppf(probability2)\n",
    "    print(f\"Z (the crtitcal value) of aplha/2 ({probability1})  is {z_score} \")\n",
    "    print(f\"Z (the crtitcal value) of 1 - aplha/2 ({probability2})  is {z_score2} \")\n",
    "    margin_of_error = z_score * standard_error\n",
    "\n",
    "    # Calculate the confidence interval\n",
    "    lower_bound = mean - margin_of_error  # mean - (Za/2 * standard_error)\n",
    "    upper_bound = mean + margin_of_error\n",
    "\n",
    "    print(f\"There are N == {n} samples\")\n",
    "    print(f\"The calculated mean is: {mean} and the std is {std}\")\n",
    "\n",
    "    print(f\"The margin of error is {round(margin_of_error,4)}\")\n",
    "\n",
    "    print(f\"The lower X for  {lower_x}\")\n",
    "    print(f\"The upper X for  {upper_x}\")\n",
    "\n",
    "    print(f\"The lower bound for {confidence} is {lower_bound}\")\n",
    "    print(f\"The upper bound for {confidence} is {upper_bound}\")\n",
    "    print(f\"We are {confidence*100}% confident that the mean is between {lower_bound} and {upper_bound}\")\n",
    "\n",
    "\n",
    "    return mean, margin_of_error, (lower_bound, upper_bound)\n"
   ],
   "metadata": {
    "collapsed": false,
    "ExecuteTime": {
     "end_time": "2023-06-16T22:24:48.754222Z",
     "start_time": "2023-06-16T22:24:48.660709Z"
    }
   }
  },
  {
   "cell_type": "code",
   "execution_count": 367,
   "metadata": {
    "ExecuteTime": {
     "end_time": "2023-06-16T22:24:48.775090Z",
     "start_time": "2023-06-16T22:24:48.734603Z"
    }
   },
   "outputs": [
    {
     "data": {
      "text/plain": "172.7815108576788"
     },
     "execution_count": 367,
     "metadata": {},
     "output_type": "execute_result"
    }
   ],
   "source": [
    "sample_mean = np.mean(sample_pop)\n",
    "sample_mean"
   ]
  },
  {
   "cell_type": "code",
   "execution_count": 368,
   "metadata": {
    "ExecuteTime": {
     "end_time": "2023-06-16T22:24:48.801046Z",
     "start_time": "2023-06-16T22:24:48.778882Z"
    }
   },
   "outputs": [
    {
     "data": {
      "text/plain": "4.195424364433547"
     },
     "execution_count": 368,
     "metadata": {},
     "output_type": "execute_result"
    }
   ],
   "source": [
    "sample_std = np.std(sample_pop, ddof=1)\n",
    "sample_std"
   ]
  },
  {
   "cell_type": "code",
   "execution_count": 369,
   "metadata": {
    "ExecuteTime": {
     "end_time": "2023-06-16T22:24:48.815858Z",
     "start_time": "2023-06-16T22:24:48.804945Z"
    }
   },
   "outputs": [
    {
     "name": "stdout",
     "output_type": "stream",
     "text": [
      "alpha is 0.050000000000000044 and aplha/2  is 0.025000000000000022 \n",
      " z-lookup == 1-alpha == 0.025000000000000022  \n",
      "Z (the crtitcal value) of aplha/2 (0.025000000000000022)  is -1.959963984540054 \n",
      "Z (the crtitcal value) of 1 - aplha/2 (0.975)  is 1.959963984540054 \n",
      "There are N == 50 samples\n",
      "The calculated mean is: 172.7815108576788 and the std is 4.195424364433547\n",
      "The margin of error is -1.1629\n",
      "The lower X for  168.58608649324526\n",
      "The upper X for  176.97693522211233\n",
      "The lower bound for 0.95 is 173.94440179196644\n",
      "The upper bound for 0.95 is 171.61861992339115\n",
      "We are 95.0% confident that the mean is between 173.94440179196644 and 171.61861992339115\n"
     ]
    },
    {
     "data": {
      "text/plain": "(172.7815108576788,\n -1.1628909342876539,\n (173.94440179196644, 171.61861992339115))"
     },
     "execution_count": 369,
     "metadata": {},
     "output_type": "execute_result"
    }
   ],
   "source": [
    "\"\"\"* Calculate the (95%) [margin of error](https://www.statisticshowto.datasciencecentral.com/probability-and-statistics/hypothesis-testing/margin-of-error/#WhatMofE) (use the exact critial z value to 2 decimal places - [look this up](https://www.statisticshowto.datasciencecentral.com/probability-and-statistics/find-critical-values/) or use norm.ppf()) Recall that the ***margin of error*** is mentioned on p. 189 of the *AoS* and discussed in depth in that chapter).\n",
    "\n",
    "\"\"\"\n",
    "\n",
    "calculate_confidence(sample_pop, 0.95)"
   ]
  },
  {
   "cell_type": "code",
   "execution_count": 370,
   "metadata": {
    "ExecuteTime": {
     "end_time": "2023-06-16T22:24:48.822570Z",
     "start_time": "2023-06-16T22:24:48.818590Z"
    }
   },
   "outputs": [
    {
     "name": "stdout",
     "output_type": "stream",
     "text": [
      "The mean is 172.7815108576788\n",
      "177 is 1.0054976030751945 std deviations above the mean\n",
      "The area under curve less than 177 is 0.842671348468183.\n",
      "The area under curve greater than 177 is 0.15732865153181697.\n"
     ]
    }
   ],
   "source": [
    "get_probability(177, sample_pop)"
   ]
  },
  {
   "cell_type": "markdown",
   "metadata": {},
   "source": [
    "__Q16:__ Above, we calculated the confidence interval using the critical z value. What is the problem with this? What requirement, or requirements, are we (strictly) failing?"
   ]
  },
  {
   "cell_type": "markdown",
   "metadata": {},
   "source": [
    "__A:__  <font color=teal> The sample size is pretty small, so perhaps the t-distribution would be more conservative<font/>"
   ]
  },
  {
   "cell_type": "markdown",
   "metadata": {},
   "source": [
    "__A:__"
   ]
  },
  {
   "cell_type": "markdown",
   "source": [
    "__Q17:__ Calculate the 95% confidence interval for the mean using the _t_ distribution. Is this wider or narrower than that based on the normal distribution above? If you're unsure, you may find this [resource](https://www.statisticshowto.datasciencecentral.com/probability-and-statistics/confidence-interval/) useful. For calculating the critical value, remember how you could calculate this for the normal distribution using norm.ppf()."
   ],
   "metadata": {
    "collapsed": false
   }
  },
  {
   "cell_type": "code",
   "execution_count": 373,
   "metadata": {
    "ExecuteTime": {
     "end_time": "2023-06-16T22:25:32.541924Z",
     "start_time": "2023-06-16T22:25:32.501077Z"
    }
   },
   "outputs": [
    {
     "data": {
      "text/plain": "1.6759050245283313"
     },
     "execution_count": 373,
     "metadata": {},
     "output_type": "execute_result"
    }
   ],
   "source": [
    "t.ppf(.95, df=50)"
   ]
  },
  {
   "cell_type": "markdown",
   "metadata": {},
   "source": [
    "This is slightly wider than the previous confidence interval. This reflects the greater uncertainty given that we are estimating population parameters from a sample."
   ]
  },
  {
   "cell_type": "markdown",
   "metadata": {},
   "source": [
    "## 4. Learning outcomes"
   ]
  },
  {
   "cell_type": "markdown",
   "metadata": {},
   "source": [
    "Having completed this project notebook, you now have hands-on experience:\n",
    "* sampling and calculating probabilities from a normal distribution\n",
    "* identifying the correct way to estimate the standard deviation of a population (the population parameter) from a sample\n",
    "* with sampling distribution and now know how the Central Limit Theorem applies\n",
    "* with how to calculate critical values and confidence intervals"
   ]
  },
  {
   "cell_type": "code",
   "execution_count": 321,
   "metadata": {
    "ExecuteTime": {
     "end_time": "2023-06-16T21:26:13.160753Z",
     "start_time": "2023-06-16T21:26:13.094862Z"
    }
   },
   "outputs": [
    {
     "name": "stdout",
     "output_type": "stream",
     "text": [
      "We are looking for the probability that the sdsm_mean will be between 8.5 and 8.899999999999999 \n",
      "\n",
      "We need to define our tolerance 0.2 in terms of standard deviations\n",
      "We can do this by calulationg an \n",
      "\tUPPER Z (pop_mean+tolerance - pop_mean) / standard_error = (8.899999999999999 - 8.7) / 0.08 == 2.499999999999991\n",
      "\tand LOWER Z (pop_mean-tolerance - pop_mean) / standard_error = (8.5 - 8.7) / 0.08 == -2.499999999999991\n",
      "\n",
      "The probabilities are: \n",
      "\tUPPER z-score== 2.499999999999991 - probability from z-table/CDF is 0.9937903346742237\n",
      "\tand LOWER z-score -2.499999999999991 proability is 0.006209665325776288\n",
      "\n",
      "- 0.006209665325776288 is the area under the curve to the LEFT of the z-score on the x-axis: -2.499999999999991\n",
      "- 0.9937903346742237 is the area under the curve to the LEFT of by z-score o the x-axis of 2.499999999999991\n",
      "- Of course, the area under the curve to the RIGHT of the upper z-score is one minus 0.9937903346742237, which is 0.00620966532577627\n",
      "\n",
      "The area under the curve between between 0.006209665325776288 and 0.9937903346742237 is  (0.9937903346742237 - 0.006209665325776288) == 0.9875806693484475  \n",
      "So there is a 98.75806693484475% proability that our sample mean is between 8.5 and 8.899999999999999\n"
     ]
    }
   ],
   "source": [
    "pop_n = 1000000\n",
    "pop_mean = 8.7\n",
    "pop_std = .4\n",
    "\n",
    "n = 25  # sample\n",
    "tolerance = 0.2  # probability that the sdsm_mean (the sampling distribution of the sample mean) will be within .2 of the population mean\n",
    "upper_mean = pop_mean + tolerance\n",
    "lower_mean = pop_mean - tolerance\n",
    "\n",
    "print(f\"We are looking for the probability that the sdsm_mean will be between {lower_mean} and {upper_mean} \" )\n",
    "\n",
    "# we know that the sdsm_mean will be roughly equal to the populaion mean\n",
    "sdsm_mean = pop_mean\n",
    "\n",
    "# standard error is just the std of the sample distribution of the sample means\n",
    "sdms_std = standard_error = (pop_std / np.sqrt(n))\n",
    "\n",
    "# test statistic\n",
    "print(f\"\\nWe need to define our tolerance {tolerance} in terms of standard deviations\")\n",
    "upper_z = (pop_mean+tolerance - pop_mean) / standard_error\n",
    "lower_z = (pop_mean-tolerance - pop_mean) / standard_error\n",
    "\n",
    "print(f\"We can do this by calulationg an \\n\\tUPPER Z (pop_mean+tolerance - pop_mean) / standard_error = ({upper_mean} - {pop_mean}) / {standard_error} == {upper_z}\")\n",
    "print(f\"\\tand LOWER Z (pop_mean-tolerance - pop_mean) / standard_error = ({lower_mean} - {pop_mean}) / {standard_error} == {lower_z}\")\n",
    "\n",
    "upper_proability = norm.cdf(upper_z)\n",
    "lower_proability = norm.cdf(lower_z)\n",
    "\n",
    "print(f\"\\nThe probabilities are: \\n\\tUPPER z-score== {upper_z} - probability from z-table/CDF is {upper_proability}\")\n",
    "print(f\"\\tand LOWER z-score {lower_z} proability is {lower_proability}\\n\")\n",
    "\n",
    "print(f\"- {lower_proability} is the area under the curve to the LEFT of the z-score on the x-axis: {lower_z}\")\n",
    "print(f\"- {upper_proability} is the area under the curve to the LEFT of by z-score o the x-axis of {upper_z}\")\n",
    "print(f\"- Of course, the area under the curve to the RIGHT of the upper z-score is one minus {upper_proability}, which is {1-upper_proability}\")\n",
    "\n",
    "proability_of_sdsm_mean = upper_proability - lower_proability\n",
    "print(f\"\\nThe area under the curve between between {lower_proability} and {upper_proability} is  ({upper_proability} - {lower_proability}) == {proability_of_sdsm_mean}  \")\n",
    "print(f\"So there is a {proability_of_sdsm_mean*100}% proability that our sample mean is between {lower_mean} and {upper_mean}\")\n",
    "\n",
    "\n"
   ]
  },
  {
   "cell_type": "code",
   "execution_count": 322,
   "outputs": [
    {
     "name": "stdout",
     "output_type": "stream",
     "text": [
      "Upper Z  2.499999999999991\n",
      "Probability of 2.499999999999991 == 0.9937903346742237\n"
     ]
    }
   ],
   "source": [
    "print(\"Upper Z \", upper_z)\n",
    "p = norm.cdf(upper_z)\n",
    "print(f\"Probability of {upper_z} == {p}\")\n"
   ],
   "metadata": {
    "collapsed": false,
    "ExecuteTime": {
     "end_time": "2023-06-16T21:26:13.160817Z",
     "start_time": "2023-06-16T21:26:13.098102Z"
    }
   }
  },
  {
   "cell_type": "code",
   "execution_count": 323,
   "outputs": [
    {
     "data": {
      "text/plain": "2.4999999999999925"
     },
     "execution_count": 323,
     "metadata": {},
     "output_type": "execute_result"
    }
   ],
   "source": [
    "norm.ppf(p)"
   ],
   "metadata": {
    "collapsed": false,
    "ExecuteTime": {
     "end_time": "2023-06-16T21:26:13.160895Z",
     "start_time": "2023-06-16T21:26:13.100993Z"
    }
   }
  },
  {
   "cell_type": "code",
   "execution_count": 324,
   "outputs": [
    {
     "name": "stdout",
     "output_type": "stream",
     "text": [
      "probability == 0.025000000000000022\n",
      "probability == 0.975\n",
      "z_score == -1.959963984540054\n",
      "z_score == 1.959963984540054\n",
      "margin of error : 8.765225405765817\n",
      "lower_mean : 452.2347745942342\n",
      "upper_mean : 469.7652254057658\n"
     ]
    }
   ],
   "source": [
    "n = 500\n",
    "sample_mean = 461\n",
    "confidence = .95\n",
    "pop_std = 100\n",
    "\n",
    "\n",
    "\n",
    "sdms_std = standard_error = (pop_std / np.sqrt(n))\n",
    "\n",
    "\n",
    "\n",
    "# what is the estimated true pop_mean?\n",
    "alpha = (1-confidence)\n",
    "probability = alpha/2\n",
    "\n",
    "print(\"probability ==\", probability)\n",
    "print(\"probability ==\", 1 - probability)\n",
    "\n",
    "z_score = norm.ppf(probability)\n",
    "z_score2 = norm.ppf(1-probability)\n",
    "\n",
    "print(\"z_score ==\", z_score)\n",
    "print(\"z_score ==\", z_score2)\n",
    "\n",
    "margin_of_error = np.abs(z_score * standard_error)\n",
    "print(\"margin of error :\", margin_of_error)\n",
    "\n",
    "upper_mean = sample_mean + margin_of_error\n",
    "lower_mean = sample_mean - margin_of_error\n",
    "\n",
    "print(\"lower_mean :\", lower_mean)\n",
    "print(\"upper_mean :\", upper_mean)"
   ],
   "metadata": {
    "collapsed": false,
    "ExecuteTime": {
     "end_time": "2023-06-16T21:26:13.160954Z",
     "start_time": "2023-06-16T21:26:13.105048Z"
    }
   }
  },
  {
   "cell_type": "code",
   "execution_count": 324,
   "outputs": [],
   "source": [],
   "metadata": {
    "collapsed": false,
    "ExecuteTime": {
     "end_time": "2023-06-16T21:26:13.160990Z",
     "start_time": "2023-06-16T21:26:13.107937Z"
    }
   }
  }
 ],
 "metadata": {
  "kernelspec": {
   "display_name": "Python 3",
   "language": "python",
   "name": "python3"
  },
  "language_info": {
   "codemirror_mode": {
    "name": "ipython",
    "version": 3
   },
   "file_extension": ".py",
   "mimetype": "text/x-python",
   "name": "python",
   "nbconvert_exporter": "python",
   "pygments_lexer": "ipython3",
   "version": "3.7.3"
  }
 },
 "nbformat": 4,
 "nbformat_minor": 2
}
