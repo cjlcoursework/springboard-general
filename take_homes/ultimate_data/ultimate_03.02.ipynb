{
 "cells": [
  {
   "cell_type": "code",
   "execution_count": 5,
   "id": "initial_id",
   "metadata": {
    "collapsed": true,
    "ExecuteTime": {
     "end_time": "2023-09-15T00:11:20.961247Z",
     "start_time": "2023-09-15T00:11:20.953187Z"
    }
   },
   "outputs": [],
   "source": [
    "import pandas as pd\n",
    "import numpy as np\n",
    "import matplotlib.pyplot as plt\n",
    "import seaborn as sns\n",
    "from sklearn.preprocessing import MinMaxScaler\n",
    "from take_homes.ultimate_data.ultimate_utils import read_ultimate_data, add_retained_label,perform_data_transforms\n",
    "from take_homes.ultimate_data.ultimate_utils import perform_featuretools_dfs\n",
    "from take_homes.ultimate_data.ultimate_utils import perform_xgboost_selection\n",
    "\n",
    "from typing import Set\n",
    "import xgboost as xgb\n",
    "\n",
    "import warnings\n",
    "\n",
    "# Suppress all warnings\n",
    "warnings.filterwarnings(\"ignore\")"
   ]
  },
  {
   "cell_type": "code",
   "execution_count": 6,
   "outputs": [],
   "source": [
    "df = read_ultimate_data()"
   ],
   "metadata": {
    "collapsed": false,
    "ExecuteTime": {
     "end_time": "2023-09-15T00:11:21.932567Z",
     "start_time": "2023-09-15T00:11:21.720556Z"
    }
   },
   "id": "11044b60a674dc5e"
  },
  {
   "cell_type": "code",
   "execution_count": 8,
   "outputs": [
    {
     "data": {
      "text/plain": "             city  trips_in_first_30_days signup_date  avg_rating_of_driver  \\\n0  King's Landing                       4  2014-01-25                   4.7   \n1         Astapor                       0  2014-01-29                   5.0   \n2         Astapor                       3  2014-01-06                   4.3   \n3  King's Landing                       9  2014-01-10                   4.6   \n4      Winterfell                      14  2014-01-27                   4.4   \n\n   avg_surge last_trip_date    phone  surge_pct  ultimate_black_user  \\\n0       1.10     2014-06-17   iPhone       15.4                 True   \n1       1.00     2014-05-05  Android        0.0                False   \n2       1.00     2014-01-07   iPhone        0.0                False   \n3       1.14     2014-06-29   iPhone       20.0                 True   \n4       1.19     2014-03-15  Android       11.8                False   \n\n   weekday_pct  avg_dist  avg_rating_by_driver  \n0         46.2      3.67                   5.0  \n1         50.0      8.26                   5.0  \n2        100.0      0.77                   5.0  \n3         80.0      2.36                   4.9  \n4         82.4      3.13                   4.9  ",
      "text/html": "<div>\n<style scoped>\n    .dataframe tbody tr th:only-of-type {\n        vertical-align: middle;\n    }\n\n    .dataframe tbody tr th {\n        vertical-align: top;\n    }\n\n    .dataframe thead th {\n        text-align: right;\n    }\n</style>\n<table border=\"1\" class=\"dataframe\">\n  <thead>\n    <tr style=\"text-align: right;\">\n      <th></th>\n      <th>city</th>\n      <th>trips_in_first_30_days</th>\n      <th>signup_date</th>\n      <th>avg_rating_of_driver</th>\n      <th>avg_surge</th>\n      <th>last_trip_date</th>\n      <th>phone</th>\n      <th>surge_pct</th>\n      <th>ultimate_black_user</th>\n      <th>weekday_pct</th>\n      <th>avg_dist</th>\n      <th>avg_rating_by_driver</th>\n    </tr>\n  </thead>\n  <tbody>\n    <tr>\n      <th>0</th>\n      <td>King's Landing</td>\n      <td>4</td>\n      <td>2014-01-25</td>\n      <td>4.7</td>\n      <td>1.10</td>\n      <td>2014-06-17</td>\n      <td>iPhone</td>\n      <td>15.4</td>\n      <td>True</td>\n      <td>46.2</td>\n      <td>3.67</td>\n      <td>5.0</td>\n    </tr>\n    <tr>\n      <th>1</th>\n      <td>Astapor</td>\n      <td>0</td>\n      <td>2014-01-29</td>\n      <td>5.0</td>\n      <td>1.00</td>\n      <td>2014-05-05</td>\n      <td>Android</td>\n      <td>0.0</td>\n      <td>False</td>\n      <td>50.0</td>\n      <td>8.26</td>\n      <td>5.0</td>\n    </tr>\n    <tr>\n      <th>2</th>\n      <td>Astapor</td>\n      <td>3</td>\n      <td>2014-01-06</td>\n      <td>4.3</td>\n      <td>1.00</td>\n      <td>2014-01-07</td>\n      <td>iPhone</td>\n      <td>0.0</td>\n      <td>False</td>\n      <td>100.0</td>\n      <td>0.77</td>\n      <td>5.0</td>\n    </tr>\n    <tr>\n      <th>3</th>\n      <td>King's Landing</td>\n      <td>9</td>\n      <td>2014-01-10</td>\n      <td>4.6</td>\n      <td>1.14</td>\n      <td>2014-06-29</td>\n      <td>iPhone</td>\n      <td>20.0</td>\n      <td>True</td>\n      <td>80.0</td>\n      <td>2.36</td>\n      <td>4.9</td>\n    </tr>\n    <tr>\n      <th>4</th>\n      <td>Winterfell</td>\n      <td>14</td>\n      <td>2014-01-27</td>\n      <td>4.4</td>\n      <td>1.19</td>\n      <td>2014-03-15</td>\n      <td>Android</td>\n      <td>11.8</td>\n      <td>False</td>\n      <td>82.4</td>\n      <td>3.13</td>\n      <td>4.9</td>\n    </tr>\n  </tbody>\n</table>\n</div>"
     },
     "execution_count": 8,
     "metadata": {},
     "output_type": "execute_result"
    }
   ],
   "source": [
    "df.dtypes"
   ],
   "metadata": {
    "collapsed": false,
    "ExecuteTime": {
     "end_time": "2023-09-15T00:11:36.802332Z",
     "start_time": "2023-09-15T00:11:36.789988Z"
    }
   },
   "id": "6a0f3c6ca2e6572c"
  },
  {
   "cell_type": "markdown",
   "source": [
    "Create the retained label"
   ],
   "metadata": {
    "collapsed": false
   },
   "id": "fc743e831c5405cc"
  },
  {
   "cell_type": "code",
   "execution_count": 4,
   "outputs": [],
   "source": [
    "add_retained_label(df)"
   ],
   "metadata": {
    "collapsed": false,
    "ExecuteTime": {
     "end_time": "2023-09-14T23:31:46.601172Z",
     "start_time": "2023-09-14T23:31:46.596485Z"
    }
   },
   "id": "af393a5aff8dee1"
  },
  {
   "cell_type": "code",
   "execution_count": 5,
   "outputs": [
    {
     "data": {
      "text/plain": "0    31690\n1    18310\nName: retained, dtype: int64"
     },
     "execution_count": 5,
     "metadata": {},
     "output_type": "execute_result"
    }
   ],
   "source": [
    "df.retained.value_counts()"
   ],
   "metadata": {
    "collapsed": false,
    "ExecuteTime": {
     "end_time": "2023-09-14T23:31:46.604492Z",
     "start_time": "2023-09-14T23:31:46.602111Z"
    }
   },
   "id": "a86468f793219dce"
  },
  {
   "cell_type": "markdown",
   "source": [
    "Perform data transformations"
   ],
   "metadata": {
    "collapsed": false
   },
   "id": "d7d603aa6ee85d22"
  },
  {
   "cell_type": "code",
   "execution_count": 6,
   "outputs": [
    {
     "data": {
      "text/plain": "city                             category\ntrips_in_first_30_days            float64\nsignup_date                datetime64[ns]\navg_rating_of_driver              float64\navg_surge                         float64\nlast_trip_date             datetime64[ns]\nphone                            category\nsurge_pct                         float64\nultimate_black_user                 int64\nweekday_pct                       float64\navg_dist                          float64\navg_rating_by_driver              float64\nretained                            int64\nsignup_month                     category\nlast_trip_month                  category\nlast_trip_days_since_su             int64\ndtype: object"
     },
     "execution_count": 6,
     "metadata": {},
     "output_type": "execute_result"
    }
   ],
   "source": [
    "perform_data_transforms(df)\n",
    "df.dtypes"
   ],
   "metadata": {
    "collapsed": false,
    "ExecuteTime": {
     "end_time": "2023-09-14T23:31:46.626241Z",
     "start_time": "2023-09-14T23:31:46.604537Z"
    }
   },
   "id": "ba2f535026af0fcd"
  },
  {
   "cell_type": "code",
   "execution_count": 7,
   "outputs": [],
   "source": [
    "features = df.loc[:, df.columns != 'retained']\n",
    "target = df[['retained']]\n"
   ],
   "metadata": {
    "collapsed": false,
    "ExecuteTime": {
     "end_time": "2023-09-14T23:31:46.635957Z",
     "start_time": "2023-09-14T23:31:46.624783Z"
    }
   },
   "id": "77ddade8fa2d113d"
  },
  {
   "cell_type": "code",
   "execution_count": 8,
   "outputs": [],
   "source": [
    "\n",
    "features['index_col'] = features.index\n",
    "target['index_col'] = target.index\n",
    "target['child_index'] = target.index\n",
    "\n",
    "feature_matrix, feature_defs = perform_featuretools_dfs(features, target)\n",
    "\n",
    "feature_matrix.drop(columns=['features.MAX(target.retained)', 'features.MEAN(target.retained)', 'features.MIN(target.retained)', 'features.SUM(target.retained)'], inplace=True)\n",
    "\n"
   ],
   "metadata": {
    "collapsed": false,
    "ExecuteTime": {
     "end_time": "2023-09-14T23:31:48.388228Z",
     "start_time": "2023-09-14T23:31:46.630510Z"
    }
   },
   "id": "61787a5df4e73d5f"
  },
  {
   "cell_type": "code",
   "execution_count": 9,
   "outputs": [
    {
     "ename": "ValueError",
     "evalue": "DataFrame.dtypes for data must be int, float, bool or category. When categorical type is supplied, The experimental DMatrix parameter`enable_categorical` must be set to `True`.  Invalid columns:city: category, signup_date: datetime64[ns], last_trip_date: datetime64[ns], phone: category, signup_month: category, last_trip_month: category",
     "output_type": "error",
     "traceback": [
      "\u001B[0;31m---------------------------------------------------------------------------\u001B[0m",
      "\u001B[0;31mValueError\u001B[0m                                Traceback (most recent call last)",
      "Cell \u001B[0;32mIn[9], line 1\u001B[0m\n\u001B[0;32m----> 1\u001B[0m top_features \u001B[38;5;241m=\u001B[39m \u001B[43mperform_xgboost_selection\u001B[49m\u001B[43m(\u001B[49m\u001B[43mfeatures\u001B[49m\u001B[43m,\u001B[49m\u001B[43m \u001B[49m\u001B[43mtarget\u001B[49m\u001B[43m)\u001B[49m\n",
      "File \u001B[0;32m~/Source/courses/datascience/Springboard/springboard-general/take_homes/ultimate_data/ultimate_utils.py:137\u001B[0m, in \u001B[0;36mperform_xgboost_selection\u001B[0;34m(X, y)\u001B[0m\n\u001B[1;32m    134\u001B[0m \u001B[38;5;28;01mdef\u001B[39;00m \u001B[38;5;21mperform_xgboost_selection\u001B[39m(X, y):\n\u001B[1;32m    135\u001B[0m \n\u001B[1;32m    136\u001B[0m     \u001B[38;5;66;03m# Create a DMatrix for X_train and X_test with categorical features enabled\u001B[39;00m\n\u001B[0;32m--> 137\u001B[0m     X_dmatrix \u001B[38;5;241m=\u001B[39m \u001B[43mDMatrix\u001B[49m\u001B[43m(\u001B[49m\u001B[43mX\u001B[49m\u001B[43m,\u001B[49m\u001B[43m \u001B[49m\u001B[43mlabel\u001B[49m\u001B[38;5;241;43m=\u001B[39;49m\u001B[43my\u001B[49m\u001B[43m,\u001B[49m\u001B[43m \u001B[49m\u001B[43menable_categorical\u001B[49m\u001B[38;5;241;43m=\u001B[39;49m\u001B[38;5;28;43;01mTrue\u001B[39;49;00m\u001B[43m)\u001B[49m\n\u001B[1;32m    139\u001B[0m     \u001B[38;5;66;03m# Create and train an XGBoost model\u001B[39;00m\n\u001B[1;32m    140\u001B[0m     params \u001B[38;5;241m=\u001B[39m {\n\u001B[1;32m    141\u001B[0m         \u001B[38;5;124m'\u001B[39m\u001B[38;5;124mobjective\u001B[39m\u001B[38;5;124m'\u001B[39m: \u001B[38;5;124m'\u001B[39m\u001B[38;5;124mbinary:logistic\u001B[39m\u001B[38;5;124m'\u001B[39m,  \u001B[38;5;66;03m# for binary classification\u001B[39;00m\n\u001B[1;32m    142\u001B[0m         \u001B[38;5;124m'\u001B[39m\u001B[38;5;124meval_metric\u001B[39m\u001B[38;5;124m'\u001B[39m: \u001B[38;5;124m'\u001B[39m\u001B[38;5;124mlogloss\u001B[39m\u001B[38;5;124m'\u001B[39m,        \u001B[38;5;66;03m# you can change the evaluation metric\u001B[39;00m\n\u001B[1;32m    143\u001B[0m         \u001B[38;5;124m'\u001B[39m\u001B[38;5;124mrandom_state\u001B[39m\u001B[38;5;124m'\u001B[39m: \u001B[38;5;241m42\u001B[39m               \u001B[38;5;66;03m# set a random state for reproducibility\u001B[39;00m\n\u001B[1;32m    144\u001B[0m     }\n",
      "File \u001B[0;32m~/anaconda3/envs/ml_play_kitchensink/lib/python3.9/site-packages/xgboost/core.py:620\u001B[0m, in \u001B[0;36mrequire_keyword_args.<locals>.throw_if.<locals>.inner_f\u001B[0;34m(*args, **kwargs)\u001B[0m\n\u001B[1;32m    618\u001B[0m \u001B[38;5;28;01mfor\u001B[39;00m k, arg \u001B[38;5;129;01min\u001B[39;00m \u001B[38;5;28mzip\u001B[39m(sig\u001B[38;5;241m.\u001B[39mparameters, args):\n\u001B[1;32m    619\u001B[0m     kwargs[k] \u001B[38;5;241m=\u001B[39m arg\n\u001B[0;32m--> 620\u001B[0m \u001B[38;5;28;01mreturn\u001B[39;00m \u001B[43mfunc\u001B[49m\u001B[43m(\u001B[49m\u001B[38;5;241;43m*\u001B[39;49m\u001B[38;5;241;43m*\u001B[39;49m\u001B[43mkwargs\u001B[49m\u001B[43m)\u001B[49m\n",
      "File \u001B[0;32m~/anaconda3/envs/ml_play_kitchensink/lib/python3.9/site-packages/xgboost/core.py:743\u001B[0m, in \u001B[0;36mDMatrix.__init__\u001B[0;34m(self, data, label, weight, base_margin, missing, silent, feature_names, feature_types, nthread, group, qid, label_lower_bound, label_upper_bound, feature_weights, enable_categorical)\u001B[0m\n\u001B[1;32m    740\u001B[0m     \u001B[38;5;28;01massert\u001B[39;00m \u001B[38;5;28mself\u001B[39m\u001B[38;5;241m.\u001B[39mhandle \u001B[38;5;129;01mis\u001B[39;00m \u001B[38;5;129;01mnot\u001B[39;00m \u001B[38;5;28;01mNone\u001B[39;00m\n\u001B[1;32m    741\u001B[0m     \u001B[38;5;28;01mreturn\u001B[39;00m\n\u001B[0;32m--> 743\u001B[0m handle, feature_names, feature_types \u001B[38;5;241m=\u001B[39m \u001B[43mdispatch_data_backend\u001B[49m\u001B[43m(\u001B[49m\n\u001B[1;32m    744\u001B[0m \u001B[43m    \u001B[49m\u001B[43mdata\u001B[49m\u001B[43m,\u001B[49m\n\u001B[1;32m    745\u001B[0m \u001B[43m    \u001B[49m\u001B[43mmissing\u001B[49m\u001B[38;5;241;43m=\u001B[39;49m\u001B[38;5;28;43mself\u001B[39;49m\u001B[38;5;241;43m.\u001B[39;49m\u001B[43mmissing\u001B[49m\u001B[43m,\u001B[49m\n\u001B[1;32m    746\u001B[0m \u001B[43m    \u001B[49m\u001B[43mthreads\u001B[49m\u001B[38;5;241;43m=\u001B[39;49m\u001B[38;5;28;43mself\u001B[39;49m\u001B[38;5;241;43m.\u001B[39;49m\u001B[43mnthread\u001B[49m\u001B[43m,\u001B[49m\n\u001B[1;32m    747\u001B[0m \u001B[43m    \u001B[49m\u001B[43mfeature_names\u001B[49m\u001B[38;5;241;43m=\u001B[39;49m\u001B[43mfeature_names\u001B[49m\u001B[43m,\u001B[49m\n\u001B[1;32m    748\u001B[0m \u001B[43m    \u001B[49m\u001B[43mfeature_types\u001B[49m\u001B[38;5;241;43m=\u001B[39;49m\u001B[43mfeature_types\u001B[49m\u001B[43m,\u001B[49m\n\u001B[1;32m    749\u001B[0m \u001B[43m    \u001B[49m\u001B[43menable_categorical\u001B[49m\u001B[38;5;241;43m=\u001B[39;49m\u001B[43menable_categorical\u001B[49m\u001B[43m,\u001B[49m\n\u001B[1;32m    750\u001B[0m \u001B[43m\u001B[49m\u001B[43m)\u001B[49m\n\u001B[1;32m    751\u001B[0m \u001B[38;5;28;01massert\u001B[39;00m handle \u001B[38;5;129;01mis\u001B[39;00m \u001B[38;5;129;01mnot\u001B[39;00m \u001B[38;5;28;01mNone\u001B[39;00m\n\u001B[1;32m    752\u001B[0m \u001B[38;5;28mself\u001B[39m\u001B[38;5;241m.\u001B[39mhandle \u001B[38;5;241m=\u001B[39m handle\n",
      "File \u001B[0;32m~/anaconda3/envs/ml_play_kitchensink/lib/python3.9/site-packages/xgboost/data.py:970\u001B[0m, in \u001B[0;36mdispatch_data_backend\u001B[0;34m(data, missing, threads, feature_names, feature_types, enable_categorical)\u001B[0m\n\u001B[1;32m    968\u001B[0m     \u001B[38;5;28;01mreturn\u001B[39;00m _from_tuple(data, missing, threads, feature_names, feature_types)\n\u001B[1;32m    969\u001B[0m \u001B[38;5;28;01mif\u001B[39;00m _is_pandas_df(data):\n\u001B[0;32m--> 970\u001B[0m     \u001B[38;5;28;01mreturn\u001B[39;00m \u001B[43m_from_pandas_df\u001B[49m\u001B[43m(\u001B[49m\u001B[43mdata\u001B[49m\u001B[43m,\u001B[49m\u001B[43m \u001B[49m\u001B[43menable_categorical\u001B[49m\u001B[43m,\u001B[49m\u001B[43m \u001B[49m\u001B[43mmissing\u001B[49m\u001B[43m,\u001B[49m\u001B[43m \u001B[49m\u001B[43mthreads\u001B[49m\u001B[43m,\u001B[49m\n\u001B[1;32m    971\u001B[0m \u001B[43m                           \u001B[49m\u001B[43mfeature_names\u001B[49m\u001B[43m,\u001B[49m\u001B[43m \u001B[49m\u001B[43mfeature_types\u001B[49m\u001B[43m)\u001B[49m\n\u001B[1;32m    972\u001B[0m \u001B[38;5;28;01mif\u001B[39;00m _is_pandas_series(data):\n\u001B[1;32m    973\u001B[0m     \u001B[38;5;28;01mreturn\u001B[39;00m _from_pandas_series(\n\u001B[1;32m    974\u001B[0m         data, missing, threads, enable_categorical, feature_names, feature_types\n\u001B[1;32m    975\u001B[0m     )\n",
      "File \u001B[0;32m~/anaconda3/envs/ml_play_kitchensink/lib/python3.9/site-packages/xgboost/data.py:417\u001B[0m, in \u001B[0;36m_from_pandas_df\u001B[0;34m(data, enable_categorical, missing, nthread, feature_names, feature_types)\u001B[0m\n\u001B[1;32m    409\u001B[0m \u001B[38;5;28;01mdef\u001B[39;00m \u001B[38;5;21m_from_pandas_df\u001B[39m(\n\u001B[1;32m    410\u001B[0m     data: DataFrame,\n\u001B[1;32m    411\u001B[0m     enable_categorical: \u001B[38;5;28mbool\u001B[39m,\n\u001B[0;32m   (...)\u001B[0m\n\u001B[1;32m    415\u001B[0m     feature_types: Optional[FeatureTypes],\n\u001B[1;32m    416\u001B[0m ) \u001B[38;5;241m-\u001B[39m\u001B[38;5;241m>\u001B[39m DispatchedDataBackendReturnType:\n\u001B[0;32m--> 417\u001B[0m     data, feature_names, feature_types \u001B[38;5;241m=\u001B[39m \u001B[43m_transform_pandas_df\u001B[49m\u001B[43m(\u001B[49m\n\u001B[1;32m    418\u001B[0m \u001B[43m        \u001B[49m\u001B[43mdata\u001B[49m\u001B[43m,\u001B[49m\u001B[43m \u001B[49m\u001B[43menable_categorical\u001B[49m\u001B[43m,\u001B[49m\u001B[43m \u001B[49m\u001B[43mfeature_names\u001B[49m\u001B[43m,\u001B[49m\u001B[43m \u001B[49m\u001B[43mfeature_types\u001B[49m\n\u001B[1;32m    419\u001B[0m \u001B[43m    \u001B[49m\u001B[43m)\u001B[49m\n\u001B[1;32m    420\u001B[0m     \u001B[38;5;28;01mreturn\u001B[39;00m _from_numpy_array(data, missing, nthread, feature_names, feature_types)\n",
      "File \u001B[0;32m~/anaconda3/envs/ml_play_kitchensink/lib/python3.9/site-packages/xgboost/data.py:391\u001B[0m, in \u001B[0;36m_transform_pandas_df\u001B[0;34m(data, enable_categorical, feature_names, feature_types, meta, meta_type)\u001B[0m\n\u001B[1;32m    379\u001B[0m \u001B[38;5;28;01mfrom\u001B[39;00m \u001B[38;5;21;01mpandas\u001B[39;00m\u001B[38;5;21;01m.\u001B[39;00m\u001B[38;5;21;01mapi\u001B[39;00m\u001B[38;5;21;01m.\u001B[39;00m\u001B[38;5;21;01mtypes\u001B[39;00m \u001B[38;5;28;01mimport\u001B[39;00m (\n\u001B[1;32m    380\u001B[0m     is_sparse,\n\u001B[1;32m    381\u001B[0m     is_categorical_dtype,\n\u001B[1;32m    382\u001B[0m )\n\u001B[1;32m    384\u001B[0m \u001B[38;5;28;01mif\u001B[39;00m \u001B[38;5;129;01mnot\u001B[39;00m \u001B[38;5;28mall\u001B[39m(\n\u001B[1;32m    385\u001B[0m     dtype\u001B[38;5;241m.\u001B[39mname \u001B[38;5;129;01min\u001B[39;00m _pandas_dtype_mapper\n\u001B[1;32m    386\u001B[0m     \u001B[38;5;129;01mor\u001B[39;00m is_sparse(dtype)\n\u001B[0;32m   (...)\u001B[0m\n\u001B[1;32m    389\u001B[0m     \u001B[38;5;28;01mfor\u001B[39;00m dtype \u001B[38;5;129;01min\u001B[39;00m data\u001B[38;5;241m.\u001B[39mdtypes\n\u001B[1;32m    390\u001B[0m ):\n\u001B[0;32m--> 391\u001B[0m     \u001B[43m_invalid_dataframe_dtype\u001B[49m\u001B[43m(\u001B[49m\u001B[43mdata\u001B[49m\u001B[43m)\u001B[49m\n\u001B[1;32m    393\u001B[0m feature_names, feature_types \u001B[38;5;241m=\u001B[39m _pandas_feature_info(\n\u001B[1;32m    394\u001B[0m     data, meta, feature_names, feature_types, enable_categorical\n\u001B[1;32m    395\u001B[0m )\n\u001B[1;32m    397\u001B[0m transformed \u001B[38;5;241m=\u001B[39m _pandas_cat_null(data)\n",
      "File \u001B[0;32m~/anaconda3/envs/ml_play_kitchensink/lib/python3.9/site-packages/xgboost/data.py:283\u001B[0m, in \u001B[0;36m_invalid_dataframe_dtype\u001B[0;34m(data)\u001B[0m\n\u001B[1;32m    281\u001B[0m type_err \u001B[38;5;241m=\u001B[39m \u001B[38;5;124m\"\u001B[39m\u001B[38;5;124mDataFrame.dtypes for data must be int, float, bool or category.\u001B[39m\u001B[38;5;124m\"\u001B[39m\n\u001B[1;32m    282\u001B[0m msg \u001B[38;5;241m=\u001B[39m \u001B[38;5;124mf\u001B[39m\u001B[38;5;124m\"\"\"\u001B[39m\u001B[38;5;132;01m{\u001B[39;00mtype_err\u001B[38;5;132;01m}\u001B[39;00m\u001B[38;5;124m \u001B[39m\u001B[38;5;132;01m{\u001B[39;00m_ENABLE_CAT_ERR\u001B[38;5;132;01m}\u001B[39;00m\u001B[38;5;124m \u001B[39m\u001B[38;5;132;01m{\u001B[39;00merr\u001B[38;5;132;01m}\u001B[39;00m\u001B[38;5;124m\"\"\"\u001B[39m\n\u001B[0;32m--> 283\u001B[0m \u001B[38;5;28;01mraise\u001B[39;00m \u001B[38;5;167;01mValueError\u001B[39;00m(msg)\n",
      "\u001B[0;31mValueError\u001B[0m: DataFrame.dtypes for data must be int, float, bool or category. When categorical type is supplied, The experimental DMatrix parameter`enable_categorical` must be set to `True`.  Invalid columns:city: category, signup_date: datetime64[ns], last_trip_date: datetime64[ns], phone: category, signup_month: category, last_trip_month: category"
     ]
    }
   ],
   "source": [
    "top_features = perform_xgboost_selection(features, target)"
   ],
   "metadata": {
    "collapsed": false,
    "ExecuteTime": {
     "end_time": "2023-09-14T23:31:51.591166Z",
     "start_time": "2023-09-14T23:31:50.928621Z"
    }
   },
   "id": "b207ad7244922433"
  },
  {
   "cell_type": "code",
   "execution_count": null,
   "outputs": [],
   "source": [],
   "metadata": {
    "collapsed": false
   },
   "id": "6bfb15bba61ac24b"
  },
  {
   "cell_type": "code",
   "execution_count": null,
   "outputs": [],
   "source": [],
   "metadata": {
    "collapsed": false
   },
   "id": "2dbcc856ad9cbc1"
  },
  {
   "cell_type": "code",
   "execution_count": null,
   "outputs": [],
   "source": [
    "model.fit(X, y)\n",
    "\n",
    "# Get feature importance scores\n",
    "importance_scores = model.feature_importances_\n",
    "\n",
    "# Sort feature importance scores\n",
    "sorted_indices = importance_scores.argsort()[::-1]\n",
    "sorted_scores = importance_scores[sorted_indices]\n",
    "feature_names = X.columns[sorted_indices]\n",
    "\n",
    "# Get the top 'n' feature importance scores and names\n",
    "top_scores = sorted_scores[:top_n]\n",
    "top_features = feature_names[:top_n]\n",
    "df = pd.DataFrame({'y': top_features, 'corr': top_scores})\n",
    "\n",
    "set_xg_cols = set(top_features)\n",
    "return df, set(top_features)"
   ],
   "metadata": {
    "collapsed": false
   },
   "id": "d6e8866c969acc43"
  },
  {
   "cell_type": "code",
   "execution_count": null,
   "outputs": [],
   "source": [
    "from typing import Any\n",
    "\n",
    "\n",
    "def plot_correlations(scores: Any, features: Any, title: str):\n",
    "    # Plot feature importance\n",
    "    plt.figure(figsize=(10, 10))\n",
    "    plt.barh(range(len(scores)), scores, align='center')\n",
    "    plt.yticks(range(len(features)), features)\n",
    "    plt.xlabel('Score')\n",
    "    plt.ylabel('Column')\n",
    "    plt.title(title)\n",
    "    plt.show()\n"
   ],
   "metadata": {
    "collapsed": false
   },
   "id": "2992a27543545e34"
  },
  {
   "cell_type": "code",
   "execution_count": null,
   "outputs": [],
   "source": [
    "plot_correlations(\n",
    "\n",
    "\n",
    "    self.top_features['corr'],\n",
    "    self.top_features['y'], \"Feature Importance\")\n",
    "\n",
    "feature_importances, \"Cheese\")"
   ],
   "metadata": {
    "collapsed": false
   },
   "id": "ba7ff2d5b8d4c942"
  },
  {
   "cell_type": "code",
   "execution_count": null,
   "outputs": [],
   "source": [],
   "metadata": {
    "collapsed": false
   },
   "id": "f28ce4f388af5d79"
  }
 ],
 "metadata": {
  "kernelspec": {
   "display_name": "Python 3",
   "language": "python",
   "name": "python3"
  },
  "language_info": {
   "codemirror_mode": {
    "name": "ipython",
    "version": 2
   },
   "file_extension": ".py",
   "mimetype": "text/x-python",
   "name": "python",
   "nbconvert_exporter": "python",
   "pygments_lexer": "ipython2",
   "version": "2.7.6"
  }
 },
 "nbformat": 4,
 "nbformat_minor": 5
}
